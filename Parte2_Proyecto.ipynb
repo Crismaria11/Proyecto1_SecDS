{
 "cells": [
  {
   "cell_type": "markdown",
   "id": "388143b2",
   "metadata": {},
   "source": [
    "# Proyecto 1\n",
    "\n",
    "## Continuación de Proyecto\n",
    "\n",
    "Cristina Bautista - 161260\n",
    "\n",
    "Abril Palencia - 18198 "
   ]
  },
  {
   "cell_type": "code",
   "execution_count": 1,
   "id": "a9dd9edf",
   "metadata": {},
   "outputs": [],
   "source": [
    "import pandas as pd\n",
    "import numpy as np\n",
    "import matplotlib.pyplot as plt\n",
    "import seaborn as sns\n",
    "from urllib.parse import urlparse\n",
    "# from pandas_profiling import ProfileReport\n",
    "import re\n",
    "\n",
    "\n",
    "%matplotlib inline"
   ]
  },
  {
   "cell_type": "code",
   "execution_count": 2,
   "id": "6231367c",
   "metadata": {},
   "outputs": [],
   "source": [
    "df = pd.read_csv('dataset/final.csv')"
   ]
  },
  {
   "cell_type": "code",
   "execution_count": 3,
   "id": "06c78f52",
   "metadata": {},
   "outputs": [
    {
     "name": "stdout",
     "output_type": "stream",
     "text": [
      "<class 'pandas.core.frame.DataFrame'>\n",
      "RangeIndex: 10000000 entries, 0 to 9999999\n",
      "Data columns (total 32 columns):\n",
      " #   Column                      Dtype\n",
      "---  ------                      -----\n",
      " 0   Unnamed: 0                  int64\n",
      " 1   BIFLOW_DIRECTION            int64\n",
      " 2   DIRECTION                   int64\n",
      " 3   FIRST_SWITCHED              int64\n",
      " 4   FLOW_DURATION_MILLISECONDS  int64\n",
      " 5   FLOW_END_MILLISECONDS       int64\n",
      " 6   FLOW_ID                     int64\n",
      " 7   FLOW_START_MILLISECONDS     int64\n",
      " 8   IN_BYTES                    int64\n",
      " 9   IN_PKTS                     int64\n",
      " 10  L4_DST_PORT                 int64\n",
      " 11  L4_SRC_PORT                 int64\n",
      " 12  LAST_SWITCHED               int64\n",
      " 13  OOORDER_IN_PKTS             int64\n",
      " 14  OOORDER_OUT_PKTS            int64\n",
      " 15  OUT_BYTES                   int64\n",
      " 16  OUT_PKTS                    int64\n",
      " 17  PROTOCOL                    int64\n",
      " 18  TCP_FLAGS                   int64\n",
      " 19  TCP_WIN_MAX_IN              int64\n",
      " 20  TCP_WIN_MAX_OUT             int64\n",
      " 21  TCP_WIN_MIN_IN              int64\n",
      " 22  TCP_WIN_MIN_OUT             int64\n",
      " 23  TCP_WIN_MSS_IN              int64\n",
      " 24  TCP_WIN_MSS_OUT             int64\n",
      " 25  TCP_WIN_SCALE_IN            int64\n",
      " 26  TCP_WIN_SCALE_OUT           int64\n",
      " 27  SRC_TOS                     int64\n",
      " 28  DST_TOS                     int64\n",
      " 29  SAMPLING_INTERVAL           int64\n",
      " 30  TOTAL_FLOWS_EXP             int64\n",
      " 31  LABEL                       int64\n",
      "dtypes: int64(32)\n",
      "memory usage: 2.4 GB\n"
     ]
    }
   ],
   "source": [
    "df.info()"
   ]
  },
  {
   "cell_type": "code",
   "execution_count": 4,
   "id": "943370e0",
   "metadata": {},
   "outputs": [],
   "source": [
    "from imblearn import over_sampling\n",
    "from imblearn.over_sampling import RandomOverSampler, SMOTE \n",
    "from collections import Counter"
   ]
  },
  {
   "cell_type": "code",
   "execution_count": 5,
   "id": "07e7dba4",
   "metadata": {},
   "outputs": [
    {
     "data": {
      "text/plain": [
       "[(0, 8574490), (1, 575486), (2, 218460), (3, 631564)]"
      ]
     },
     "execution_count": 5,
     "metadata": {},
     "output_type": "execute_result"
    }
   ],
   "source": [
    "sorted(Counter(df['LABEL']).items())"
   ]
  },
  {
   "cell_type": "code",
   "execution_count": 6,
   "id": "2a0c05c2",
   "metadata": {},
   "outputs": [
    {
     "data": {
      "text/plain": [
       "0    8574490\n",
       "3     631564\n",
       "1     575486\n",
       "2     218460\n",
       "Name: LABEL, dtype: int64"
      ]
     },
     "execution_count": 6,
     "metadata": {},
     "output_type": "execute_result"
    },
    {
     "data": {
      "image/png": "[encoded data removed]",
      "text/plain": [
       "<Figure size 432x288 with 1 Axes>"
      ]
     },
     "metadata": {
      "needs_background": "light"
     },
     "output_type": "display_data"
    }
   ],
   "source": [
    "pd.value_counts(df['LABEL']).plot.bar()\n",
    "plt.title('Label s histogram')\n",
    "plt.xlabel('Labels')\n",
    "plt.ylabel('Frequency')\n",
    "df['LABEL'].value_counts()"
   ]
  },
  {
   "cell_type": "code",
   "execution_count": 7,
   "id": "d413f524",
   "metadata": {},
   "outputs": [],
   "source": [
    "X = df\n",
    "y = df[['LABEL']]\n",
    "X = X.drop(['LABEL'], axis=1)"
   ]
  },
  {
   "cell_type": "code",
   "execution_count": 8,
   "id": "1131119d",
   "metadata": {},
   "outputs": [
    {
     "data": {
      "text/plain": [
       "LABEL\n",
       "0        8574490\n",
       "3         631564\n",
       "1         575486\n",
       "2         218460\n",
       "dtype: int64"
      ]
     },
     "execution_count": 8,
     "metadata": {},
     "output_type": "execute_result"
    }
   ],
   "source": [
    "y.value_counts()"
   ]
  },
  {
   "cell_type": "code",
   "execution_count": 9,
   "id": "e1679625",
   "metadata": {},
   "outputs": [
    {
     "data": {
      "text/plain": [
       "((10000000, 31), (10000000, 1))"
      ]
     },
     "execution_count": 9,
     "metadata": {},
     "output_type": "execute_result"
    }
   ],
   "source": [
    "X.shape, y.shape"
   ]
  },
  {
   "cell_type": "code",
   "execution_count": 10,
   "id": "ac1e12ac",
   "metadata": {},
   "outputs": [],
   "source": [
    "ros = RandomOverSampler(random_state=5)\n",
    "X_resample, y_resample = ros.fit_resample(X, y)"
   ]
  },
  {
   "cell_type": "code",
   "execution_count": 11,
   "id": "ee7d0368",
   "metadata": {},
   "outputs": [
    {
     "data": {
      "text/plain": [
       "((34297960, 31), (34297960, 1))"
      ]
     },
     "execution_count": 11,
     "metadata": {},
     "output_type": "execute_result"
    }
   ],
   "source": [
    "X_resample.shape, y_resample.shape"
   ]
  },
  {
   "cell_type": "code",
   "execution_count": 12,
   "id": "81a05126",
   "metadata": {},
   "outputs": [],
   "source": [
    "#X_resample.drop(['LABEL'], axis=1)"
   ]
  },
  {
   "cell_type": "code",
   "execution_count": 13,
   "id": "8150453e",
   "metadata": {},
   "outputs": [
    {
     "data": {
      "text/html": [
       "<div>\n",
       "<style scoped>\n",
       "    .dataframe tbody tr th:only-of-type {\n",
       "        vertical-align: middle;\n",
       "    }\n",
       "\n",
       "    .dataframe tbody tr th {\n",
       "        vertical-align: top;\n",
       "    }\n",
       "\n",
       "    .dataframe thead th {\n",
       "        text-align: right;\n",
       "    }\n",
       "</style>\n",
       "<table border=\"1\" class=\"dataframe\">\n",
       "  <thead>\n",
       "    <tr style=\"text-align: right;\">\n",
       "      <th></th>\n",
       "      <th>Unnamed: 0</th>\n",
       "      <th>BIFLOW_DIRECTION</th>\n",
       "      <th>DIRECTION</th>\n",
       "      <th>FIRST_SWITCHED</th>\n",
       "      <th>FLOW_DURATION_MILLISECONDS</th>\n",
       "      <th>FLOW_END_MILLISECONDS</th>\n",
       "      <th>FLOW_ID</th>\n",
       "      <th>FLOW_START_MILLISECONDS</th>\n",
       "      <th>IN_BYTES</th>\n",
       "      <th>IN_PKTS</th>\n",
       "      <th>...</th>\n",
       "      <th>TCP_WIN_MIN_IN</th>\n",
       "      <th>TCP_WIN_MIN_OUT</th>\n",
       "      <th>TCP_WIN_MSS_IN</th>\n",
       "      <th>TCP_WIN_MSS_OUT</th>\n",
       "      <th>TCP_WIN_SCALE_IN</th>\n",
       "      <th>TCP_WIN_SCALE_OUT</th>\n",
       "      <th>SRC_TOS</th>\n",
       "      <th>DST_TOS</th>\n",
       "      <th>SAMPLING_INTERVAL</th>\n",
       "      <th>TOTAL_FLOWS_EXP</th>\n",
       "    </tr>\n",
       "  </thead>\n",
       "  <tbody>\n",
       "    <tr>\n",
       "      <th>0</th>\n",
       "      <td>486885</td>\n",
       "      <td>1</td>\n",
       "      <td>0</td>\n",
       "      <td>1622437206</td>\n",
       "      <td>0</td>\n",
       "      <td>1622437206455</td>\n",
       "      <td>7549130</td>\n",
       "      <td>1622437206455</td>\n",
       "      <td>40</td>\n",
       "      <td>1</td>\n",
       "      <td>...</td>\n",
       "      <td>1024</td>\n",
       "      <td>0</td>\n",
       "      <td>0</td>\n",
       "      <td>0</td>\n",
       "      <td>0</td>\n",
       "      <td>0</td>\n",
       "      <td>0</td>\n",
       "      <td>0</td>\n",
       "      <td>1</td>\n",
       "      <td>7549130</td>\n",
       "    </tr>\n",
       "    <tr>\n",
       "      <th>1</th>\n",
       "      <td>9617043</td>\n",
       "      <td>1</td>\n",
       "      <td>0</td>\n",
       "      <td>1622440145</td>\n",
       "      <td>0</td>\n",
       "      <td>1622440145780</td>\n",
       "      <td>16679288</td>\n",
       "      <td>1622440145780</td>\n",
       "      <td>40</td>\n",
       "      <td>1</td>\n",
       "      <td>...</td>\n",
       "      <td>1024</td>\n",
       "      <td>0</td>\n",
       "      <td>0</td>\n",
       "      <td>0</td>\n",
       "      <td>0</td>\n",
       "      <td>0</td>\n",
       "      <td>0</td>\n",
       "      <td>0</td>\n",
       "      <td>1</td>\n",
       "      <td>16679288</td>\n",
       "    </tr>\n",
       "    <tr>\n",
       "      <th>2</th>\n",
       "      <td>601904</td>\n",
       "      <td>1</td>\n",
       "      <td>0</td>\n",
       "      <td>1622437231</td>\n",
       "      <td>0</td>\n",
       "      <td>1622437231644</td>\n",
       "      <td>7664149</td>\n",
       "      <td>1622437231643</td>\n",
       "      <td>40</td>\n",
       "      <td>1</td>\n",
       "      <td>...</td>\n",
       "      <td>1024</td>\n",
       "      <td>0</td>\n",
       "      <td>0</td>\n",
       "      <td>0</td>\n",
       "      <td>0</td>\n",
       "      <td>0</td>\n",
       "      <td>0</td>\n",
       "      <td>0</td>\n",
       "      <td>1</td>\n",
       "      <td>7664149</td>\n",
       "    </tr>\n",
       "    <tr>\n",
       "      <th>3</th>\n",
       "      <td>7965335</td>\n",
       "      <td>1</td>\n",
       "      <td>0</td>\n",
       "      <td>1622438512</td>\n",
       "      <td>27</td>\n",
       "      <td>1622438512243</td>\n",
       "      <td>15027580</td>\n",
       "      <td>1622438512215</td>\n",
       "      <td>73</td>\n",
       "      <td>1</td>\n",
       "      <td>...</td>\n",
       "      <td>0</td>\n",
       "      <td>0</td>\n",
       "      <td>0</td>\n",
       "      <td>0</td>\n",
       "      <td>0</td>\n",
       "      <td>0</td>\n",
       "      <td>0</td>\n",
       "      <td>0</td>\n",
       "      <td>1</td>\n",
       "      <td>15027580</td>\n",
       "    </tr>\n",
       "    <tr>\n",
       "      <th>4</th>\n",
       "      <td>26062581</td>\n",
       "      <td>1</td>\n",
       "      <td>0</td>\n",
       "      <td>1622451497</td>\n",
       "      <td>14</td>\n",
       "      <td>1622451497063</td>\n",
       "      <td>33124826</td>\n",
       "      <td>1622451497049</td>\n",
       "      <td>41</td>\n",
       "      <td>1</td>\n",
       "      <td>...</td>\n",
       "      <td>517</td>\n",
       "      <td>8</td>\n",
       "      <td>0</td>\n",
       "      <td>0</td>\n",
       "      <td>0</td>\n",
       "      <td>0</td>\n",
       "      <td>0</td>\n",
       "      <td>0</td>\n",
       "      <td>1</td>\n",
       "      <td>33124826</td>\n",
       "    </tr>\n",
       "    <tr>\n",
       "      <th>...</th>\n",
       "      <td>...</td>\n",
       "      <td>...</td>\n",
       "      <td>...</td>\n",
       "      <td>...</td>\n",
       "      <td>...</td>\n",
       "      <td>...</td>\n",
       "      <td>...</td>\n",
       "      <td>...</td>\n",
       "      <td>...</td>\n",
       "      <td>...</td>\n",
       "      <td>...</td>\n",
       "      <td>...</td>\n",
       "      <td>...</td>\n",
       "      <td>...</td>\n",
       "      <td>...</td>\n",
       "      <td>...</td>\n",
       "      <td>...</td>\n",
       "      <td>...</td>\n",
       "      <td>...</td>\n",
       "      <td>...</td>\n",
       "      <td>...</td>\n",
       "    </tr>\n",
       "    <tr>\n",
       "      <th>34297955</th>\n",
       "      <td>2290662</td>\n",
       "      <td>1</td>\n",
       "      <td>0</td>\n",
       "      <td>1616670232</td>\n",
       "      <td>0</td>\n",
       "      <td>1616670232320</td>\n",
       "      <td>4584230</td>\n",
       "      <td>1616670232319</td>\n",
       "      <td>44</td>\n",
       "      <td>1</td>\n",
       "      <td>...</td>\n",
       "      <td>1024</td>\n",
       "      <td>0</td>\n",
       "      <td>1460</td>\n",
       "      <td>0</td>\n",
       "      <td>0</td>\n",
       "      <td>0</td>\n",
       "      <td>0</td>\n",
       "      <td>0</td>\n",
       "      <td>1</td>\n",
       "      <td>4584230</td>\n",
       "    </tr>\n",
       "    <tr>\n",
       "      <th>34297956</th>\n",
       "      <td>1317953</td>\n",
       "      <td>1</td>\n",
       "      <td>0</td>\n",
       "      <td>1616666106</td>\n",
       "      <td>0</td>\n",
       "      <td>1616666106221</td>\n",
       "      <td>3611521</td>\n",
       "      <td>1616666106221</td>\n",
       "      <td>44</td>\n",
       "      <td>1</td>\n",
       "      <td>...</td>\n",
       "      <td>1024</td>\n",
       "      <td>0</td>\n",
       "      <td>1460</td>\n",
       "      <td>0</td>\n",
       "      <td>0</td>\n",
       "      <td>0</td>\n",
       "      <td>0</td>\n",
       "      <td>0</td>\n",
       "      <td>1</td>\n",
       "      <td>3611521</td>\n",
       "    </tr>\n",
       "    <tr>\n",
       "      <th>34297957</th>\n",
       "      <td>1077376</td>\n",
       "      <td>1</td>\n",
       "      <td>0</td>\n",
       "      <td>1616664591</td>\n",
       "      <td>0</td>\n",
       "      <td>1616664591994</td>\n",
       "      <td>3370944</td>\n",
       "      <td>1616664591993</td>\n",
       "      <td>44</td>\n",
       "      <td>1</td>\n",
       "      <td>...</td>\n",
       "      <td>1024</td>\n",
       "      <td>0</td>\n",
       "      <td>1460</td>\n",
       "      <td>0</td>\n",
       "      <td>0</td>\n",
       "      <td>0</td>\n",
       "      <td>0</td>\n",
       "      <td>0</td>\n",
       "      <td>1</td>\n",
       "      <td>3370944</td>\n",
       "    </tr>\n",
       "    <tr>\n",
       "      <th>34297958</th>\n",
       "      <td>1367892</td>\n",
       "      <td>1</td>\n",
       "      <td>0</td>\n",
       "      <td>1616666317</td>\n",
       "      <td>0</td>\n",
       "      <td>1616666317804</td>\n",
       "      <td>3661460</td>\n",
       "      <td>1616666317803</td>\n",
       "      <td>44</td>\n",
       "      <td>1</td>\n",
       "      <td>...</td>\n",
       "      <td>1024</td>\n",
       "      <td>0</td>\n",
       "      <td>1460</td>\n",
       "      <td>0</td>\n",
       "      <td>0</td>\n",
       "      <td>0</td>\n",
       "      <td>0</td>\n",
       "      <td>0</td>\n",
       "      <td>1</td>\n",
       "      <td>3661460</td>\n",
       "    </tr>\n",
       "    <tr>\n",
       "      <th>34297959</th>\n",
       "      <td>1235924</td>\n",
       "      <td>1</td>\n",
       "      <td>0</td>\n",
       "      <td>1616665765</td>\n",
       "      <td>0</td>\n",
       "      <td>1616665765994</td>\n",
       "      <td>3529492</td>\n",
       "      <td>1616665765993</td>\n",
       "      <td>44</td>\n",
       "      <td>1</td>\n",
       "      <td>...</td>\n",
       "      <td>1024</td>\n",
       "      <td>0</td>\n",
       "      <td>1460</td>\n",
       "      <td>0</td>\n",
       "      <td>0</td>\n",
       "      <td>0</td>\n",
       "      <td>0</td>\n",
       "      <td>0</td>\n",
       "      <td>1</td>\n",
       "      <td>3529492</td>\n",
       "    </tr>\n",
       "  </tbody>\n",
       "</table>\n",
       "<p>34297960 rows × 31 columns</p>\n",
       "</div>"
      ],
      "text/plain": [
       "          Unnamed: 0  BIFLOW_DIRECTION  DIRECTION  FIRST_SWITCHED  \\\n",
       "0             486885                 1          0      1622437206   \n",
       "1            9617043                 1          0      1622440145   \n",
       "2             601904                 1          0      1622437231   \n",
       "3            7965335                 1          0      1622438512   \n",
       "4           26062581                 1          0      1622451497   \n",
       "...              ...               ...        ...             ...   \n",
       "34297955     2290662                 1          0      1616670232   \n",
       "34297956     1317953                 1          0      1616666106   \n",
       "34297957     1077376                 1          0      1616664591   \n",
       "34297958     1367892                 1          0      1616666317   \n",
       "34297959     1235924                 1          0      1616665765   \n",
       "\n",
       "          FLOW_DURATION_MILLISECONDS  FLOW_END_MILLISECONDS   FLOW_ID  \\\n",
       "0                                  0          1622437206455   7549130   \n",
       "1                                  0          1622440145780  16679288   \n",
       "2                                  0          1622437231644   7664149   \n",
       "3                                 27          1622438512243  15027580   \n",
       "4                                 14          1622451497063  33124826   \n",
       "...                              ...                    ...       ...   \n",
       "34297955                           0          1616670232320   4584230   \n",
       "34297956                           0          1616666106221   3611521   \n",
       "34297957                           0          1616664591994   3370944   \n",
       "34297958                           0          1616666317804   3661460   \n",
       "34297959                           0          1616665765994   3529492   \n",
       "\n",
       "          FLOW_START_MILLISECONDS  IN_BYTES  IN_PKTS  ...  TCP_WIN_MIN_IN  \\\n",
       "0                   1622437206455        40        1  ...            1024   \n",
       "1                   1622440145780        40        1  ...            1024   \n",
       "2                   1622437231643        40        1  ...            1024   \n",
       "3                   1622438512215        73        1  ...               0   \n",
       "4                   1622451497049        41        1  ...             517   \n",
       "...                           ...       ...      ...  ...             ...   \n",
       "34297955            1616670232319        44        1  ...            1024   \n",
       "34297956            1616666106221        44        1  ...            1024   \n",
       "34297957            1616664591993        44        1  ...            1024   \n",
       "34297958            1616666317803        44        1  ...            1024   \n",
       "34297959            1616665765993        44        1  ...            1024   \n",
       "\n",
       "          TCP_WIN_MIN_OUT  TCP_WIN_MSS_IN  TCP_WIN_MSS_OUT  TCP_WIN_SCALE_IN  \\\n",
       "0                       0               0                0                 0   \n",
       "1                       0               0                0                 0   \n",
       "2                       0               0                0                 0   \n",
       "3                       0               0                0                 0   \n",
       "4                       8               0                0                 0   \n",
       "...                   ...             ...              ...               ...   \n",
       "34297955                0            1460                0                 0   \n",
       "34297956                0            1460                0                 0   \n",
       "34297957                0            1460                0                 0   \n",
       "34297958                0            1460                0                 0   \n",
       "34297959                0            1460                0                 0   \n",
       "\n",
       "          TCP_WIN_SCALE_OUT  SRC_TOS  DST_TOS  SAMPLING_INTERVAL  \\\n",
       "0                         0        0        0                  1   \n",
       "1                         0        0        0                  1   \n",
       "2                         0        0        0                  1   \n",
       "3                         0        0        0                  1   \n",
       "4                         0        0        0                  1   \n",
       "...                     ...      ...      ...                ...   \n",
       "34297955                  0        0        0                  1   \n",
       "34297956                  0        0        0                  1   \n",
       "34297957                  0        0        0                  1   \n",
       "34297958                  0        0        0                  1   \n",
       "34297959                  0        0        0                  1   \n",
       "\n",
       "          TOTAL_FLOWS_EXP  \n",
       "0                 7549130  \n",
       "1                16679288  \n",
       "2                 7664149  \n",
       "3                15027580  \n",
       "4                33124826  \n",
       "...                   ...  \n",
       "34297955          4584230  \n",
       "34297956          3611521  \n",
       "34297957          3370944  \n",
       "34297958          3661460  \n",
       "34297959          3529492  \n",
       "\n",
       "[34297960 rows x 31 columns]"
      ]
     },
     "execution_count": 13,
     "metadata": {},
     "output_type": "execute_result"
    }
   ],
   "source": [
    "X_resample"
   ]
  },
  {
   "cell_type": "code",
   "execution_count": 14,
   "id": "8d9f86b3",
   "metadata": {},
   "outputs": [
    {
     "data": {
      "text/plain": [
       "LABEL\n",
       "0        8574490\n",
       "1        8574490\n",
       "2        8574490\n",
       "3        8574490\n",
       "dtype: int64"
      ]
     },
     "execution_count": 14,
     "metadata": {},
     "output_type": "execute_result"
    }
   ],
   "source": [
    "y_resample.value_counts()"
   ]
  },
  {
   "cell_type": "code",
   "execution_count": 15,
   "id": "9c5faaf7",
   "metadata": {},
   "outputs": [],
   "source": [
    "from sklearn.model_selection import train_test_split"
   ]
  },
  {
   "cell_type": "code",
   "execution_count": 16,
   "id": "0ae454b5",
   "metadata": {},
   "outputs": [],
   "source": [
    "X_train, X_val_test, y_train, y_val_test = train_test_split(X_resample, y_resample, train_size = 0.55, \n",
    "                                                             test_size=0.45, random_state = 0)"
   ]
  },
  {
   "cell_type": "code",
   "execution_count": 17,
   "id": "372d408a",
   "metadata": {},
   "outputs": [],
   "source": [
    "X_val, X_test, y_val, y_test = train_test_split(X_val_test, y_val_test, train_size = 0.67, \n",
    "                                                             test_size=0.33, random_state = 0)"
   ]
  },
  {
   "cell_type": "code",
   "execution_count": 18,
   "id": "91d962b4",
   "metadata": {},
   "outputs": [],
   "source": [
    "from sklearn.tree import DecisionTreeClassifier"
   ]
  },
  {
   "cell_type": "code",
   "execution_count": 19,
   "id": "1d88a193",
   "metadata": {},
   "outputs": [],
   "source": [
    "dTree = DecisionTreeClassifier()\n",
    "dTree = dTree.fit(X_train, y_train)"
   ]
  },
  {
   "cell_type": "code",
   "execution_count": 20,
   "id": "5fb64b59",
   "metadata": {},
   "outputs": [],
   "source": [
    "from sklearn.metrics import accuracy_score, confusion_matrix, classification_report"
   ]
  },
  {
   "cell_type": "code",
   "execution_count": 21,
   "id": "823e4c13",
   "metadata": {},
   "outputs": [],
   "source": [
    "target_prediction = dTree.predict(X_val)\n",
    "y_prob_pred = dTree.predict_proba(X_val)"
   ]
  },
  {
   "cell_type": "code",
   "execution_count": 22,
   "id": "e342a02f",
   "metadata": {},
   "outputs": [
    {
     "data": {
      "text/plain": [
       "0.9999975824000269"
      ]
     },
     "execution_count": 22,
     "metadata": {},
     "output_type": "execute_result"
    }
   ],
   "source": [
    "accuracy_score(y_val, target_prediction)"
   ]
  },
  {
   "cell_type": "code",
   "execution_count": 23,
   "id": "df73fabb",
   "metadata": {},
   "outputs": [
    {
     "data": {
      "text/plain": [
       "array([[2585237,       3,       6,      16],\n",
       "       [      0, 2584313,       0,       0],\n",
       "       [      0,       0, 2585483,       0],\n",
       "       [      0,       0,       0, 2585776]])"
      ]
     },
     "execution_count": 23,
     "metadata": {},
     "output_type": "execute_result"
    }
   ],
   "source": [
    "confusion_matrix(y_val, target_prediction)"
   ]
  },
  {
   "cell_type": "code",
   "execution_count": 24,
   "id": "1d37f4cc",
   "metadata": {},
   "outputs": [],
   "source": [
    "target_names=[0, 1, 2, 3]\n",
    "target_names=list(map(str,target_names))"
   ]
  },
  {
   "cell_type": "code",
   "execution_count": 25,
   "id": "e8865841",
   "metadata": {},
   "outputs": [
    {
     "name": "stdout",
     "output_type": "stream",
     "text": [
      "              precision    recall  f1-score   support\n",
      "\n",
      "           0       1.00      1.00      1.00   2585262\n",
      "           1       1.00      1.00      1.00   2584313\n",
      "           2       1.00      1.00      1.00   2585483\n",
      "           3       1.00      1.00      1.00   2585776\n",
      "\n",
      "    accuracy                           1.00  10340834\n",
      "   macro avg       1.00      1.00      1.00  10340834\n",
      "weighted avg       1.00      1.00      1.00  10340834\n",
      "\n"
     ]
    }
   ],
   "source": [
    "print(classification_report(y_val, target_prediction, target_names=target_names))"
   ]
  },
  {
   "cell_type": "code",
   "execution_count": 26,
   "id": "37e6fc36",
   "metadata": {},
   "outputs": [],
   "source": [
    "from sklearn.metrics import roc_curve, auc, roc_auc_score\n",
    "from sklearn.linear_model import LogisticRegression\n",
    "from sklearn.model_selection import cross_val_score\n",
    "from sklearn.model_selection import RepeatedStratifiedKFold\n",
    "from numpy import mean, std"
   ]
  },
  {
   "cell_type": "code",
   "execution_count": 27,
   "id": "4105b8f8",
   "metadata": {},
   "outputs": [],
   "source": [
    "cv = RepeatedStratifiedKFold(n_splits=10, n_repeats=4, random_state=1)"
   ]
  },
  {
   "cell_type": "code",
   "execution_count": 28,
   "id": "2867869e",
   "metadata": {},
   "outputs": [],
   "source": [
    "n_scores = cross_val_score(dTree, y_val, target_prediction, scoring='accuracy', \n",
    "                           cv=cv, n_jobs=-1)"
   ]
  },
  {
   "cell_type": "code",
   "execution_count": 29,
   "id": "d854b967",
   "metadata": {},
   "outputs": [
    {
     "name": "stdout",
     "output_type": "stream",
     "text": [
      "Mean Accuracy: 1.000 (0.000)\n"
     ]
    }
   ],
   "source": [
    "print('Mean Accuracy: %.3f (%.3f)' % (mean(n_scores), std(n_scores)))"
   ]
  },
  {
   "cell_type": "code",
   "execution_count": 30,
   "id": "a8f24418",
   "metadata": {},
   "outputs": [
    {
     "data": {
      "text/plain": [
       "<matplotlib.legend.Legend at 0x7f86288daca0>"
      ]
     },
     "execution_count": 30,
     "metadata": {},
     "output_type": "execute_result"
    },
    {
     "data": {
      "image/png": "[encoded data removed]",
      "text/plain": [
       "<Figure size 432x288 with 1 Axes>"
      ]
     },
     "metadata": {
      "needs_background": "light"
     },
     "output_type": "display_data"
    }
   ],
   "source": [
    "# roc curve for classes\n",
    "fpr = {}\n",
    "tpr = {}\n",
    "thresh ={}\n",
    "\n",
    "n_class = 4\n",
    "\n",
    "for i in range(n_class):    \n",
    "    fpr[i], tpr[i], thresh[i] = roc_curve(y_val, y_prob_pred[:, i], pos_label=i)\n",
    "    \n",
    "# plotting    \n",
    "plt.plot(fpr[0], tpr[0], linestyle='--',color='orange', label=fpr[0])\n",
    "plt.plot(fpr[1], tpr[1], linestyle='--',color='green', label='Class 1 vs Result')\n",
    "plt.plot(fpr[2], tpr[2], linestyle='--',color='blue', label='Class 2 vs Result')\n",
    "plt.plot(fpr[3], tpr[3], linestyle='--',color='yellow', label='Class 3 vs Result')\n",
    "plt.title('Multiclass ROC curve')\n",
    "plt.xlabel('False Positive Rate')\n",
    "plt.ylabel('True Positive rate')\n",
    "plt.legend(loc='best')"
   ]
  },
  {
   "cell_type": "code",
   "execution_count": 31,
   "id": "06249ed0",
   "metadata": {},
   "outputs": [],
   "source": [
    "lr = LogisticRegression(multi_class='multinomial', solver='lbfgs')"
   ]
  },
  {
   "cell_type": "code",
   "execution_count": 32,
   "id": "3d064780",
   "metadata": {},
   "outputs": [
    {
     "name": "stderr",
     "output_type": "stream",
     "text": [
      "/Users/abrilpalencia/opt/anaconda3/lib/python3.9/site-packages/sklearn/utils/validation.py:993: DataConversionWarning: A column-vector y was passed when a 1d array was expected. Please change the shape of y to (n_samples, ), for example using ravel().\n",
      "  y = column_or_1d(y, warn=True)\n"
     ]
    },
    {
     "data": {
      "text/plain": [
       "LogisticRegression(multi_class='multinomial')"
      ]
     },
     "execution_count": 32,
     "metadata": {},
     "output_type": "execute_result"
    }
   ],
   "source": [
    "lr.fit(X_train, y_train)"
   ]
  },
  {
   "cell_type": "code",
   "execution_count": 33,
   "id": "514a22b7",
   "metadata": {},
   "outputs": [],
   "source": [
    "target_predictionLR = lr.predict(X_val)\n",
    "y_prob_predLR = lr.predict_proba(X_val)"
   ]
  },
  {
   "cell_type": "code",
   "execution_count": 34,
   "id": "c3ff6c4d",
   "metadata": {},
   "outputs": [
    {
     "data": {
      "text/plain": [
       "0.25000517366394237"
      ]
     },
     "execution_count": 34,
     "metadata": {},
     "output_type": "execute_result"
    }
   ],
   "source": [
    "accuracy_score(y_val, target_predictionLR)"
   ]
  },
  {
   "cell_type": "code",
   "execution_count": 35,
   "id": "6a8f9b61",
   "metadata": {},
   "outputs": [
    {
     "data": {
      "text/plain": [
       "array([[2585262,       0,       0,       0],\n",
       "       [2584313,       0,       0,       0],\n",
       "       [2585483,       0,       0,       0],\n",
       "       [2585776,       0,       0,       0]])"
      ]
     },
     "execution_count": 35,
     "metadata": {},
     "output_type": "execute_result"
    }
   ],
   "source": [
    "confusion_matrix(y_val, target_predictionLR)"
   ]
  },
  {
   "cell_type": "code",
   "execution_count": 36,
   "id": "0bf0cb4a",
   "metadata": {},
   "outputs": [
    {
     "name": "stderr",
     "output_type": "stream",
     "text": [
      "/Users/abrilpalencia/opt/anaconda3/lib/python3.9/site-packages/sklearn/metrics/_classification.py:1318: UndefinedMetricWarning: Precision and F-score are ill-defined and being set to 0.0 in labels with no predicted samples. Use `zero_division` parameter to control this behavior.\n",
      "  _warn_prf(average, modifier, msg_start, len(result))\n",
      "/Users/abrilpalencia/opt/anaconda3/lib/python3.9/site-packages/sklearn/metrics/_classification.py:1318: UndefinedMetricWarning: Precision and F-score are ill-defined and being set to 0.0 in labels with no predicted samples. Use `zero_division` parameter to control this behavior.\n",
      "  _warn_prf(average, modifier, msg_start, len(result))\n"
     ]
    },
    {
     "name": "stdout",
     "output_type": "stream",
     "text": [
      "              precision    recall  f1-score   support\n",
      "\n",
      "           0       0.25      1.00      0.40   2585262\n",
      "           1       0.00      0.00      0.00   2584313\n",
      "           2       0.00      0.00      0.00   2585483\n",
      "           3       0.00      0.00      0.00   2585776\n",
      "\n",
      "    accuracy                           0.25  10340834\n",
      "   macro avg       0.06      0.25      0.10  10340834\n",
      "weighted avg       0.06      0.25      0.10  10340834\n",
      "\n"
     ]
    },
    {
     "name": "stderr",
     "output_type": "stream",
     "text": [
      "/Users/abrilpalencia/opt/anaconda3/lib/python3.9/site-packages/sklearn/metrics/_classification.py:1318: UndefinedMetricWarning: Precision and F-score are ill-defined and being set to 0.0 in labels with no predicted samples. Use `zero_division` parameter to control this behavior.\n",
      "  _warn_prf(average, modifier, msg_start, len(result))\n"
     ]
    }
   ],
   "source": [
    "print(classification_report(y_val, target_predictionLR, target_names=target_names))"
   ]
  },
  {
   "cell_type": "code",
   "execution_count": 37,
   "id": "ee9e9a18",
   "metadata": {},
   "outputs": [],
   "source": [
    "cv = RepeatedStratifiedKFold(n_splits=10, n_repeats=4, random_state=1)"
   ]
  },
  {
   "cell_type": "code",
   "execution_count": 38,
   "id": "bc48f778",
   "metadata": {},
   "outputs": [
    {
     "name": "stderr",
     "output_type": "stream",
     "text": [
      "/Users/abrilpalencia/opt/anaconda3/lib/python3.9/site-packages/joblib/externals/loky/process_executor.py:702: UserWarning: A worker stopped while some jobs were given to the executor. This can be caused by a too short worker timeout or by a memory leak.\n",
      "  warnings.warn(\n",
      "/Users/abrilpalencia/opt/anaconda3/lib/python3.9/site-packages/sklearn/model_selection/_validation.py:372: FitFailedWarning: \n",
      "40 fits failed out of a total of 40.\n",
      "The score on these train-test partitions for these parameters will be set to nan.\n",
      "If these failures are not expected, you can try to debug them by setting error_score='raise'.\n",
      "\n",
      "Below are more details about the failures:\n",
      "--------------------------------------------------------------------------------\n",
      "40 fits failed with the following error:\n",
      "Traceback (most recent call last):\n",
      "  File \"/Users/abrilpalencia/opt/anaconda3/lib/python3.9/site-packages/sklearn/model_selection/_validation.py\", line 680, in _fit_and_score\n",
      "    estimator.fit(X_train, y_train, **fit_params)\n",
      "  File \"/Users/abrilpalencia/opt/anaconda3/lib/python3.9/site-packages/sklearn/linear_model/_logistic.py\", line 1554, in fit\n",
      "    raise ValueError(\n",
      "ValueError: This solver needs samples of at least 2 classes in the data, but the data contains only one class: 0\n",
      "\n",
      "  warnings.warn(some_fits_failed_message, FitFailedWarning)\n"
     ]
    }
   ],
   "source": [
    "n_scores = cross_val_score(lr, y_val, target_predictionLR, scoring='accuracy', \n",
    "                           cv=cv, n_jobs=-1)"
   ]
  },
  {
   "cell_type": "code",
   "execution_count": 39,
   "id": "67253620",
   "metadata": {},
   "outputs": [
    {
     "name": "stdout",
     "output_type": "stream",
     "text": [
      "Mean Accuracy: nan (nan)\n"
     ]
    }
   ],
   "source": [
    "print('Mean Accuracy: %.3f (%.3f)' % (mean(n_scores), std(n_scores)))"
   ]
  },
  {
   "cell_type": "code",
   "execution_count": 40,
   "id": "f4dacb05",
   "metadata": {},
   "outputs": [
    {
     "data": {
      "text/plain": [
       "<matplotlib.legend.Legend at 0x7f8640662f70>"
      ]
     },
     "execution_count": 40,
     "metadata": {},
     "output_type": "execute_result"
    },
    {
     "data": {
      "image/png": "[encoded data removed]",
      "text/plain": [
       "<Figure size 432x288 with 1 Axes>"
      ]
     },
     "metadata": {
      "needs_background": "light"
     },
     "output_type": "display_data"
    }
   ],
   "source": [
    "# roc curve for classes\n",
    "fpr = {}\n",
    "tpr = {}\n",
    "thresh ={}\n",
    "\n",
    "n_class = 4\n",
    "\n",
    "for i in range(n_class):    \n",
    "    fpr[i], tpr[i], thresh[i] = roc_curve(y_val, y_prob_predLR[:, i], pos_label=i)\n",
    "    \n",
    "# plotting    \n",
    "plt.plot(fpr[0], tpr[0], linestyle='--',color='orange', label='Class 0 vs Result')\n",
    "plt.plot(fpr[1], tpr[1], linestyle='--',color='green', label='Class 1 vs Result')\n",
    "plt.plot(fpr[2], tpr[2], linestyle='--',color='blue', label='Class 2 vs Result')\n",
    "plt.plot(fpr[3], tpr[3], linestyle='--',color='yellow', label='Class 3 vs Result')\n",
    "plt.title('Multiclass ROC curve')\n",
    "plt.xlabel('False Positive Rate')\n",
    "plt.ylabel('True Positive rate')\n",
    "plt.legend(loc='best')"
   ]
  }
 ],
 "metadata": {
  "kernelspec": {
   "display_name": "Python 3 (ipykernel)",
   "language": "python",
   "name": "python3"
  },
  "language_info": {
   "codemirror_mode": {
    "name": "ipython",
    "version": 3
   },
   "file_extension": ".py",
   "mimetype": "text/x-python",
   "name": "python",
   "nbconvert_exporter": "python",
   "pygments_lexer": "ipython3",
   "version": "3.9.7"
  }
 },
 "nbformat": 4,
 "nbformat_minor": 5
}
