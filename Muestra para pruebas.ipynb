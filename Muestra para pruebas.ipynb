{
 "cells": [
  {
   "cell_type": "markdown",
   "id": "bfd41525",
   "metadata": {},
   "source": [
    "# Proyecto 1 - Muestra pequeña\n",
    "\n",
    "#### Cristina Bautista - 161260\n",
    "#### Abril Palencia - 18198 "
   ]
  },
  {
   "cell_type": "code",
   "execution_count": 1,
   "id": "c151ceba",
   "metadata": {},
   "outputs": [],
   "source": [
    "import pandas as pd\n",
    "import numpy as np\n",
    "import matplotlib.pyplot as plt\n",
    "import seaborn as sns\n",
    "from urllib.parse import urlparse\n",
    "# from pandas_profiling import ProfileReport\n",
    "import re\n",
    "\n",
    "\n",
    "%matplotlib inline"
   ]
  },
  {
   "cell_type": "code",
   "execution_count": 2,
   "id": "061820da",
   "metadata": {},
   "outputs": [],
   "source": [
    "df1 = pd.read_csv('dataset/dataset-part1.csv')\n",
    "df2 = pd.read_csv('dataset/dataset-part2.csv')\n",
    "df3 = pd.read_csv('dataset/dataset-part3.csv')\n",
    "df4 = pd.read_csv('dataset/dataset-part4.csv')"
   ]
  },
  {
   "cell_type": "code",
   "execution_count": 3,
   "id": "2022121f",
   "metadata": {},
   "outputs": [],
   "source": [
    "df_final = pd.concat([df1, df2, df3, df4])"
   ]
  },
  {
   "cell_type": "code",
   "execution_count": 4,
   "id": "c1282aa1",
   "metadata": {},
   "outputs": [],
   "source": [
    "df_final = df_final.drop(labels=['FIREWALL_EVENT', 'FLOW_ACTIVE_TIMEOUT', 'FLOW_DURATION_MICROSECONDS', 'FLOW_END_SEC', \n",
    "                          'FLOW_INACTIVE_TIMEOUT', 'FLOW_START_SEC', 'FRAME_LENGTH', 'IPV4_DST_ADDR', \n",
    "                          'IPV4_SRC_ADDR', 'MAX_IP_PKT_LEN', 'MAX_IP_PKT_LEN', 'MIN_IP_PKT_LEN', 'PROTOCOL_MAP', \n",
    "                          'RETRANSMITTED_IN_BYTES', 'RETRANSMITTED_IN_PKTS', 'RETRANSMITTED_OUT_BYTES', \n",
    "                          'RETRANSMITTED_OUT_PKTS', 'DST_TO_SRC_SECOND_BYTES', 'SRC_TO_DST_SECOND_BYTES', \n",
    "                          'L7_PROTO_NAME'], axis=1)"
   ]
  },
  {
   "cell_type": "code",
   "execution_count": 5,
   "id": "42691e0b",
   "metadata": {},
   "outputs": [],
   "source": [
    "df_final_prueba = df_final.sample(n = 1000000)"
   ]
  },
  {
   "cell_type": "code",
   "execution_count": 6,
   "id": "2329b5d0",
   "metadata": {},
   "outputs": [
    {
     "data": {
      "text/plain": [
       "Normal flow                       842478\n",
       "SYN Scan - aggressive              62069\n",
       "Denial of Service R-U-Dead-Yet     56311\n",
       "Denial of Service Slowloris        21405\n",
       "UDP Scan                           17208\n",
       "NULL Scan                            190\n",
       "XMAS Scan                            171\n",
       "FIN Scan                             168\n",
       "Name: LABEL, dtype: int64"
      ]
     },
     "execution_count": 6,
     "metadata": {},
     "output_type": "execute_result"
    }
   ],
   "source": [
    "df_final_prueba['LABEL'].value_counts()"
   ]
  },
  {
   "cell_type": "code",
   "execution_count": 7,
   "id": "7348c4f0",
   "metadata": {},
   "outputs": [],
   "source": [
    "valores = ['UDP Scan', 'NULL Scan', 'XMAS Scan', 'FIN Scan']"
   ]
  },
  {
   "cell_type": "code",
   "execution_count": 8,
   "id": "773cb540",
   "metadata": {},
   "outputs": [],
   "source": [
    "df_final_prueba = df_final_prueba[df_final_prueba['LABEL'].isin(valores) == False]"
   ]
  },
  {
   "cell_type": "code",
   "execution_count": 9,
   "id": "1ebfd24e",
   "metadata": {},
   "outputs": [],
   "source": [
    "valores2 = [47, 58]"
   ]
  },
  {
   "cell_type": "code",
   "execution_count": 10,
   "id": "b89aee84",
   "metadata": {},
   "outputs": [],
   "source": [
    "df_final_prueba = df_final_prueba[df_final_prueba['PROTOCOL'].isin(valores2) == False]"
   ]
  },
  {
   "cell_type": "code",
   "execution_count": 11,
   "id": "12d70e62",
   "metadata": {},
   "outputs": [
    {
     "data": {
      "text/plain": [
       "Normal flow                       842454\n",
       "SYN Scan - aggressive              62069\n",
       "Denial of Service R-U-Dead-Yet     56311\n",
       "Denial of Service Slowloris        21405\n",
       "Name: LABEL, dtype: int64"
      ]
     },
     "execution_count": 11,
     "metadata": {},
     "output_type": "execute_result"
    }
   ],
   "source": [
    "df_final_prueba['LABEL'].value_counts()"
   ]
  },
  {
   "cell_type": "code",
   "execution_count": 12,
   "id": "e2339157",
   "metadata": {},
   "outputs": [],
   "source": [
    "df_final_prueba['LABEL'].replace({\"Normal flow\": 0, \"Denial of Service R-U-Dead-Yet\": 1,\n",
    "                          \"Denial of Service Slowloris\": 2, \"SYN Scan - aggressive\": 3}, inplace=True)"
   ]
  },
  {
   "cell_type": "code",
   "execution_count": 13,
   "id": "33c09d54",
   "metadata": {},
   "outputs": [],
   "source": [
    "# slowloris = df_final_prueba[df_final_prueba['LABEL'] == 2]\n",
    "# denial_dead = df_final_prueba[df_final_prueba['LABEL'] == 1]"
   ]
  },
  {
   "cell_type": "code",
   "execution_count": 14,
   "id": "ed169efb",
   "metadata": {},
   "outputs": [],
   "source": [
    "from imblearn import over_sampling\n",
    "from imblearn.over_sampling import RandomOverSampler \n",
    "from collections import Counter"
   ]
  },
  {
   "cell_type": "code",
   "execution_count": 15,
   "id": "0d11d89d",
   "metadata": {},
   "outputs": [
    {
     "data": {
      "text/plain": [
       "[(0, 842454), (1, 56311), (2, 21405), (3, 62069)]"
      ]
     },
     "execution_count": 15,
     "metadata": {},
     "output_type": "execute_result"
    }
   ],
   "source": [
    "sorted(Counter(df_final_prueba['LABEL']).items())"
   ]
  },
  {
   "cell_type": "code",
   "execution_count": 16,
   "id": "36f4959f",
   "metadata": {},
   "outputs": [
    {
     "data": {
      "text/plain": [
       "0    842454\n",
       "3     62069\n",
       "1     56311\n",
       "2     21405\n",
       "Name: LABEL, dtype: int64"
      ]
     },
     "execution_count": 16,
     "metadata": {},
     "output_type": "execute_result"
    },
    {
     "data": {
      "image/png": "[encoded data removed]",
      "text/plain": [
       "<Figure size 432x288 with 1 Axes>"
      ]
     },
     "metadata": {
      "needs_background": "light"
     },
     "output_type": "display_data"
    }
   ],
   "source": [
    "pd.value_counts(df_final_prueba['LABEL']).plot.bar()\n",
    "plt.title('Label s histogram')\n",
    "plt.xlabel('Labels')\n",
    "plt.ylabel('Frequency')\n",
    "df_final_prueba['LABEL'].value_counts()"
   ]
  },
  {
   "cell_type": "code",
   "execution_count": 17,
   "id": "388ad2ea",
   "metadata": {},
   "outputs": [],
   "source": [
    "X = df_final_prueba\n",
    "y = df_final_prueba[['LABEL']]\n",
    "X = X.drop(['LABEL'], axis=1)"
   ]
  },
  {
   "cell_type": "code",
   "execution_count": 18,
   "id": "2946ff52",
   "metadata": {},
   "outputs": [],
   "source": [
    "# y = pd.DataFrame(y)"
   ]
  },
  {
   "cell_type": "code",
   "execution_count": 19,
   "id": "a806350d",
   "metadata": {},
   "outputs": [
    {
     "data": {
      "text/plain": [
       "LABEL\n",
       "0        842454\n",
       "3         62069\n",
       "1         56311\n",
       "2         21405\n",
       "dtype: int64"
      ]
     },
     "execution_count": 19,
     "metadata": {},
     "output_type": "execute_result"
    }
   ],
   "source": [
    "y.value_counts()"
   ]
  },
  {
   "cell_type": "code",
   "execution_count": 20,
   "id": "d45bbec9",
   "metadata": {},
   "outputs": [
    {
     "data": {
      "text/plain": [
       "((982239, 30), (982239, 1))"
      ]
     },
     "execution_count": 20,
     "metadata": {},
     "output_type": "execute_result"
    }
   ],
   "source": [
    "X.shape, y.shape#y.reshape(-1,1)"
   ]
  },
  {
   "cell_type": "code",
   "execution_count": 21,
   "id": "fdd7ae49",
   "metadata": {},
   "outputs": [],
   "source": [
    "ros = RandomOverSampler(random_state=5)\n",
    "X_resample, y_resample = ros.fit_resample(X, y)"
   ]
  },
  {
   "cell_type": "code",
   "execution_count": 22,
   "id": "7f6d9d36",
   "metadata": {},
   "outputs": [
    {
     "data": {
      "text/plain": [
       "LABEL\n",
       "0        842454\n",
       "1        842454\n",
       "2        842454\n",
       "3        842454\n",
       "dtype: int64"
      ]
     },
     "execution_count": 22,
     "metadata": {},
     "output_type": "execute_result"
    }
   ],
   "source": [
    "y_resample.value_counts()"
   ]
  },
  {
   "cell_type": "code",
   "execution_count": 23,
   "id": "006c5ca0",
   "metadata": {},
   "outputs": [],
   "source": [
    "from sklearn.model_selection import train_test_split"
   ]
  },
  {
   "cell_type": "code",
   "execution_count": 24,
   "id": "fccea950",
   "metadata": {},
   "outputs": [],
   "source": [
    "X_train, X_val_test, y_train, y_val_test = train_test_split(X_resample, y_resample, train_size = 0.55, \n",
    "                                                             test_size=0.45, random_state = 5)"
   ]
  },
  {
   "cell_type": "code",
   "execution_count": 25,
   "id": "c44ea4e0",
   "metadata": {},
   "outputs": [],
   "source": [
    "X_val, X_test, y_val, y_test = train_test_split(X_val_test, y_val_test, train_size = 0.67, \n",
    "                                                             test_size=0.33, random_state = 5)"
   ]
  },
  {
   "cell_type": "code",
   "execution_count": 26,
   "id": "55f85621",
   "metadata": {},
   "outputs": [],
   "source": [
    "from sklearn.tree import DecisionTreeClassifier"
   ]
  },
  {
   "cell_type": "code",
   "execution_count": 27,
   "id": "3565bed0",
   "metadata": {},
   "outputs": [],
   "source": [
    "dTree = DecisionTreeClassifier()\n",
    "dTree = dTree.fit(X_train, y_train)"
   ]
  },
  {
   "cell_type": "code",
   "execution_count": 28,
   "id": "0bb7c670",
   "metadata": {},
   "outputs": [],
   "source": [
    "from sklearn.metrics import accuracy_score, confusion_matrix, classification_report"
   ]
  },
  {
   "cell_type": "code",
   "execution_count": 29,
   "id": "09b7275b",
   "metadata": {},
   "outputs": [],
   "source": [
    "target_prediction = dTree.predict(X_val)\n",
    "y_prob_pred = dTree.predict_proba(X_val)"
   ]
  },
  {
   "cell_type": "code",
   "execution_count": 30,
   "id": "767d0ab4",
   "metadata": {},
   "outputs": [
    {
     "data": {
      "text/plain": [
       "0.9999911417322834"
      ]
     },
     "execution_count": 30,
     "metadata": {},
     "output_type": "execute_result"
    }
   ],
   "source": [
    "accuracy_score(y_val, target_prediction)"
   ]
  },
  {
   "cell_type": "code",
   "execution_count": 31,
   "id": "0b70d431",
   "metadata": {},
   "outputs": [
    {
     "data": {
      "text/plain": [
       "array([[254203,      1,      1,      7],\n",
       "       [     0, 254187,      0,      0],\n",
       "       [     0,      0, 253868,      0],\n",
       "       [     0,      0,      0, 253733]])"
      ]
     },
     "execution_count": 31,
     "metadata": {},
     "output_type": "execute_result"
    }
   ],
   "source": [
    "confusion_matrix(y_val, target_prediction)"
   ]
  },
  {
   "cell_type": "code",
   "execution_count": 32,
   "id": "5a5d6d8b",
   "metadata": {},
   "outputs": [],
   "source": [
    "target_names=[0, 1, 2, 3]\n",
    "target_names=list(map(str,target_names))"
   ]
  },
  {
   "cell_type": "code",
   "execution_count": 33,
   "id": "536fadee",
   "metadata": {},
   "outputs": [
    {
     "name": "stdout",
     "output_type": "stream",
     "text": [
      "              precision    recall  f1-score   support\n",
      "\n",
      "           0       1.00      1.00      1.00    254212\n",
      "           1       1.00      1.00      1.00    254187\n",
      "           2       1.00      1.00      1.00    253868\n",
      "           3       1.00      1.00      1.00    253733\n",
      "\n",
      "    accuracy                           1.00   1016000\n",
      "   macro avg       1.00      1.00      1.00   1016000\n",
      "weighted avg       1.00      1.00      1.00   1016000\n",
      "\n"
     ]
    }
   ],
   "source": [
    "print(classification_report(y_val, target_prediction, target_names=target_names))"
   ]
  },
  {
   "cell_type": "code",
   "execution_count": 41,
   "id": "f2b546e8",
   "metadata": {},
   "outputs": [],
   "source": [
    "from sklearn.metrics import roc_curve, auc, roc_auc_score\n",
    "from sklearn.linear_model import LogisticRegression\n",
    "from sklearn.model_selection import cross_val_score\n",
    "from sklearn.model_selection import RepeatedStratifiedKFold\n",
    "from numpy import mean, std"
   ]
  },
  {
   "cell_type": "code",
   "execution_count": 37,
   "id": "02262b4f",
   "metadata": {},
   "outputs": [],
   "source": [
    "cv = RepeatedStratifiedKFold(n_splits=10, n_repeats=4, random_state=1)"
   ]
  },
  {
   "cell_type": "code",
   "execution_count": 39,
   "id": "6c4985a1",
   "metadata": {},
   "outputs": [],
   "source": [
    "n_scores = cross_val_score(dTree, y_val, target_prediction, scoring='accuracy', \n",
    "                           cv=cv, n_jobs=-1)"
   ]
  },
  {
   "cell_type": "code",
   "execution_count": 42,
   "id": "2596686c",
   "metadata": {},
   "outputs": [
    {
     "name": "stdout",
     "output_type": "stream",
     "text": [
      "Mean Accuracy: 1.000 (0.000)\n"
     ]
    }
   ],
   "source": [
    "print('Mean Accuracy: %.3f (%.3f)' % (mean(n_scores), std(n_scores)))"
   ]
  },
  {
   "cell_type": "code",
   "execution_count": 43,
   "id": "b57e978e",
   "metadata": {},
   "outputs": [
    {
     "data": {
      "image/png": "[encoded data removed]",
      "text/plain": [
       "<Figure size 432x288 with 1 Axes>"
      ]
     },
     "metadata": {
      "needs_background": "light"
     },
     "output_type": "display_data"
    }
   ],
   "source": [
    "# roc curve for classes\n",
    "fpr = {}\n",
    "tpr = {}\n",
    "thresh ={}\n",
    "\n",
    "n_class = 4\n",
    "\n",
    "for i in range(n_class):    \n",
    "    fpr[i], tpr[i], thresh[i] = roc_curve(y_val, y_prob_pred[:, i], pos_label=i)\n",
    "    \n",
    "# plotting    \n",
    "plt.plot(fpr[0], tpr[0], linestyle='--',color='orange', label=fpr[0])\n",
    "plt.plot(fpr[1], tpr[1], linestyle='--',color='green', label='Class 1 vs Result')\n",
    "plt.plot(fpr[2], tpr[2], linestyle='--',color='blue', label='Class 2 vs Result')\n",
    "plt.plot(fpr[3], tpr[3], linestyle='--',color='yellow', label='Class 3 vs Result')\n",
    "plt.title('Multiclass ROC curve')\n",
    "plt.xlabel('False Positive Rate')\n",
    "plt.ylabel('True Positive rate')\n",
    "plt.legend(loc='best')"
   ]
  },
  {
   "cell_type": "code",
   "execution_count": null,
   "id": "f18651eb",
   "metadata": {},
   "outputs": [],
   "source": []
  },
  {
   "cell_type": "code",
   "execution_count": null,
   "id": "57668819",
   "metadata": {},
   "outputs": [],
   "source": []
  },
  {
   "cell_type": "code",
   "execution_count": null,
   "id": "cd21f1f0",
   "metadata": {},
   "outputs": [],
   "source": []
  },
  {
   "cell_type": "code",
   "execution_count": 44,
   "id": "1e2737ad",
   "metadata": {},
   "outputs": [],
   "source": [
    "lr = LogisticRegression(multi_class='multinomial', solver='lbfgs')"
   ]
  },
  {
   "cell_type": "code",
   "execution_count": 45,
   "id": "bd31eab9",
   "metadata": {},
   "outputs": [
    {
     "name": "stderr",
     "output_type": "stream",
     "text": [
      "/Library/Frameworks/Python.framework/Versions/3.9/lib/python3.9/site-packages/sklearn/utils/validation.py:993: DataConversionWarning: A column-vector y was passed when a 1d array was expected. Please change the shape of y to (n_samples, ), for example using ravel().\n",
      "  y = column_or_1d(y, warn=True)\n"
     ]
    },
    {
     "data": {
      "text/plain": [
       "LogisticRegression(multi_class='multinomial')"
      ]
     },
     "execution_count": 45,
     "metadata": {},
     "output_type": "execute_result"
    }
   ],
   "source": [
    "lr.fit(X_train, y_train)"
   ]
  },
  {
   "cell_type": "code",
   "execution_count": 46,
   "id": "21fef213",
   "metadata": {},
   "outputs": [],
   "source": [
    "target_predictionLR = lr.predict(X_val)\n",
    "y_prob_predLR = lr.predict_proba(X_val)"
   ]
  },
  {
   "cell_type": "code",
   "execution_count": 47,
   "id": "af73dbd8",
   "metadata": {},
   "outputs": [
    {
     "data": {
      "text/plain": [
       "0.9409291338582677"
      ]
     },
     "execution_count": 47,
     "metadata": {},
     "output_type": "execute_result"
    }
   ],
   "source": [
    "accuracy_score(y_val, target_predictionLR)"
   ]
  },
  {
   "cell_type": "code",
   "execution_count": 48,
   "id": "62569e35",
   "metadata": {},
   "outputs": [
    {
     "data": {
      "text/plain": [
       "array([[204728,   8276,  14265,  26943],\n",
       "       [     0, 243655,  10532,      0],\n",
       "       [     0,      0, 253868,      0],\n",
       "       [     0,      0,      0, 253733]])"
      ]
     },
     "execution_count": 48,
     "metadata": {},
     "output_type": "execute_result"
    }
   ],
   "source": [
    "confusion_matrix(y_val, target_predictionLR)"
   ]
  },
  {
   "cell_type": "code",
   "execution_count": 49,
   "id": "05861a87",
   "metadata": {},
   "outputs": [
    {
     "name": "stdout",
     "output_type": "stream",
     "text": [
      "              precision    recall  f1-score   support\n",
      "\n",
      "           0       1.00      0.81      0.89    254212\n",
      "           1       0.97      0.96      0.96    254187\n",
      "           2       0.91      1.00      0.95    253868\n",
      "           3       0.90      1.00      0.95    253733\n",
      "\n",
      "    accuracy                           0.94   1016000\n",
      "   macro avg       0.95      0.94      0.94   1016000\n",
      "weighted avg       0.95      0.94      0.94   1016000\n",
      "\n"
     ]
    }
   ],
   "source": [
    "print(classification_report(y_val, target_predictionLR, target_names=target_names))"
   ]
  },
  {
   "cell_type": "code",
   "execution_count": 51,
   "id": "02a823b7",
   "metadata": {},
   "outputs": [],
   "source": [
    "cv = RepeatedStratifiedKFold(n_splits=10, n_repeats=4, random_state=1)"
   ]
  },
  {
   "cell_type": "code",
   "execution_count": 52,
   "id": "8bd5801e",
   "metadata": {},
   "outputs": [],
   "source": [
    "n_scores = cross_val_score(lr, y_val, target_predictionLR, scoring='accuracy', \n",
    "                           cv=cv, n_jobs=-1)"
   ]
  },
  {
   "cell_type": "code",
   "execution_count": 53,
   "id": "a6c4ef1f",
   "metadata": {},
   "outputs": [
    {
     "name": "stdout",
     "output_type": "stream",
     "text": [
      "Mean Accuracy: 0.941 (0.001)\n"
     ]
    }
   ],
   "source": [
    "print('Mean Accuracy: %.3f (%.3f)' % (mean(n_scores), std(n_scores)))"
   ]
  },
  {
   "cell_type": "code",
   "execution_count": 50,
   "id": "689e3ce1",
   "metadata": {
    "scrolled": true
   },
   "outputs": [
    {
     "data": {
      "image/png": "[encoded data removed]",
      "text/plain": [
       "<Figure size 432x288 with 1 Axes>"
      ]
     },
     "metadata": {
      "needs_background": "light"
     },
     "output_type": "display_data"
    }
   ],
   "source": [
    "# roc curve for classes\n",
    "fpr = {}\n",
    "tpr = {}\n",
    "thresh ={}\n",
    "\n",
    "n_class = 4\n",
    "\n",
    "for i in range(n_class):    \n",
    "    fpr[i], tpr[i], thresh[i] = roc_curve(y_val, y_prob_predLR[:, i], pos_label=i)\n",
    "    \n",
    "# plotting    \n",
    "plt.plot(fpr[0], tpr[0], linestyle='--',color='orange', label='Class 0 vs Result')\n",
    "plt.plot(fpr[1], tpr[1], linestyle='--',color='green', label='Class 1 vs Result')\n",
    "plt.plot(fpr[2], tpr[2], linestyle='--',color='blue', label='Class 2 vs Result')\n",
    "plt.plot(fpr[3], tpr[3], linestyle='--',color='yellow', label='Class 3 vs Result')\n",
    "plt.title('Multiclass ROC curve')\n",
    "plt.xlabel('False Positive Rate')\n",
    "plt.ylabel('True Positive rate')\n",
    "plt.legend(loc='best')"
   ]
  },
  {
   "cell_type": "code",
   "execution_count": null,
   "id": "6ba088bf",
   "metadata": {},
   "outputs": [],
   "source": []
  }
 ],
 "metadata": {
  "kernelspec": {
   "display_name": "Python 3 (ipykernel)",
   "language": "python",
   "name": "python3"
  },
  "language_info": {
   "codemirror_mode": {
    "name": "ipython",
    "version": 3
   },
   "file_extension": ".py",
   "mimetype": "text/x-python",
   "name": "python",
   "nbconvert_exporter": "python",
   "pygments_lexer": "ipython3",
   "version": "3.9.6"
  }
 },
 "nbformat": 4,
 "nbformat_minor": 5
}
