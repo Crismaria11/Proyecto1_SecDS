{
 "cells": [
  {
   "cell_type": "markdown",
   "id": "bfd41525",
   "metadata": {},
   "source": [
    "\n",
    "# Proyecto 1\n",
    "#### Cristina Bautista - 161260\n",
    "#### Abril Palencia - 18198 "
   ]
  },
  {
   "cell_type": "code",
   "execution_count": 37,
   "id": "c151ceba",
   "metadata": {},
   "outputs": [],
   "source": [
    "import pandas as pd\n",
    "import numpy as np\n",
    "import matplotlib.pyplot as plt\n",
    "import seaborn as sns\n",
    "from urllib.parse import urlparse\n",
    "# from pandas_profiling import ProfileReport\n",
    "import re\n",
    "\n",
    "\n",
    "%matplotlib inline"
   ]
  },
  {
   "cell_type": "code",
   "execution_count": 38,
   "id": "061820da",
   "metadata": {},
   "outputs": [],
   "source": [
    "df1 = pd.read_csv('dataset/dataset-part1.csv')\n",
    "df2 = pd.read_csv('dataset/dataset-part2.csv')\n",
    "df3 = pd.read_csv('dataset/dataset-part3.csv')\n",
    "df4 = pd.read_csv('dataset/dataset-part4.csv')"
   ]
  },
  {
   "cell_type": "code",
   "execution_count": 39,
   "id": "2022121f",
   "metadata": {},
   "outputs": [],
   "source": [
    "df_final = pd.concat([df1, df2, df3, df4])"
   ]
  },
  {
   "cell_type": "code",
   "execution_count": 40,
   "id": "c1282aa1",
   "metadata": {},
   "outputs": [],
   "source": [
    "df_final = df_final.drop(labels=['FIREWALL_EVENT', 'FLOW_ACTIVE_TIMEOUT', 'FLOW_DURATION_MICROSECONDS', 'FLOW_END_SEC', \n",
    "                          'FLOW_INACTIVE_TIMEOUT', 'FLOW_START_SEC', 'FRAME_LENGTH', 'IPV4_DST_ADDR', \n",
    "                          'IPV4_SRC_ADDR', 'MAX_IP_PKT_LEN', 'MAX_IP_PKT_LEN', 'MIN_IP_PKT_LEN', 'PROTOCOL_MAP', \n",
    "                          'RETRANSMITTED_IN_BYTES', 'RETRANSMITTED_IN_PKTS', 'RETRANSMITTED_OUT_BYTES', \n",
    "                          'RETRANSMITTED_OUT_PKTS', 'DST_TO_SRC_SECOND_BYTES', 'SRC_TO_DST_SECOND_BYTES', \n",
    "                          'L7_PROTO_NAME'], axis=1)"
   ]
  },
  {
   "cell_type": "code",
   "execution_count": 41,
   "id": "42691e0b",
   "metadata": {},
   "outputs": [],
   "source": [
    "df_final_prueba = df_final.sample(n = 1000000)"
   ]
  },
  {
   "cell_type": "code",
   "execution_count": 42,
   "id": "2329b5d0",
   "metadata": {},
   "outputs": [
    {
     "data": {
      "text/plain": [
       "Normal flow                       841941\n",
       "SYN Scan - aggressive              62125\n",
       "Denial of Service R-U-Dead-Yet     56618\n",
       "Denial of Service Slowloris        21484\n",
       "UDP Scan                           17261\n",
       "NULL Scan                            218\n",
       "XMAS Scan                            185\n",
       "FIN Scan                             168\n",
       "Name: LABEL, dtype: int64"
      ]
     },
     "execution_count": 42,
     "metadata": {},
     "output_type": "execute_result"
    }
   ],
   "source": [
    "df_final_prueba['LABEL'].value_counts()"
   ]
  },
  {
   "cell_type": "code",
   "execution_count": 43,
   "id": "7348c4f0",
   "metadata": {},
   "outputs": [],
   "source": [
    "valores = ['UDP Scan', 'NULL Scan', 'XMAS Scan', 'FIN Scan']"
   ]
  },
  {
   "cell_type": "code",
   "execution_count": 44,
   "id": "773cb540",
   "metadata": {},
   "outputs": [],
   "source": [
    "df_final_prueba = df_final_prueba[df_final_prueba['LABEL'].isin(valores) == False]"
   ]
  },
  {
   "cell_type": "code",
   "execution_count": 45,
   "id": "1ebfd24e",
   "metadata": {},
   "outputs": [],
   "source": [
    "valores2 = [47, 58]"
   ]
  },
  {
   "cell_type": "code",
   "execution_count": 46,
   "id": "b89aee84",
   "metadata": {},
   "outputs": [],
   "source": [
    "df_final_prueba = df_final_prueba[df_final_prueba['PROTOCOL'].isin(valores2) == False]"
   ]
  },
  {
   "cell_type": "code",
   "execution_count": 47,
   "id": "12d70e62",
   "metadata": {},
   "outputs": [
    {
     "data": {
      "text/plain": [
       "Normal flow                       841909\n",
       "SYN Scan - aggressive              62125\n",
       "Denial of Service R-U-Dead-Yet     56618\n",
       "Denial of Service Slowloris        21484\n",
       "Name: LABEL, dtype: int64"
      ]
     },
     "execution_count": 47,
     "metadata": {},
     "output_type": "execute_result"
    }
   ],
   "source": [
    "df_final_prueba['LABEL'].value_counts()"
   ]
  },
  {
   "cell_type": "code",
   "execution_count": 48,
   "id": "e2339157",
   "metadata": {},
   "outputs": [],
   "source": [
    "df_final_prueba['LABEL'].replace({\"Normal flow\": 0, \"Denial of Service R-U-Dead-Yet\": 1,\n",
    "                          \"Denial of Service Slowloris\": 2, \"SYN Scan - aggressive\": 3}, inplace=True)"
   ]
  },
  {
   "cell_type": "code",
   "execution_count": 49,
   "id": "33c09d54",
   "metadata": {},
   "outputs": [],
   "source": [
    "# slowloris = df_final_prueba[df_final_prueba['LABEL'] == 2]\n",
    "# denial_dead = df_final_prueba[df_final_prueba['LABEL'] == 1]"
   ]
  },
  {
   "cell_type": "code",
   "execution_count": 50,
   "id": "ed169efb",
   "metadata": {},
   "outputs": [],
   "source": [
    "from imblearn import over_sampling\n",
    "from imblearn.over_sampling import RandomOverSampler \n",
    "from collections import Counter"
   ]
  },
  {
   "cell_type": "code",
   "execution_count": 51,
   "id": "0d11d89d",
   "metadata": {},
   "outputs": [
    {
     "data": {
      "text/plain": [
       "[(0, 841909), (1, 56618), (2, 21484), (3, 62125)]"
      ]
     },
     "execution_count": 51,
     "metadata": {},
     "output_type": "execute_result"
    }
   ],
   "source": [
    "sorted(Counter(df_final_prueba['LABEL']).items())"
   ]
  },
  {
   "cell_type": "code",
   "execution_count": 52,
   "id": "36f4959f",
   "metadata": {},
   "outputs": [
    {
     "data": {
      "text/plain": [
       "0    841909\n",
       "3     62125\n",
       "1     56618\n",
       "2     21484\n",
       "Name: LABEL, dtype: int64"
      ]
     },
     "execution_count": 52,
     "metadata": {},
     "output_type": "execute_result"
    },
    {
     "data": {
      "image/png": "[encoded data removed]",
      "text/plain": [
       "<Figure size 432x288 with 1 Axes>"
      ]
     },
     "metadata": {
      "needs_background": "light"
     },
     "output_type": "display_data"
    }
   ],
   "source": [
    "pd.value_counts(df_final_prueba['LABEL']).plot.bar()\n",
    "plt.title('Label s histogram')\n",
    "plt.xlabel('Labels')\n",
    "plt.ylabel('Frequency')\n",
    "df_final_prueba['LABEL'].value_counts()"
   ]
  },
  {
   "cell_type": "code",
   "execution_count": 53,
   "id": "388ad2ea",
   "metadata": {},
   "outputs": [],
   "source": [
    "X = df_final_prueba\n",
    "y = df_final_prueba[['LABEL']]\n",
    "X = X.drop(['LABEL'], axis=1)"
   ]
  },
  {
   "cell_type": "code",
   "execution_count": 54,
   "id": "2946ff52",
   "metadata": {},
   "outputs": [],
   "source": [
    "# y = pd.DataFrame(y)"
   ]
  },
  {
   "cell_type": "code",
   "execution_count": 55,
   "id": "a806350d",
   "metadata": {},
   "outputs": [
    {
     "data": {
      "text/plain": [
       "LABEL\n",
       "0        841909\n",
       "3         62125\n",
       "1         56618\n",
       "2         21484\n",
       "dtype: int64"
      ]
     },
     "execution_count": 55,
     "metadata": {},
     "output_type": "execute_result"
    }
   ],
   "source": [
    "y.value_counts()"
   ]
  },
  {
   "cell_type": "code",
   "execution_count": 56,
   "id": "d45bbec9",
   "metadata": {},
   "outputs": [
    {
     "data": {
      "text/plain": [
       "((982136, 30), (982136, 1))"
      ]
     },
     "execution_count": 56,
     "metadata": {},
     "output_type": "execute_result"
    }
   ],
   "source": [
    "X.shape, y.shape#y.reshape(-1,1)"
   ]
  },
  {
   "cell_type": "code",
   "execution_count": 57,
   "id": "fdd7ae49",
   "metadata": {},
   "outputs": [],
   "source": [
    "ros = RandomOverSampler(random_state=5)\n",
    "X_resample, y_resample = ros.fit_resample(X, y)"
   ]
  },
  {
   "cell_type": "code",
   "execution_count": 58,
   "id": "7f6d9d36",
   "metadata": {},
   "outputs": [
    {
     "data": {
      "text/plain": [
       "LABEL\n",
       "0        841909\n",
       "1        841909\n",
       "2        841909\n",
       "3        841909\n",
       "dtype: int64"
      ]
     },
     "execution_count": 58,
     "metadata": {},
     "output_type": "execute_result"
    }
   ],
   "source": [
    "y_resample.value_counts()"
   ]
  },
  {
   "cell_type": "code",
   "execution_count": 59,
   "id": "1985f4ae",
   "metadata": {},
   "outputs": [],
   "source": [
    "from sklearn.model_selection import train_test_split"
   ]
  },
  {
   "cell_type": "code",
   "execution_count": 61,
   "id": "fccea950",
   "metadata": {},
   "outputs": [],
   "source": [
    "X_train, X_val_test, y_train, y_val_test = train_test_split(X_resample, y_resample, train_size = 0.55, \n",
    "                                                             test_size=0.45, random_state = 0)"
   ]
  },
  {
   "cell_type": "code",
   "execution_count": 62,
   "id": "c44ea4e0",
   "metadata": {},
   "outputs": [],
   "source": [
    "X_val, X_test, y_val, y_test = train_test_split(X_val_test, y_val_test, train_size = 0.67, \n",
    "                                                             test_size=0.33, random_state = 0)"
   ]
  },
  {
   "cell_type": "code",
   "execution_count": 63,
   "id": "55f85621",
   "metadata": {},
   "outputs": [],
   "source": [
    "from sklearn.tree import DecisionTreeClassifier"
   ]
  },
  {
   "cell_type": "code",
   "execution_count": 64,
   "id": "ff32aea9",
   "metadata": {},
   "outputs": [],
   "source": [
    "dTree = DecisionTreeClassifier()"
   ]
  },
  {
   "cell_type": "code",
   "execution_count": 65,
   "id": "929b2ae4",
   "metadata": {},
   "outputs": [],
   "source": [
    "dTree = dTree.fit(X_train, y_train)"
   ]
  },
  {
   "cell_type": "code",
   "execution_count": 66,
   "id": "69a83e9a",
   "metadata": {},
   "outputs": [],
   "source": [
    "from sklearn.metrics import accuracy_score, confusion_matrix, classification_report"
   ]
  },
  {
   "cell_type": "code",
   "execution_count": 67,
   "id": "ba89b020",
   "metadata": {},
   "outputs": [],
   "source": [
    "target_prediction = dTree.predict(X_val)"
   ]
  },
  {
   "cell_type": "code",
   "execution_count": 68,
   "id": "96c2c8b5",
   "metadata": {},
   "outputs": [
    {
     "data": {
      "text/plain": [
       "0.999992120881437"
      ]
     },
     "execution_count": 68,
     "metadata": {},
     "output_type": "execute_result"
    }
   ],
   "source": [
    "accuracy_score(y_val, target_prediction)"
   ]
  },
  {
   "cell_type": "code",
   "execution_count": 69,
   "id": "55d0a133",
   "metadata": {},
   "outputs": [
    {
     "name": "stdout",
     "output_type": "stream",
     "text": [
      "<class 'pandas.core.frame.DataFrame'>\n",
      "Int64Index: 982136 entries, 11190856 to 12771682\n",
      "Data columns (total 30 columns):\n",
      " #   Column                      Non-Null Count   Dtype\n",
      "---  ------                      --------------   -----\n",
      " 0   BIFLOW_DIRECTION            982136 non-null  int64\n",
      " 1   DIRECTION                   982136 non-null  int64\n",
      " 2   FIRST_SWITCHED              982136 non-null  int64\n",
      " 3   FLOW_DURATION_MILLISECONDS  982136 non-null  int64\n",
      " 4   FLOW_END_MILLISECONDS       982136 non-null  int64\n",
      " 5   FLOW_ID                     982136 non-null  int64\n",
      " 6   FLOW_START_MILLISECONDS     982136 non-null  int64\n",
      " 7   IN_BYTES                    982136 non-null  int64\n",
      " 8   IN_PKTS                     982136 non-null  int64\n",
      " 9   L4_DST_PORT                 982136 non-null  int64\n",
      " 10  L4_SRC_PORT                 982136 non-null  int64\n",
      " 11  LAST_SWITCHED               982136 non-null  int64\n",
      " 12  OOORDER_IN_PKTS             982136 non-null  int64\n",
      " 13  OOORDER_OUT_PKTS            982136 non-null  int64\n",
      " 14  OUT_BYTES                   982136 non-null  int64\n",
      " 15  OUT_PKTS                    982136 non-null  int64\n",
      " 16  PROTOCOL                    982136 non-null  int64\n",
      " 17  TCP_FLAGS                   982136 non-null  int64\n",
      " 18  TCP_WIN_MAX_IN              982136 non-null  int64\n",
      " 19  TCP_WIN_MAX_OUT             982136 non-null  int64\n",
      " 20  TCP_WIN_MIN_IN              982136 non-null  int64\n",
      " 21  TCP_WIN_MIN_OUT             982136 non-null  int64\n",
      " 22  TCP_WIN_MSS_IN              982136 non-null  int64\n",
      " 23  TCP_WIN_MSS_OUT             982136 non-null  int64\n",
      " 24  TCP_WIN_SCALE_IN            982136 non-null  int64\n",
      " 25  TCP_WIN_SCALE_OUT           982136 non-null  int64\n",
      " 26  SRC_TOS                     982136 non-null  int64\n",
      " 27  DST_TOS                     982136 non-null  int64\n",
      " 28  SAMPLING_INTERVAL           982136 non-null  int64\n",
      " 29  TOTAL_FLOWS_EXP             982136 non-null  int64\n",
      "dtypes: int64(30)\n",
      "memory usage: 232.3 MB\n"
     ]
    }
   ],
   "source": [
    "X.info()"
   ]
  },
  {
   "cell_type": "code",
   "execution_count": 70,
   "id": "b5a372a6",
   "metadata": {},
   "outputs": [
    {
     "name": "stdout",
     "output_type": "stream",
     "text": [
      "<class 'pandas.core.frame.DataFrame'>\n",
      "Int64Index: 982136 entries, 11190856 to 12771682\n",
      "Data columns (total 1 columns):\n",
      " #   Column  Non-Null Count   Dtype\n",
      "---  ------  --------------   -----\n",
      " 0   LABEL   982136 non-null  int64\n",
      "dtypes: int64(1)\n",
      "memory usage: 15.0 MB\n"
     ]
    }
   ],
   "source": [
    "y.info()"
   ]
  },
  {
   "cell_type": "code",
   "execution_count": 71,
   "id": "dfdf7417",
   "metadata": {},
   "outputs": [
    {
     "data": {
      "text/plain": [
       "array([[254463,      1,      1,      6],\n",
       "       [     0, 252909,      0,      0],\n",
       "       [     0,      0, 253769,      0],\n",
       "       [     0,      0,      0, 254193]])"
      ]
     },
     "execution_count": 71,
     "metadata": {},
     "output_type": "execute_result"
    }
   ],
   "source": [
    "confusion_matrix(y_val, target_prediction)"
   ]
  },
  {
   "cell_type": "code",
   "execution_count": 76,
   "id": "8e2e73ec",
   "metadata": {},
   "outputs": [],
   "source": [
    "target_names=[0, 1, 2, 3]\n",
    "target_names=list(map(str,target_names))"
   ]
  },
  {
   "cell_type": "code",
   "execution_count": 77,
   "id": "ec2c7697",
   "metadata": {},
   "outputs": [
    {
     "name": "stdout",
     "output_type": "stream",
     "text": [
      "              precision    recall  f1-score   support\n",
      "\n",
      "           0       1.00      1.00      1.00    254471\n",
      "           1       1.00      1.00      1.00    252909\n",
      "           2       1.00      1.00      1.00    253769\n",
      "           3       1.00      1.00      1.00    254193\n",
      "\n",
      "    accuracy                           1.00   1015342\n",
      "   macro avg       1.00      1.00      1.00   1015342\n",
      "weighted avg       1.00      1.00      1.00   1015342\n",
      "\n"
     ]
    }
   ],
   "source": [
    "print(classification_report(y_val, target_prediction, target_names=target_names))"
   ]
  },
  {
   "cell_type": "code",
   "execution_count": null,
   "id": "465e3b2c",
   "metadata": {},
   "outputs": [],
   "source": []
  }
 ],
 "metadata": {
  "kernelspec": {
   "display_name": "Python 3 (ipykernel)",
   "language": "python",
   "name": "python3"
  },
  "language_info": {
   "codemirror_mode": {
    "name": "ipython",
    "version": 3
   },
   "file_extension": ".py",
   "mimetype": "text/x-python",
   "name": "python",
   "nbconvert_exporter": "python",
   "pygments_lexer": "ipython3",
   "version": "3.9.6"
  }
 },
 "nbformat": 4,
 "nbformat_minor": 5
}
