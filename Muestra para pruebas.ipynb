{
 "cells": [
  {
   "cell_type": "markdown",
   "id": "bfd41525",
   "metadata": {},
   "source": [
    "\n",
    "# Proyecto 1\n",
    "#### Cristina Bautista - 161260\n",
    "#### Abril Palencia - 18198 "
   ]
  },
  {
   "cell_type": "code",
   "execution_count": 1,
   "id": "c151ceba",
   "metadata": {},
   "outputs": [],
   "source": [
    "import pandas as pd\n",
    "import numpy as np\n",
    "import matplotlib.pyplot as plt\n",
    "import seaborn as sns\n",
    "from urllib.parse import urlparse\n",
    "# from pandas_profiling import ProfileReport\n",
    "import re\n",
    "\n",
    "\n",
    "%matplotlib inline"
   ]
  },
  {
   "cell_type": "code",
   "execution_count": 2,
   "id": "061820da",
   "metadata": {},
   "outputs": [],
   "source": [
    "df1 = pd.read_csv('dataset/dataset-part1.csv')\n",
    "df2 = pd.read_csv('dataset/dataset-part2.csv')\n",
    "df3 = pd.read_csv('dataset/dataset-part3.csv')\n",
    "df4 = pd.read_csv('dataset/dataset-part4.csv')"
   ]
  },
  {
   "cell_type": "code",
   "execution_count": 3,
   "id": "2022121f",
   "metadata": {},
   "outputs": [],
   "source": [
    "df_final = pd.concat([df1, df2, df3, df4])"
   ]
  },
  {
   "cell_type": "code",
   "execution_count": 5,
   "id": "c1282aa1",
   "metadata": {},
   "outputs": [],
   "source": [
    "df_final = df_final.drop(labels=['FIREWALL_EVENT', 'FLOW_ACTIVE_TIMEOUT', 'FLOW_DURATION_MICROSECONDS', 'FLOW_END_SEC', \n",
    "                          'FLOW_INACTIVE_TIMEOUT', 'FLOW_START_SEC', 'FRAME_LENGTH', 'IPV4_DST_ADDR', \n",
    "                          'IPV4_SRC_ADDR', 'MAX_IP_PKT_LEN', 'MAX_IP_PKT_LEN', 'MIN_IP_PKT_LEN', 'PROTOCOL_MAP', \n",
    "                          'RETRANSMITTED_IN_BYTES', 'RETRANSMITTED_IN_PKTS', 'RETRANSMITTED_OUT_BYTES', \n",
    "                          'RETRANSMITTED_OUT_PKTS', 'DST_TO_SRC_SECOND_BYTES', 'SRC_TO_DST_SECOND_BYTES', \n",
    "                          'L7_PROTO_NAME'], axis=1)"
   ]
  },
  {
   "cell_type": "code",
   "execution_count": 6,
   "id": "42691e0b",
   "metadata": {},
   "outputs": [],
   "source": [
    "df_final_prueba = df_final.sample(n = 1000000)"
   ]
  },
  {
   "cell_type": "code",
   "execution_count": 7,
   "id": "2329b5d0",
   "metadata": {},
   "outputs": [
    {
     "data": {
      "text/plain": [
       "Normal flow                       842201\n",
       "SYN Scan - aggressive              62292\n",
       "Denial of Service R-U-Dead-Yet     56361\n",
       "Denial of Service Slowloris        21451\n",
       "UDP Scan                           17149\n",
       "NULL Scan                            210\n",
       "FIN Scan                             189\n",
       "XMAS Scan                            147\n",
       "Name: LABEL, dtype: int64"
      ]
     },
     "execution_count": 7,
     "metadata": {},
     "output_type": "execute_result"
    }
   ],
   "source": [
    "df_final_prueba['LABEL'].value_counts()"
   ]
  },
  {
   "cell_type": "code",
   "execution_count": 8,
   "id": "7348c4f0",
   "metadata": {},
   "outputs": [],
   "source": [
    "valores = ['UDP Scan', 'NULL Scan', 'XMAS Scan', 'FIN Scan']"
   ]
  },
  {
   "cell_type": "code",
   "execution_count": 9,
   "id": "773cb540",
   "metadata": {},
   "outputs": [],
   "source": [
    "df_final_prueba = df_final_prueba[df_final_prueba['LABEL'].isin(valores) == False]"
   ]
  },
  {
   "cell_type": "code",
   "execution_count": 10,
   "id": "1ebfd24e",
   "metadata": {},
   "outputs": [],
   "source": [
    "valores2 = [47, 58]"
   ]
  },
  {
   "cell_type": "code",
   "execution_count": 11,
   "id": "b89aee84",
   "metadata": {},
   "outputs": [],
   "source": [
    "df_final_prueba = df_final_prueba[df_final_prueba['PROTOCOL'].isin(valores2) == False]"
   ]
  },
  {
   "cell_type": "code",
   "execution_count": 12,
   "id": "12d70e62",
   "metadata": {},
   "outputs": [
    {
     "data": {
      "text/plain": [
       "Normal flow                       842170\n",
       "SYN Scan - aggressive              62292\n",
       "Denial of Service R-U-Dead-Yet     56361\n",
       "Denial of Service Slowloris        21451\n",
       "Name: LABEL, dtype: int64"
      ]
     },
     "execution_count": 12,
     "metadata": {},
     "output_type": "execute_result"
    }
   ],
   "source": [
    "df_final_prueba['LABEL'].value_counts()"
   ]
  },
  {
   "cell_type": "code",
   "execution_count": 13,
   "id": "e2339157",
   "metadata": {},
   "outputs": [],
   "source": [
    "df_final_prueba['LABEL'].replace({\"Normal flow\": 0, \"Denial of Service R-U-Dead-Yet\": 1,\n",
    "                          \"Denial of Service Slowloris\": 2, \"SYN Scan - aggressive\": 3}, inplace=True)"
   ]
  },
  {
   "cell_type": "code",
   "execution_count": 14,
   "id": "33c09d54",
   "metadata": {},
   "outputs": [],
   "source": [
    "slowloris = df_final_prueba[df_final_prueba['LABEL'] == 2]\n",
    "denial_dead = df_final_prueba[df_final_prueba['LABEL'] == 1]"
   ]
  },
  {
   "cell_type": "code",
   "execution_count": 15,
   "id": "ed169efb",
   "metadata": {},
   "outputs": [],
   "source": [
    "from imblearn import over_sampling\n",
    "from imblearn.over_sampling import RandomOverSampler \n",
    "from collections import Counter"
   ]
  },
  {
   "cell_type": "code",
   "execution_count": 16,
   "id": "0d11d89d",
   "metadata": {},
   "outputs": [
    {
     "data": {
      "text/plain": [
       "[(0, 842170), (1, 56361), (2, 21451), (3, 62292)]"
      ]
     },
     "execution_count": 16,
     "metadata": {},
     "output_type": "execute_result"
    }
   ],
   "source": [
    "sorted(Counter(df_final_prueba['LABEL']).items())"
   ]
  },
  {
   "cell_type": "code",
   "execution_count": 17,
   "id": "36f4959f",
   "metadata": {},
   "outputs": [
    {
     "data": {
      "text/plain": [
       "0    842170\n",
       "3     62292\n",
       "1     56361\n",
       "2     21451\n",
       "Name: LABEL, dtype: int64"
      ]
     },
     "execution_count": 17,
     "metadata": {},
     "output_type": "execute_result"
    },
    {
     "data": {
      "image/png": "[encoded data removed]",
      "text/plain": [
       "<Figure size 432x288 with 1 Axes>"
      ]
     },
     "metadata": {
      "needs_background": "light"
     },
     "output_type": "display_data"
    }
   ],
   "source": [
    "pd.value_counts(df_final_prueba['LABEL']).plot.bar()\n",
    "plt.title('Label s histogram')\n",
    "plt.xlabel('Labels')\n",
    "plt.ylabel('Frequency')\n",
    "df_final_prueba['LABEL'].value_counts()"
   ]
  },
  {
   "cell_type": "code",
   "execution_count": 26,
   "id": "388ad2ea",
   "metadata": {},
   "outputs": [
    {
     "data": {
      "text/html": [
       "<div>\n",
       "<style scoped>\n",
       "    .dataframe tbody tr th:only-of-type {\n",
       "        vertical-align: middle;\n",
       "    }\n",
       "\n",
       "    .dataframe tbody tr th {\n",
       "        vertical-align: top;\n",
       "    }\n",
       "\n",
       "    .dataframe thead th {\n",
       "        text-align: right;\n",
       "    }\n",
       "</style>\n",
       "<table border=\"1\" class=\"dataframe\">\n",
       "  <thead>\n",
       "    <tr style=\"text-align: right;\">\n",
       "      <th></th>\n",
       "      <th>BIFLOW_DIRECTION</th>\n",
       "      <th>DIRECTION</th>\n",
       "      <th>FIRST_SWITCHED</th>\n",
       "      <th>FLOW_DURATION_MILLISECONDS</th>\n",
       "      <th>FLOW_END_MILLISECONDS</th>\n",
       "      <th>FLOW_ID</th>\n",
       "      <th>FLOW_START_MILLISECONDS</th>\n",
       "      <th>IN_BYTES</th>\n",
       "      <th>IN_PKTS</th>\n",
       "      <th>L4_DST_PORT</th>\n",
       "      <th>...</th>\n",
       "      <th>TCP_WIN_MIN_IN</th>\n",
       "      <th>TCP_WIN_MIN_OUT</th>\n",
       "      <th>TCP_WIN_MSS_IN</th>\n",
       "      <th>TCP_WIN_MSS_OUT</th>\n",
       "      <th>TCP_WIN_SCALE_IN</th>\n",
       "      <th>TCP_WIN_SCALE_OUT</th>\n",
       "      <th>SRC_TOS</th>\n",
       "      <th>DST_TOS</th>\n",
       "      <th>SAMPLING_INTERVAL</th>\n",
       "      <th>TOTAL_FLOWS_EXP</th>\n",
       "    </tr>\n",
       "  </thead>\n",
       "  <tbody>\n",
       "    <tr>\n",
       "      <th>1976399</th>\n",
       "      <td>1</td>\n",
       "      <td>0</td>\n",
       "      <td>1618215281</td>\n",
       "      <td>30</td>\n",
       "      <td>1618215281910</td>\n",
       "      <td>79227890</td>\n",
       "      <td>1618215281880</td>\n",
       "      <td>143</td>\n",
       "      <td>2</td>\n",
       "      <td>443</td>\n",
       "      <td>...</td>\n",
       "      <td>83</td>\n",
       "      <td>322</td>\n",
       "      <td>0</td>\n",
       "      <td>0</td>\n",
       "      <td>0</td>\n",
       "      <td>0</td>\n",
       "      <td>0</td>\n",
       "      <td>0</td>\n",
       "      <td>1</td>\n",
       "      <td>79227890</td>\n",
       "    </tr>\n",
       "    <tr>\n",
       "      <th>553319</th>\n",
       "      <td>1</td>\n",
       "      <td>0</td>\n",
       "      <td>1622188312</td>\n",
       "      <td>0</td>\n",
       "      <td>1622188312133</td>\n",
       "      <td>1919426</td>\n",
       "      <td>1622188312132</td>\n",
       "      <td>48</td>\n",
       "      <td>1</td>\n",
       "      <td>8728</td>\n",
       "      <td>...</td>\n",
       "      <td>8192</td>\n",
       "      <td>0</td>\n",
       "      <td>1412</td>\n",
       "      <td>0</td>\n",
       "      <td>0</td>\n",
       "      <td>0</td>\n",
       "      <td>0</td>\n",
       "      <td>0</td>\n",
       "      <td>1</td>\n",
       "      <td>1919426</td>\n",
       "    </tr>\n",
       "    <tr>\n",
       "      <th>14075490</th>\n",
       "      <td>1</td>\n",
       "      <td>0</td>\n",
       "      <td>1622440914</td>\n",
       "      <td>0</td>\n",
       "      <td>1622440914862</td>\n",
       "      <td>21137735</td>\n",
       "      <td>1622440914862</td>\n",
       "      <td>40</td>\n",
       "      <td>1</td>\n",
       "      <td>51296</td>\n",
       "      <td>...</td>\n",
       "      <td>1024</td>\n",
       "      <td>0</td>\n",
       "      <td>0</td>\n",
       "      <td>0</td>\n",
       "      <td>0</td>\n",
       "      <td>0</td>\n",
       "      <td>0</td>\n",
       "      <td>0</td>\n",
       "      <td>1</td>\n",
       "      <td>21137735</td>\n",
       "    </tr>\n",
       "    <tr>\n",
       "      <th>4496335</th>\n",
       "      <td>1</td>\n",
       "      <td>0</td>\n",
       "      <td>1622437911</td>\n",
       "      <td>0</td>\n",
       "      <td>1622437911211</td>\n",
       "      <td>11558580</td>\n",
       "      <td>1622437911211</td>\n",
       "      <td>40</td>\n",
       "      <td>1</td>\n",
       "      <td>1216</td>\n",
       "      <td>...</td>\n",
       "      <td>1024</td>\n",
       "      <td>0</td>\n",
       "      <td>0</td>\n",
       "      <td>0</td>\n",
       "      <td>0</td>\n",
       "      <td>0</td>\n",
       "      <td>0</td>\n",
       "      <td>0</td>\n",
       "      <td>1</td>\n",
       "      <td>11558580</td>\n",
       "    </tr>\n",
       "    <tr>\n",
       "      <th>14980466</th>\n",
       "      <td>1</td>\n",
       "      <td>0</td>\n",
       "      <td>1622441070</td>\n",
       "      <td>0</td>\n",
       "      <td>1622441070247</td>\n",
       "      <td>22042711</td>\n",
       "      <td>1622441070247</td>\n",
       "      <td>40</td>\n",
       "      <td>1</td>\n",
       "      <td>1019</td>\n",
       "      <td>...</td>\n",
       "      <td>1024</td>\n",
       "      <td>0</td>\n",
       "      <td>0</td>\n",
       "      <td>0</td>\n",
       "      <td>0</td>\n",
       "      <td>0</td>\n",
       "      <td>0</td>\n",
       "      <td>0</td>\n",
       "      <td>1</td>\n",
       "      <td>22042711</td>\n",
       "    </tr>\n",
       "    <tr>\n",
       "      <th>...</th>\n",
       "      <td>...</td>\n",
       "      <td>...</td>\n",
       "      <td>...</td>\n",
       "      <td>...</td>\n",
       "      <td>...</td>\n",
       "      <td>...</td>\n",
       "      <td>...</td>\n",
       "      <td>...</td>\n",
       "      <td>...</td>\n",
       "      <td>...</td>\n",
       "      <td>...</td>\n",
       "      <td>...</td>\n",
       "      <td>...</td>\n",
       "      <td>...</td>\n",
       "      <td>...</td>\n",
       "      <td>...</td>\n",
       "      <td>...</td>\n",
       "      <td>...</td>\n",
       "      <td>...</td>\n",
       "      <td>...</td>\n",
       "      <td>...</td>\n",
       "    </tr>\n",
       "    <tr>\n",
       "      <th>3263743</th>\n",
       "      <td>1</td>\n",
       "      <td>0</td>\n",
       "      <td>1622437697</td>\n",
       "      <td>0</td>\n",
       "      <td>1622437697630</td>\n",
       "      <td>10325988</td>\n",
       "      <td>1622437697630</td>\n",
       "      <td>40</td>\n",
       "      <td>1</td>\n",
       "      <td>736</td>\n",
       "      <td>...</td>\n",
       "      <td>1024</td>\n",
       "      <td>0</td>\n",
       "      <td>0</td>\n",
       "      <td>0</td>\n",
       "      <td>0</td>\n",
       "      <td>0</td>\n",
       "      <td>0</td>\n",
       "      <td>0</td>\n",
       "      <td>1</td>\n",
       "      <td>10325988</td>\n",
       "    </tr>\n",
       "    <tr>\n",
       "      <th>15025555</th>\n",
       "      <td>1</td>\n",
       "      <td>0</td>\n",
       "      <td>1622441077</td>\n",
       "      <td>0</td>\n",
       "      <td>1622441077970</td>\n",
       "      <td>22087800</td>\n",
       "      <td>1622441077970</td>\n",
       "      <td>40</td>\n",
       "      <td>1</td>\n",
       "      <td>34845</td>\n",
       "      <td>...</td>\n",
       "      <td>1024</td>\n",
       "      <td>0</td>\n",
       "      <td>0</td>\n",
       "      <td>0</td>\n",
       "      <td>0</td>\n",
       "      <td>0</td>\n",
       "      <td>0</td>\n",
       "      <td>0</td>\n",
       "      <td>1</td>\n",
       "      <td>22087800</td>\n",
       "    </tr>\n",
       "    <tr>\n",
       "      <th>1290298</th>\n",
       "      <td>1</td>\n",
       "      <td>0</td>\n",
       "      <td>1622437355</td>\n",
       "      <td>0</td>\n",
       "      <td>1622437355803</td>\n",
       "      <td>8352543</td>\n",
       "      <td>1622437355803</td>\n",
       "      <td>40</td>\n",
       "      <td>1</td>\n",
       "      <td>58461</td>\n",
       "      <td>...</td>\n",
       "      <td>1024</td>\n",
       "      <td>0</td>\n",
       "      <td>0</td>\n",
       "      <td>0</td>\n",
       "      <td>0</td>\n",
       "      <td>0</td>\n",
       "      <td>0</td>\n",
       "      <td>0</td>\n",
       "      <td>1</td>\n",
       "      <td>8352543</td>\n",
       "    </tr>\n",
       "    <tr>\n",
       "      <th>26517742</th>\n",
       "      <td>1</td>\n",
       "      <td>0</td>\n",
       "      <td>1622455315</td>\n",
       "      <td>15</td>\n",
       "      <td>1622455315598</td>\n",
       "      <td>33579987</td>\n",
       "      <td>1622455315583</td>\n",
       "      <td>148</td>\n",
       "      <td>2</td>\n",
       "      <td>53</td>\n",
       "      <td>...</td>\n",
       "      <td>0</td>\n",
       "      <td>0</td>\n",
       "      <td>0</td>\n",
       "      <td>0</td>\n",
       "      <td>0</td>\n",
       "      <td>0</td>\n",
       "      <td>0</td>\n",
       "      <td>0</td>\n",
       "      <td>1</td>\n",
       "      <td>33579987</td>\n",
       "    </tr>\n",
       "    <tr>\n",
       "      <th>12722875</th>\n",
       "      <td>1</td>\n",
       "      <td>0</td>\n",
       "      <td>1622440681</td>\n",
       "      <td>0</td>\n",
       "      <td>1622440681443</td>\n",
       "      <td>19785120</td>\n",
       "      <td>1622440681443</td>\n",
       "      <td>40</td>\n",
       "      <td>1</td>\n",
       "      <td>46749</td>\n",
       "      <td>...</td>\n",
       "      <td>1024</td>\n",
       "      <td>0</td>\n",
       "      <td>0</td>\n",
       "      <td>0</td>\n",
       "      <td>0</td>\n",
       "      <td>0</td>\n",
       "      <td>0</td>\n",
       "      <td>0</td>\n",
       "      <td>1</td>\n",
       "      <td>19785120</td>\n",
       "    </tr>\n",
       "  </tbody>\n",
       "</table>\n",
       "<p>982274 rows × 30 columns</p>\n",
       "</div>"
      ],
      "text/plain": [
       "          BIFLOW_DIRECTION  DIRECTION  FIRST_SWITCHED  \\\n",
       "1976399                  1          0      1618215281   \n",
       "553319                   1          0      1622188312   \n",
       "14075490                 1          0      1622440914   \n",
       "4496335                  1          0      1622437911   \n",
       "14980466                 1          0      1622441070   \n",
       "...                    ...        ...             ...   \n",
       "3263743                  1          0      1622437697   \n",
       "15025555                 1          0      1622441077   \n",
       "1290298                  1          0      1622437355   \n",
       "26517742                 1          0      1622455315   \n",
       "12722875                 1          0      1622440681   \n",
       "\n",
       "          FLOW_DURATION_MILLISECONDS  FLOW_END_MILLISECONDS   FLOW_ID  \\\n",
       "1976399                           30          1618215281910  79227890   \n",
       "553319                             0          1622188312133   1919426   \n",
       "14075490                           0          1622440914862  21137735   \n",
       "4496335                            0          1622437911211  11558580   \n",
       "14980466                           0          1622441070247  22042711   \n",
       "...                              ...                    ...       ...   \n",
       "3263743                            0          1622437697630  10325988   \n",
       "15025555                           0          1622441077970  22087800   \n",
       "1290298                            0          1622437355803   8352543   \n",
       "26517742                          15          1622455315598  33579987   \n",
       "12722875                           0          1622440681443  19785120   \n",
       "\n",
       "          FLOW_START_MILLISECONDS  IN_BYTES  IN_PKTS  L4_DST_PORT  ...  \\\n",
       "1976399             1618215281880       143        2          443  ...   \n",
       "553319              1622188312132        48        1         8728  ...   \n",
       "14075490            1622440914862        40        1        51296  ...   \n",
       "4496335             1622437911211        40        1         1216  ...   \n",
       "14980466            1622441070247        40        1         1019  ...   \n",
       "...                           ...       ...      ...          ...  ...   \n",
       "3263743             1622437697630        40        1          736  ...   \n",
       "15025555            1622441077970        40        1        34845  ...   \n",
       "1290298             1622437355803        40        1        58461  ...   \n",
       "26517742            1622455315583       148        2           53  ...   \n",
       "12722875            1622440681443        40        1        46749  ...   \n",
       "\n",
       "          TCP_WIN_MIN_IN  TCP_WIN_MIN_OUT  TCP_WIN_MSS_IN  TCP_WIN_MSS_OUT  \\\n",
       "1976399               83              322               0                0   \n",
       "553319              8192                0            1412                0   \n",
       "14075490            1024                0               0                0   \n",
       "4496335             1024                0               0                0   \n",
       "14980466            1024                0               0                0   \n",
       "...                  ...              ...             ...              ...   \n",
       "3263743             1024                0               0                0   \n",
       "15025555            1024                0               0                0   \n",
       "1290298             1024                0               0                0   \n",
       "26517742               0                0               0                0   \n",
       "12722875            1024                0               0                0   \n",
       "\n",
       "          TCP_WIN_SCALE_IN  TCP_WIN_SCALE_OUT  SRC_TOS  DST_TOS  \\\n",
       "1976399                  0                  0        0        0   \n",
       "553319                   0                  0        0        0   \n",
       "14075490                 0                  0        0        0   \n",
       "4496335                  0                  0        0        0   \n",
       "14980466                 0                  0        0        0   \n",
       "...                    ...                ...      ...      ...   \n",
       "3263743                  0                  0        0        0   \n",
       "15025555                 0                  0        0        0   \n",
       "1290298                  0                  0        0        0   \n",
       "26517742                 0                  0        0        0   \n",
       "12722875                 0                  0        0        0   \n",
       "\n",
       "          SAMPLING_INTERVAL  TOTAL_FLOWS_EXP  \n",
       "1976399                   1         79227890  \n",
       "553319                    1          1919426  \n",
       "14075490                  1         21137735  \n",
       "4496335                   1         11558580  \n",
       "14980466                  1         22042711  \n",
       "...                     ...              ...  \n",
       "3263743                   1         10325988  \n",
       "15025555                  1         22087800  \n",
       "1290298                   1          8352543  \n",
       "26517742                  1         33579987  \n",
       "12722875                  1         19785120  \n",
       "\n",
       "[982274 rows x 30 columns]"
      ]
     },
     "execution_count": 26,
     "metadata": {},
     "output_type": "execute_result"
    }
   ],
   "source": [
    "X = df_final_prueba\n",
    "y = df_final_prueba[['LABEL']]\n",
    "X.drop(['LABEL'], axis=1)"
   ]
  },
  {
   "cell_type": "code",
   "execution_count": 27,
   "id": "2946ff52",
   "metadata": {},
   "outputs": [],
   "source": [
    "# y = pd.DataFrame(y)"
   ]
  },
  {
   "cell_type": "code",
   "execution_count": 34,
   "id": "a806350d",
   "metadata": {},
   "outputs": [
    {
     "data": {
      "text/plain": [
       "LABEL\n",
       "0        842170\n",
       "3         62292\n",
       "1         56361\n",
       "2         21451\n",
       "dtype: int64"
      ]
     },
     "execution_count": 34,
     "metadata": {},
     "output_type": "execute_result"
    }
   ],
   "source": [
    "y.value_counts()"
   ]
  },
  {
   "cell_type": "code",
   "execution_count": 28,
   "id": "d45bbec9",
   "metadata": {},
   "outputs": [
    {
     "data": {
      "text/plain": [
       "((982274, 31), (982274, 1))"
      ]
     },
     "execution_count": 28,
     "metadata": {},
     "output_type": "execute_result"
    }
   ],
   "source": [
    "X.shape, y.shape#y.reshape(-1,1)"
   ]
  },
  {
   "cell_type": "code",
   "execution_count": 29,
   "id": "fdd7ae49",
   "metadata": {},
   "outputs": [],
   "source": [
    "ros = RandomOverSampler(random_state=5)\n",
    "X_resample, y_resample = ros.fit_resample(X, y)"
   ]
  },
  {
   "cell_type": "code",
   "execution_count": 35,
   "id": "7f6d9d36",
   "metadata": {},
   "outputs": [
    {
     "data": {
      "text/plain": [
       "LABEL\n",
       "0        842170\n",
       "1        842170\n",
       "2        842170\n",
       "3        842170\n",
       "dtype: int64"
      ]
     },
     "execution_count": 35,
     "metadata": {},
     "output_type": "execute_result"
    }
   ],
   "source": [
    "y_resample.value_counts()"
   ]
  },
  {
   "cell_type": "code",
   "execution_count": null,
   "id": "fccea950",
   "metadata": {},
   "outputs": [],
   "source": []
  },
  {
   "cell_type": "code",
   "execution_count": null,
   "id": "c44ea4e0",
   "metadata": {},
   "outputs": [],
   "source": []
  },
  {
   "cell_type": "code",
   "execution_count": null,
   "id": "55f85621",
   "metadata": {},
   "outputs": [],
   "source": []
  }
 ],
 "metadata": {
  "kernelspec": {
   "display_name": "Python 3 (ipykernel)",
   "language": "python",
   "name": "python3"
  },
  "language_info": {
   "codemirror_mode": {
    "name": "ipython",
    "version": 3
   },
   "file_extension": ".py",
   "mimetype": "text/x-python",
   "name": "python",
   "nbconvert_exporter": "python",
   "pygments_lexer": "ipython3",
   "version": "3.9.6"
  }
 },
 "nbformat": 4,
 "nbformat_minor": 5
}
