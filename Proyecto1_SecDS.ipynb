{
 "cells": [
  {
   "cell_type": "markdown",
   "id": "e381cecf",
   "metadata": {},
   "source": [
    "# Proyecto 1\n",
    "#### Cristina Bautista - 161260\n",
    "#### Abril Palencia - 18198 "
   ]
  },
  {
   "cell_type": "code",
   "execution_count": 1,
   "id": "7ae829a9",
   "metadata": {},
   "outputs": [],
   "source": [
    "import pandas as pd\n",
    "import numpy as np\n",
    "import matplotlib.pyplot as plt\n",
    "import seaborn as sns\n",
    "from urllib.parse import urlparse\n",
    "# from pandas_profiling import ProfileReport\n",
    "import re\n",
    "\n",
    "\n",
    "%matplotlib inline"
   ]
  },
  {
   "cell_type": "code",
   "execution_count": 2,
   "id": "98215d31",
   "metadata": {},
   "outputs": [],
   "source": [
    "df1 = pd.read_csv('dataset/dataset-part1.csv')\n",
    "df2 = pd.read_csv('dataset/dataset-part2.csv')\n",
    "df3 = pd.read_csv('dataset/dataset-part3.csv')\n",
    "df4 = pd.read_csv('dataset/dataset-part4.csv')"
   ]
  },
  {
   "cell_type": "code",
   "execution_count": 3,
   "id": "0ea1adec",
   "metadata": {},
   "outputs": [
    {
     "data": {
      "text/html": [
       "<div>\n",
       "<style scoped>\n",
       "    .dataframe tbody tr th:only-of-type {\n",
       "        vertical-align: middle;\n",
       "    }\n",
       "\n",
       "    .dataframe tbody tr th {\n",
       "        vertical-align: top;\n",
       "    }\n",
       "\n",
       "    .dataframe thead th {\n",
       "        text-align: right;\n",
       "    }\n",
       "</style>\n",
       "<table border=\"1\" class=\"dataframe\">\n",
       "  <thead>\n",
       "    <tr style=\"text-align: right;\">\n",
       "      <th></th>\n",
       "      <th>BIFLOW_DIRECTION</th>\n",
       "      <th>DIRECTION</th>\n",
       "      <th>DST_TO_SRC_SECOND_BYTES</th>\n",
       "      <th>FIREWALL_EVENT</th>\n",
       "      <th>FIRST_SWITCHED</th>\n",
       "      <th>FLOW_ACTIVE_TIMEOUT</th>\n",
       "      <th>FLOW_DURATION_MICROSECONDS</th>\n",
       "      <th>FLOW_DURATION_MILLISECONDS</th>\n",
       "      <th>FLOW_END_MILLISECONDS</th>\n",
       "      <th>FLOW_END_SEC</th>\n",
       "      <th>...</th>\n",
       "      <th>TCP_WIN_MSS_IN</th>\n",
       "      <th>TCP_WIN_MSS_OUT</th>\n",
       "      <th>TCP_WIN_SCALE_IN</th>\n",
       "      <th>TCP_WIN_SCALE_OUT</th>\n",
       "      <th>SRC_TOS</th>\n",
       "      <th>DST_TOS</th>\n",
       "      <th>L7_PROTO_NAME</th>\n",
       "      <th>SAMPLING_INTERVAL</th>\n",
       "      <th>TOTAL_FLOWS_EXP</th>\n",
       "      <th>LABEL</th>\n",
       "    </tr>\n",
       "  </thead>\n",
       "  <tbody>\n",
       "    <tr>\n",
       "      <th>0</th>\n",
       "      <td>1</td>\n",
       "      <td>0</td>\n",
       "      <td>40</td>\n",
       "      <td>0</td>\n",
       "      <td>1616660040</td>\n",
       "      <td>120</td>\n",
       "      <td>339</td>\n",
       "      <td>0</td>\n",
       "      <td>1616660040010</td>\n",
       "      <td>1616660040</td>\n",
       "      <td>...</td>\n",
       "      <td>1460</td>\n",
       "      <td>0</td>\n",
       "      <td>0</td>\n",
       "      <td>0</td>\n",
       "      <td>0</td>\n",
       "      <td>0</td>\n",
       "      <td>Unknown</td>\n",
       "      <td>1</td>\n",
       "      <td>2293398</td>\n",
       "      <td>Normal flow</td>\n",
       "    </tr>\n",
       "    <tr>\n",
       "      <th>1</th>\n",
       "      <td>1</td>\n",
       "      <td>0</td>\n",
       "      <td>,</td>\n",
       "      <td>0</td>\n",
       "      <td>1616660040</td>\n",
       "      <td>120</td>\n",
       "      <td>0</td>\n",
       "      <td>0</td>\n",
       "      <td>1616660040068</td>\n",
       "      <td>1616660040</td>\n",
       "      <td>...</td>\n",
       "      <td>0</td>\n",
       "      <td>0</td>\n",
       "      <td>0</td>\n",
       "      <td>0</td>\n",
       "      <td>40</td>\n",
       "      <td>0</td>\n",
       "      <td>ICMP</td>\n",
       "      <td>1</td>\n",
       "      <td>2293400</td>\n",
       "      <td>Normal flow</td>\n",
       "    </tr>\n",
       "    <tr>\n",
       "      <th>2</th>\n",
       "      <td>1</td>\n",
       "      <td>0</td>\n",
       "      <td>104</td>\n",
       "      <td>0</td>\n",
       "      <td>1616660040</td>\n",
       "      <td>120</td>\n",
       "      <td>44725</td>\n",
       "      <td>44</td>\n",
       "      <td>1616660040114</td>\n",
       "      <td>1616660040</td>\n",
       "      <td>...</td>\n",
       "      <td>0</td>\n",
       "      <td>0</td>\n",
       "      <td>0</td>\n",
       "      <td>0</td>\n",
       "      <td>0</td>\n",
       "      <td>0</td>\n",
       "      <td>TLS</td>\n",
       "      <td>1</td>\n",
       "      <td>2293404</td>\n",
       "      <td>Normal flow</td>\n",
       "    </tr>\n",
       "    <tr>\n",
       "      <th>3</th>\n",
       "      <td>1</td>\n",
       "      <td>0</td>\n",
       "      <td>,</td>\n",
       "      <td>0</td>\n",
       "      <td>1616660040</td>\n",
       "      <td>120</td>\n",
       "      <td>0</td>\n",
       "      <td>0</td>\n",
       "      <td>1616660040122</td>\n",
       "      <td>1616660040</td>\n",
       "      <td>...</td>\n",
       "      <td>1440</td>\n",
       "      <td>0</td>\n",
       "      <td>8</td>\n",
       "      <td>0</td>\n",
       "      <td>40</td>\n",
       "      <td>0</td>\n",
       "      <td>Unknown</td>\n",
       "      <td>1</td>\n",
       "      <td>2293407</td>\n",
       "      <td>Normal flow</td>\n",
       "    </tr>\n",
       "    <tr>\n",
       "      <th>4</th>\n",
       "      <td>1</td>\n",
       "      <td>0</td>\n",
       "      <td>40</td>\n",
       "      <td>0</td>\n",
       "      <td>1616660040</td>\n",
       "      <td>120</td>\n",
       "      <td>1114</td>\n",
       "      <td>1</td>\n",
       "      <td>1616660040184</td>\n",
       "      <td>1616660040</td>\n",
       "      <td>...</td>\n",
       "      <td>0</td>\n",
       "      <td>0</td>\n",
       "      <td>0</td>\n",
       "      <td>0</td>\n",
       "      <td>0</td>\n",
       "      <td>0</td>\n",
       "      <td>TLS</td>\n",
       "      <td>1</td>\n",
       "      <td>2293409</td>\n",
       "      <td>Normal flow</td>\n",
       "    </tr>\n",
       "    <tr>\n",
       "      <th>...</th>\n",
       "      <td>...</td>\n",
       "      <td>...</td>\n",
       "      <td>...</td>\n",
       "      <td>...</td>\n",
       "      <td>...</td>\n",
       "      <td>...</td>\n",
       "      <td>...</td>\n",
       "      <td>...</td>\n",
       "      <td>...</td>\n",
       "      <td>...</td>\n",
       "      <td>...</td>\n",
       "      <td>...</td>\n",
       "      <td>...</td>\n",
       "      <td>...</td>\n",
       "      <td>...</td>\n",
       "      <td>...</td>\n",
       "      <td>...</td>\n",
       "      <td>...</td>\n",
       "      <td>...</td>\n",
       "      <td>...</td>\n",
       "      <td>...</td>\n",
       "    </tr>\n",
       "    <tr>\n",
       "      <th>3570661</th>\n",
       "      <td>1</td>\n",
       "      <td>0</td>\n",
       "      <td>200,,,,,,,,,,,,,,,,,,,,200,,,,,,,,,,,,,,,,,,,,...</td>\n",
       "      <td>0</td>\n",
       "      <td>1616674440</td>\n",
       "      <td>120</td>\n",
       "      <td>101430708</td>\n",
       "      <td>101430</td>\n",
       "      <td>1616674541712</td>\n",
       "      <td>1616674541</td>\n",
       "      <td>...</td>\n",
       "      <td>0</td>\n",
       "      <td>0</td>\n",
       "      <td>0</td>\n",
       "      <td>0</td>\n",
       "      <td>0</td>\n",
       "      <td>0</td>\n",
       "      <td>STUN.SkypeCall</td>\n",
       "      <td>1</td>\n",
       "      <td>5870422</td>\n",
       "      <td>Normal flow</td>\n",
       "    </tr>\n",
       "    <tr>\n",
       "      <th>3570662</th>\n",
       "      <td>1</td>\n",
       "      <td>0</td>\n",
       "      <td>200,,,,,,,,,,,,,,,,,,,,200,,,,,,,,,,,,,,,,,,,,...</td>\n",
       "      <td>0</td>\n",
       "      <td>1616674440</td>\n",
       "      <td>120</td>\n",
       "      <td>101332421</td>\n",
       "      <td>101332</td>\n",
       "      <td>1616674541823</td>\n",
       "      <td>1616674541</td>\n",
       "      <td>...</td>\n",
       "      <td>0</td>\n",
       "      <td>0</td>\n",
       "      <td>0</td>\n",
       "      <td>0</td>\n",
       "      <td>0</td>\n",
       "      <td>0</td>\n",
       "      <td>STUN.SkypeCall</td>\n",
       "      <td>1</td>\n",
       "      <td>5870423</td>\n",
       "      <td>Normal flow</td>\n",
       "    </tr>\n",
       "    <tr>\n",
       "      <th>3570663</th>\n",
       "      <td>1</td>\n",
       "      <td>0</td>\n",
       "      <td>108,,,,,,,,,,,108,,,,,,,,,,110,108,,,,,,,,,,,1...</td>\n",
       "      <td>0</td>\n",
       "      <td>1616674440</td>\n",
       "      <td>120</td>\n",
       "      <td>108700564</td>\n",
       "      <td>108700</td>\n",
       "      <td>1616674549429</td>\n",
       "      <td>1616674549</td>\n",
       "      <td>...</td>\n",
       "      <td>0</td>\n",
       "      <td>0</td>\n",
       "      <td>0</td>\n",
       "      <td>0</td>\n",
       "      <td>0</td>\n",
       "      <td>0</td>\n",
       "      <td>TLS.Facebook</td>\n",
       "      <td>1</td>\n",
       "      <td>5870424</td>\n",
       "      <td>Normal flow</td>\n",
       "    </tr>\n",
       "    <tr>\n",
       "      <th>3570664</th>\n",
       "      <td>1</td>\n",
       "      <td>0</td>\n",
       "      <td>200,,,,,,,,,,,,,,,,,,,,,200,,,,,,,,,,,,,,,,,,,...</td>\n",
       "      <td>0</td>\n",
       "      <td>1616674440</td>\n",
       "      <td>120</td>\n",
       "      <td>101391591</td>\n",
       "      <td>101391</td>\n",
       "      <td>1616674542194</td>\n",
       "      <td>1616674542</td>\n",
       "      <td>...</td>\n",
       "      <td>0</td>\n",
       "      <td>0</td>\n",
       "      <td>0</td>\n",
       "      <td>0</td>\n",
       "      <td>0</td>\n",
       "      <td>0</td>\n",
       "      <td>STUN.SkypeCall</td>\n",
       "      <td>1</td>\n",
       "      <td>5870425</td>\n",
       "      <td>Normal flow</td>\n",
       "    </tr>\n",
       "    <tr>\n",
       "      <th>3570665</th>\n",
       "      <td>1</td>\n",
       "      <td>0</td>\n",
       "      <td>200,,,,,,,,,,,,,,,,,,,,,200,,,,,,,,,,,,,,,,,,,...</td>\n",
       "      <td>0</td>\n",
       "      <td>1616674440</td>\n",
       "      <td>120</td>\n",
       "      <td>101336899</td>\n",
       "      <td>101336</td>\n",
       "      <td>1616674542246</td>\n",
       "      <td>1616674542</td>\n",
       "      <td>...</td>\n",
       "      <td>0</td>\n",
       "      <td>0</td>\n",
       "      <td>0</td>\n",
       "      <td>0</td>\n",
       "      <td>0</td>\n",
       "      <td>0</td>\n",
       "      <td>STUN.Skype</td>\n",
       "      <td>1</td>\n",
       "      <td>5870426</td>\n",
       "      <td>Normal flow</td>\n",
       "    </tr>\n",
       "  </tbody>\n",
       "</table>\n",
       "<p>3570666 rows × 50 columns</p>\n",
       "</div>"
      ],
      "text/plain": [
       "         BIFLOW_DIRECTION  DIRECTION  \\\n",
       "0                       1          0   \n",
       "1                       1          0   \n",
       "2                       1          0   \n",
       "3                       1          0   \n",
       "4                       1          0   \n",
       "...                   ...        ...   \n",
       "3570661                 1          0   \n",
       "3570662                 1          0   \n",
       "3570663                 1          0   \n",
       "3570664                 1          0   \n",
       "3570665                 1          0   \n",
       "\n",
       "                                   DST_TO_SRC_SECOND_BYTES  FIREWALL_EVENT  \\\n",
       "0                                                       40               0   \n",
       "1                                                        ,               0   \n",
       "2                                                      104               0   \n",
       "3                                                        ,               0   \n",
       "4                                                       40               0   \n",
       "...                                                    ...             ...   \n",
       "3570661  200,,,,,,,,,,,,,,,,,,,,200,,,,,,,,,,,,,,,,,,,,...               0   \n",
       "3570662  200,,,,,,,,,,,,,,,,,,,,200,,,,,,,,,,,,,,,,,,,,...               0   \n",
       "3570663  108,,,,,,,,,,,108,,,,,,,,,,110,108,,,,,,,,,,,1...               0   \n",
       "3570664  200,,,,,,,,,,,,,,,,,,,,,200,,,,,,,,,,,,,,,,,,,...               0   \n",
       "3570665  200,,,,,,,,,,,,,,,,,,,,,200,,,,,,,,,,,,,,,,,,,...               0   \n",
       "\n",
       "         FIRST_SWITCHED  FLOW_ACTIVE_TIMEOUT  FLOW_DURATION_MICROSECONDS  \\\n",
       "0            1616660040                  120                         339   \n",
       "1            1616660040                  120                           0   \n",
       "2            1616660040                  120                       44725   \n",
       "3            1616660040                  120                           0   \n",
       "4            1616660040                  120                        1114   \n",
       "...                 ...                  ...                         ...   \n",
       "3570661      1616674440                  120                   101430708   \n",
       "3570662      1616674440                  120                   101332421   \n",
       "3570663      1616674440                  120                   108700564   \n",
       "3570664      1616674440                  120                   101391591   \n",
       "3570665      1616674440                  120                   101336899   \n",
       "\n",
       "         FLOW_DURATION_MILLISECONDS  FLOW_END_MILLISECONDS  FLOW_END_SEC  ...  \\\n",
       "0                                 0          1616660040010    1616660040  ...   \n",
       "1                                 0          1616660040068    1616660040  ...   \n",
       "2                                44          1616660040114    1616660040  ...   \n",
       "3                                 0          1616660040122    1616660040  ...   \n",
       "4                                 1          1616660040184    1616660040  ...   \n",
       "...                             ...                    ...           ...  ...   \n",
       "3570661                      101430          1616674541712    1616674541  ...   \n",
       "3570662                      101332          1616674541823    1616674541  ...   \n",
       "3570663                      108700          1616674549429    1616674549  ...   \n",
       "3570664                      101391          1616674542194    1616674542  ...   \n",
       "3570665                      101336          1616674542246    1616674542  ...   \n",
       "\n",
       "         TCP_WIN_MSS_IN  TCP_WIN_MSS_OUT  TCP_WIN_SCALE_IN  TCP_WIN_SCALE_OUT  \\\n",
       "0                  1460                0                 0                  0   \n",
       "1                     0                0                 0                  0   \n",
       "2                     0                0                 0                  0   \n",
       "3                  1440                0                 8                  0   \n",
       "4                     0                0                 0                  0   \n",
       "...                 ...              ...               ...                ...   \n",
       "3570661               0                0                 0                  0   \n",
       "3570662               0                0                 0                  0   \n",
       "3570663               0                0                 0                  0   \n",
       "3570664               0                0                 0                  0   \n",
       "3570665               0                0                 0                  0   \n",
       "\n",
       "         SRC_TOS  DST_TOS   L7_PROTO_NAME SAMPLING_INTERVAL TOTAL_FLOWS_EXP  \\\n",
       "0              0        0         Unknown                 1         2293398   \n",
       "1             40        0            ICMP                 1         2293400   \n",
       "2              0        0             TLS                 1         2293404   \n",
       "3             40        0         Unknown                 1         2293407   \n",
       "4              0        0             TLS                 1         2293409   \n",
       "...          ...      ...             ...               ...             ...   \n",
       "3570661        0        0  STUN.SkypeCall                 1         5870422   \n",
       "3570662        0        0  STUN.SkypeCall                 1         5870423   \n",
       "3570663        0        0    TLS.Facebook                 1         5870424   \n",
       "3570664        0        0  STUN.SkypeCall                 1         5870425   \n",
       "3570665        0        0      STUN.Skype                 1         5870426   \n",
       "\n",
       "               LABEL  \n",
       "0        Normal flow  \n",
       "1        Normal flow  \n",
       "2        Normal flow  \n",
       "3        Normal flow  \n",
       "4        Normal flow  \n",
       "...              ...  \n",
       "3570661  Normal flow  \n",
       "3570662  Normal flow  \n",
       "3570663  Normal flow  \n",
       "3570664  Normal flow  \n",
       "3570665  Normal flow  \n",
       "\n",
       "[3570666 rows x 50 columns]"
      ]
     },
     "execution_count": 3,
     "metadata": {},
     "output_type": "execute_result"
    }
   ],
   "source": [
    "df1"
   ]
  },
  {
   "cell_type": "code",
   "execution_count": 4,
   "id": "389c9184",
   "metadata": {},
   "outputs": [
    {
     "name": "stdout",
     "output_type": "stream",
     "text": [
      "<class 'pandas.core.frame.DataFrame'>\n",
      "RangeIndex: 3570666 entries, 0 to 3570665\n",
      "Data columns (total 50 columns):\n",
      " #   Column                      Dtype \n",
      "---  ------                      ----- \n",
      " 0   BIFLOW_DIRECTION            int64 \n",
      " 1   DIRECTION                   int64 \n",
      " 2   DST_TO_SRC_SECOND_BYTES     object\n",
      " 3   FIREWALL_EVENT              int64 \n",
      " 4   FIRST_SWITCHED              int64 \n",
      " 5   FLOW_ACTIVE_TIMEOUT         int64 \n",
      " 6   FLOW_DURATION_MICROSECONDS  int64 \n",
      " 7   FLOW_DURATION_MILLISECONDS  int64 \n",
      " 8   FLOW_END_MILLISECONDS       int64 \n",
      " 9   FLOW_END_SEC                int64 \n",
      " 10  FLOW_ID                     int64 \n",
      " 11  FLOW_INACTIVE_TIMEOUT       int64 \n",
      " 12  FLOW_START_MILLISECONDS     int64 \n",
      " 13  FLOW_START_SEC              int64 \n",
      " 14  FRAME_LENGTH                int64 \n",
      " 15  IN_BYTES                    int64 \n",
      " 16  IN_PKTS                     int64 \n",
      " 17  IPV4_DST_ADDR               object\n",
      " 18  IPV4_SRC_ADDR               object\n",
      " 19  L4_DST_PORT                 int64 \n",
      " 20  L4_SRC_PORT                 int64 \n",
      " 21  LAST_SWITCHED               int64 \n",
      " 22  MAX_IP_PKT_LEN              int64 \n",
      " 23  MIN_IP_PKT_LEN              int64 \n",
      " 24  OOORDER_IN_PKTS             int64 \n",
      " 25  OOORDER_OUT_PKTS            int64 \n",
      " 26  OUT_BYTES                   int64 \n",
      " 27  OUT_PKTS                    int64 \n",
      " 28  PROTOCOL                    int64 \n",
      " 29  PROTOCOL_MAP                object\n",
      " 30  RETRANSMITTED_IN_BYTES      int64 \n",
      " 31  RETRANSMITTED_IN_PKTS       int64 \n",
      " 32  RETRANSMITTED_OUT_BYTES     int64 \n",
      " 33  RETRANSMITTED_OUT_PKTS      int64 \n",
      " 34  SRC_TO_DST_SECOND_BYTES     object\n",
      " 35  TCP_FLAGS                   int64 \n",
      " 36  TCP_WIN_MAX_IN              int64 \n",
      " 37  TCP_WIN_MAX_OUT             int64 \n",
      " 38  TCP_WIN_MIN_IN              int64 \n",
      " 39  TCP_WIN_MIN_OUT             int64 \n",
      " 40  TCP_WIN_MSS_IN              int64 \n",
      " 41  TCP_WIN_MSS_OUT             int64 \n",
      " 42  TCP_WIN_SCALE_IN            int64 \n",
      " 43  TCP_WIN_SCALE_OUT           int64 \n",
      " 44  SRC_TOS                     int64 \n",
      " 45  DST_TOS                     int64 \n",
      " 46  L7_PROTO_NAME               object\n",
      " 47  SAMPLING_INTERVAL           int64 \n",
      " 48  TOTAL_FLOWS_EXP             int64 \n",
      " 49  LABEL                       object\n",
      "dtypes: int64(43), object(7)\n",
      "memory usage: 1.3+ GB\n"
     ]
    }
   ],
   "source": [
    "df1.info()"
   ]
  },
  {
   "cell_type": "code",
   "execution_count": 5,
   "id": "fc4a9bd8",
   "metadata": {},
   "outputs": [
    {
     "data": {
      "text/plain": [
       "3570666"
      ]
     },
     "execution_count": 5,
     "metadata": {},
     "output_type": "execute_result"
    }
   ],
   "source": [
    "len(df1)"
   ]
  },
  {
   "cell_type": "code",
   "execution_count": 6,
   "id": "e75d02c5",
   "metadata": {},
   "outputs": [
    {
     "name": "stdout",
     "output_type": "stream",
     "text": [
      "<class 'pandas.core.frame.DataFrame'>\n",
      "RangeIndex: 8637207 entries, 0 to 8637206\n",
      "Data columns (total 50 columns):\n",
      " #   Column                      Dtype \n",
      "---  ------                      ----- \n",
      " 0   BIFLOW_DIRECTION            int64 \n",
      " 1   DIRECTION                   int64 \n",
      " 2   DST_TO_SRC_SECOND_BYTES     object\n",
      " 3   FIREWALL_EVENT              int64 \n",
      " 4   FIRST_SWITCHED              int64 \n",
      " 5   FLOW_ACTIVE_TIMEOUT         int64 \n",
      " 6   FLOW_DURATION_MICROSECONDS  int64 \n",
      " 7   FLOW_DURATION_MILLISECONDS  int64 \n",
      " 8   FLOW_END_MILLISECONDS       int64 \n",
      " 9   FLOW_END_SEC                int64 \n",
      " 10  FLOW_ID                     int64 \n",
      " 11  FLOW_INACTIVE_TIMEOUT       int64 \n",
      " 12  FLOW_START_MILLISECONDS     int64 \n",
      " 13  FLOW_START_SEC              int64 \n",
      " 14  FRAME_LENGTH                int64 \n",
      " 15  IN_BYTES                    int64 \n",
      " 16  IN_PKTS                     int64 \n",
      " 17  IPV4_DST_ADDR               object\n",
      " 18  IPV4_SRC_ADDR               object\n",
      " 19  L4_DST_PORT                 int64 \n",
      " 20  L4_SRC_PORT                 int64 \n",
      " 21  LAST_SWITCHED               int64 \n",
      " 22  MAX_IP_PKT_LEN              int64 \n",
      " 23  MIN_IP_PKT_LEN              int64 \n",
      " 24  OOORDER_IN_PKTS             int64 \n",
      " 25  OOORDER_OUT_PKTS            int64 \n",
      " 26  OUT_BYTES                   int64 \n",
      " 27  OUT_PKTS                    int64 \n",
      " 28  PROTOCOL                    int64 \n",
      " 29  PROTOCOL_MAP                object\n",
      " 30  RETRANSMITTED_IN_BYTES      int64 \n",
      " 31  RETRANSMITTED_IN_PKTS       int64 \n",
      " 32  RETRANSMITTED_OUT_BYTES     int64 \n",
      " 33  RETRANSMITTED_OUT_PKTS      int64 \n",
      " 34  SRC_TO_DST_SECOND_BYTES     object\n",
      " 35  TCP_FLAGS                   int64 \n",
      " 36  TCP_WIN_MAX_IN              int64 \n",
      " 37  TCP_WIN_MAX_OUT             int64 \n",
      " 38  TCP_WIN_MIN_IN              int64 \n",
      " 39  TCP_WIN_MIN_OUT             int64 \n",
      " 40  TCP_WIN_MSS_IN              int64 \n",
      " 41  TCP_WIN_MSS_OUT             int64 \n",
      " 42  TCP_WIN_SCALE_IN            int64 \n",
      " 43  TCP_WIN_SCALE_OUT           int64 \n",
      " 44  SRC_TOS                     int64 \n",
      " 45  DST_TOS                     int64 \n",
      " 46  L7_PROTO_NAME               object\n",
      " 47  SAMPLING_INTERVAL           int64 \n",
      " 48  TOTAL_FLOWS_EXP             int64 \n",
      " 49  LABEL                       object\n",
      "dtypes: int64(43), object(7)\n",
      "memory usage: 3.2+ GB\n"
     ]
    }
   ],
   "source": [
    "df2.info()"
   ]
  },
  {
   "cell_type": "code",
   "execution_count": 7,
   "id": "bca4b5ad",
   "metadata": {},
   "outputs": [
    {
     "name": "stdout",
     "output_type": "stream",
     "text": [
      "<class 'pandas.core.frame.DataFrame'>\n",
      "RangeIndex: 1330692 entries, 0 to 1330691\n",
      "Data columns (total 50 columns):\n",
      " #   Column                      Non-Null Count    Dtype \n",
      "---  ------                      --------------    ----- \n",
      " 0   BIFLOW_DIRECTION            1330692 non-null  int64 \n",
      " 1   DIRECTION                   1330692 non-null  int64 \n",
      " 2   DST_TO_SRC_SECOND_BYTES     1330692 non-null  object\n",
      " 3   FIREWALL_EVENT              1330692 non-null  int64 \n",
      " 4   FIRST_SWITCHED              1330692 non-null  int64 \n",
      " 5   FLOW_ACTIVE_TIMEOUT         1330692 non-null  int64 \n",
      " 6   FLOW_DURATION_MICROSECONDS  1330692 non-null  int64 \n",
      " 7   FLOW_DURATION_MILLISECONDS  1330692 non-null  int64 \n",
      " 8   FLOW_END_MILLISECONDS       1330692 non-null  int64 \n",
      " 9   FLOW_END_SEC                1330692 non-null  int64 \n",
      " 10  FLOW_ID                     1330692 non-null  int64 \n",
      " 11  FLOW_INACTIVE_TIMEOUT       1330692 non-null  int64 \n",
      " 12  FLOW_START_MILLISECONDS     1330692 non-null  int64 \n",
      " 13  FLOW_START_SEC              1330692 non-null  int64 \n",
      " 14  FRAME_LENGTH                1330692 non-null  int64 \n",
      " 15  IN_BYTES                    1330692 non-null  int64 \n",
      " 16  IN_PKTS                     1330692 non-null  int64 \n",
      " 17  IPV4_DST_ADDR               1330692 non-null  object\n",
      " 18  IPV4_SRC_ADDR               1330692 non-null  object\n",
      " 19  L4_DST_PORT                 1330692 non-null  int64 \n",
      " 20  L4_SRC_PORT                 1330692 non-null  int64 \n",
      " 21  LAST_SWITCHED               1330692 non-null  int64 \n",
      " 22  MAX_IP_PKT_LEN              1330692 non-null  int64 \n",
      " 23  MIN_IP_PKT_LEN              1330692 non-null  int64 \n",
      " 24  OOORDER_IN_PKTS             1330692 non-null  int64 \n",
      " 25  OOORDER_OUT_PKTS            1330692 non-null  int64 \n",
      " 26  OUT_BYTES                   1330692 non-null  int64 \n",
      " 27  OUT_PKTS                    1330692 non-null  int64 \n",
      " 28  PROTOCOL                    1330692 non-null  int64 \n",
      " 29  PROTOCOL_MAP                1330692 non-null  object\n",
      " 30  RETRANSMITTED_IN_BYTES      1330692 non-null  int64 \n",
      " 31  RETRANSMITTED_IN_PKTS       1330692 non-null  int64 \n",
      " 32  RETRANSMITTED_OUT_BYTES     1330692 non-null  int64 \n",
      " 33  RETRANSMITTED_OUT_PKTS      1330692 non-null  int64 \n",
      " 34  SRC_TO_DST_SECOND_BYTES     1330692 non-null  object\n",
      " 35  TCP_FLAGS                   1330692 non-null  int64 \n",
      " 36  TCP_WIN_MAX_IN              1330692 non-null  int64 \n",
      " 37  TCP_WIN_MAX_OUT             1330692 non-null  int64 \n",
      " 38  TCP_WIN_MIN_IN              1330692 non-null  int64 \n",
      " 39  TCP_WIN_MIN_OUT             1330692 non-null  int64 \n",
      " 40  TCP_WIN_MSS_IN              1330692 non-null  int64 \n",
      " 41  TCP_WIN_MSS_OUT             1330692 non-null  int64 \n",
      " 42  TCP_WIN_SCALE_IN            1330692 non-null  int64 \n",
      " 43  TCP_WIN_SCALE_OUT           1330692 non-null  int64 \n",
      " 44  SRC_TOS                     1330692 non-null  int64 \n",
      " 45  DST_TOS                     1330692 non-null  int64 \n",
      " 46  L7_PROTO_NAME               1330692 non-null  object\n",
      " 47  SAMPLING_INTERVAL           1330692 non-null  int64 \n",
      " 48  TOTAL_FLOWS_EXP             1330692 non-null  int64 \n",
      " 49  LABEL                       1330692 non-null  object\n",
      "dtypes: int64(43), object(7)\n",
      "memory usage: 507.6+ MB\n"
     ]
    }
   ],
   "source": [
    "df3.info()"
   ]
  },
  {
   "cell_type": "code",
   "execution_count": 8,
   "id": "e296b6fb",
   "metadata": {},
   "outputs": [
    {
     "name": "stdout",
     "output_type": "stream",
     "text": [
      "<class 'pandas.core.frame.DataFrame'>\n",
      "RangeIndex: 26725246 entries, 0 to 26725245\n",
      "Data columns (total 50 columns):\n",
      " #   Column                      Dtype \n",
      "---  ------                      ----- \n",
      " 0   BIFLOW_DIRECTION            int64 \n",
      " 1   DIRECTION                   int64 \n",
      " 2   DST_TO_SRC_SECOND_BYTES     object\n",
      " 3   FIREWALL_EVENT              int64 \n",
      " 4   FIRST_SWITCHED              int64 \n",
      " 5   FLOW_ACTIVE_TIMEOUT         int64 \n",
      " 6   FLOW_DURATION_MICROSECONDS  int64 \n",
      " 7   FLOW_DURATION_MILLISECONDS  int64 \n",
      " 8   FLOW_END_MILLISECONDS       int64 \n",
      " 9   FLOW_END_SEC                int64 \n",
      " 10  FLOW_ID                     int64 \n",
      " 11  FLOW_INACTIVE_TIMEOUT       int64 \n",
      " 12  FLOW_START_MILLISECONDS     int64 \n",
      " 13  FLOW_START_SEC              int64 \n",
      " 14  FRAME_LENGTH                int64 \n",
      " 15  IN_BYTES                    int64 \n",
      " 16  IN_PKTS                     int64 \n",
      " 17  IPV4_DST_ADDR               object\n",
      " 18  IPV4_SRC_ADDR               object\n",
      " 19  L4_DST_PORT                 int64 \n",
      " 20  L4_SRC_PORT                 int64 \n",
      " 21  LAST_SWITCHED               int64 \n",
      " 22  MAX_IP_PKT_LEN              int64 \n",
      " 23  MIN_IP_PKT_LEN              int64 \n",
      " 24  OOORDER_IN_PKTS             int64 \n",
      " 25  OOORDER_OUT_PKTS            int64 \n",
      " 26  OUT_BYTES                   int64 \n",
      " 27  OUT_PKTS                    int64 \n",
      " 28  PROTOCOL                    int64 \n",
      " 29  PROTOCOL_MAP                object\n",
      " 30  RETRANSMITTED_IN_BYTES      int64 \n",
      " 31  RETRANSMITTED_IN_PKTS       int64 \n",
      " 32  RETRANSMITTED_OUT_BYTES     int64 \n",
      " 33  RETRANSMITTED_OUT_PKTS      int64 \n",
      " 34  SRC_TO_DST_SECOND_BYTES     object\n",
      " 35  TCP_FLAGS                   int64 \n",
      " 36  TCP_WIN_MAX_IN              int64 \n",
      " 37  TCP_WIN_MAX_OUT             int64 \n",
      " 38  TCP_WIN_MIN_IN              int64 \n",
      " 39  TCP_WIN_MIN_OUT             int64 \n",
      " 40  TCP_WIN_MSS_IN              int64 \n",
      " 41  TCP_WIN_MSS_OUT             int64 \n",
      " 42  TCP_WIN_SCALE_IN            int64 \n",
      " 43  TCP_WIN_SCALE_OUT           int64 \n",
      " 44  SRC_TOS                     int64 \n",
      " 45  DST_TOS                     int64 \n",
      " 46  L7_PROTO_NAME               object\n",
      " 47  SAMPLING_INTERVAL           int64 \n",
      " 48  TOTAL_FLOWS_EXP             int64 \n",
      " 49  LABEL                       object\n",
      "dtypes: int64(43), object(7)\n",
      "memory usage: 10.0+ GB\n"
     ]
    }
   ],
   "source": [
    "df4.info()"
   ]
  },
  {
   "cell_type": "markdown",
   "id": "f8abc881",
   "metadata": {},
   "source": [
    "### Muestras de los datas sets \n",
    "\n",
    "Debido a que los datasets son pesados, y los recursos de las máquinas más limitados se hará un muestreo de una quinta parte de cada dataset"
   ]
  },
  {
   "cell_type": "code",
   "execution_count": 9,
   "id": "82a392bf",
   "metadata": {},
   "outputs": [
    {
     "data": {
      "text/plain": [
       "714133.2"
      ]
     },
     "execution_count": 9,
     "metadata": {},
     "output_type": "execute_result"
    }
   ],
   "source": [
    "len(df1)/5"
   ]
  },
  {
   "cell_type": "code",
   "execution_count": 10,
   "id": "816c1292",
   "metadata": {},
   "outputs": [],
   "source": [
    "df1M = df1.sample(n = 142826)"
   ]
  },
  {
   "cell_type": "code",
   "execution_count": 11,
   "id": "af553660",
   "metadata": {},
   "outputs": [],
   "source": [
    "#df1 = pd.DataFrame(df1M)"
   ]
  },
  {
   "cell_type": "code",
   "execution_count": 12,
   "id": "3c3b1bab",
   "metadata": {},
   "outputs": [
    {
     "data": {
      "text/plain": [
       "863720.7"
      ]
     },
     "execution_count": 12,
     "metadata": {},
     "output_type": "execute_result"
    }
   ],
   "source": [
    "len(df2)/10"
   ]
  },
  {
   "cell_type": "code",
   "execution_count": 13,
   "id": "4d3ba1db",
   "metadata": {},
   "outputs": [],
   "source": [
    "df2M = df2.sample(n = 172744)"
   ]
  },
  {
   "cell_type": "code",
   "execution_count": 14,
   "id": "7b823b89",
   "metadata": {},
   "outputs": [],
   "source": [
    "#df2 = pd.DataFrame(df2M)"
   ]
  },
  {
   "cell_type": "code",
   "execution_count": 15,
   "id": "0516bc1c",
   "metadata": {},
   "outputs": [
    {
     "data": {
      "text/plain": [
       "133069.2"
      ]
     },
     "execution_count": 15,
     "metadata": {},
     "output_type": "execute_result"
    }
   ],
   "source": [
    "len(df3)/10"
   ]
  },
  {
   "cell_type": "code",
   "execution_count": 16,
   "id": "7bada240",
   "metadata": {},
   "outputs": [],
   "source": [
    "df3M = df3.sample(n = 133069)"
   ]
  },
  {
   "cell_type": "code",
   "execution_count": 17,
   "id": "04b8a7d1",
   "metadata": {},
   "outputs": [],
   "source": [
    "#df3 = pd.DataFrame(df3M)"
   ]
  },
  {
   "cell_type": "code",
   "execution_count": 18,
   "id": "d3375ea2",
   "metadata": {},
   "outputs": [
    {
     "data": {
      "text/plain": [
       "1781683.0666666667"
      ]
     },
     "execution_count": 18,
     "metadata": {},
     "output_type": "execute_result"
    }
   ],
   "source": [
    "len(df4)/15"
   ]
  },
  {
   "cell_type": "code",
   "execution_count": 19,
   "id": "4b20f043",
   "metadata": {},
   "outputs": [],
   "source": [
    "df4M = df4.sample(n = 178168)"
   ]
  },
  {
   "cell_type": "code",
   "execution_count": 20,
   "id": "0fc1de16",
   "metadata": {},
   "outputs": [],
   "source": [
    "#df4 = pd.DataFrame(df4M)"
   ]
  },
  {
   "cell_type": "code",
   "execution_count": 21,
   "id": "0d116f47",
   "metadata": {},
   "outputs": [],
   "source": [
    "df_final = pd.concat([df1, df2, df3, df4])"
   ]
  },
  {
   "cell_type": "code",
   "execution_count": 22,
   "id": "2309beb6",
   "metadata": {},
   "outputs": [
    {
     "data": {
      "text/html": [
       "<div>\n",
       "<style scoped>\n",
       "    .dataframe tbody tr th:only-of-type {\n",
       "        vertical-align: middle;\n",
       "    }\n",
       "\n",
       "    .dataframe tbody tr th {\n",
       "        vertical-align: top;\n",
       "    }\n",
       "\n",
       "    .dataframe thead th {\n",
       "        text-align: right;\n",
       "    }\n",
       "</style>\n",
       "<table border=\"1\" class=\"dataframe\">\n",
       "  <thead>\n",
       "    <tr style=\"text-align: right;\">\n",
       "      <th></th>\n",
       "      <th>BIFLOW_DIRECTION</th>\n",
       "      <th>DIRECTION</th>\n",
       "      <th>DST_TO_SRC_SECOND_BYTES</th>\n",
       "      <th>FIREWALL_EVENT</th>\n",
       "      <th>FIRST_SWITCHED</th>\n",
       "      <th>FLOW_ACTIVE_TIMEOUT</th>\n",
       "      <th>FLOW_DURATION_MICROSECONDS</th>\n",
       "      <th>FLOW_DURATION_MILLISECONDS</th>\n",
       "      <th>FLOW_END_MILLISECONDS</th>\n",
       "      <th>FLOW_END_SEC</th>\n",
       "      <th>...</th>\n",
       "      <th>TCP_WIN_MSS_IN</th>\n",
       "      <th>TCP_WIN_MSS_OUT</th>\n",
       "      <th>TCP_WIN_SCALE_IN</th>\n",
       "      <th>TCP_WIN_SCALE_OUT</th>\n",
       "      <th>SRC_TOS</th>\n",
       "      <th>DST_TOS</th>\n",
       "      <th>L7_PROTO_NAME</th>\n",
       "      <th>SAMPLING_INTERVAL</th>\n",
       "      <th>TOTAL_FLOWS_EXP</th>\n",
       "      <th>LABEL</th>\n",
       "    </tr>\n",
       "  </thead>\n",
       "  <tbody>\n",
       "    <tr>\n",
       "      <th>0</th>\n",
       "      <td>1</td>\n",
       "      <td>0</td>\n",
       "      <td>40</td>\n",
       "      <td>0</td>\n",
       "      <td>1616660040</td>\n",
       "      <td>120</td>\n",
       "      <td>339</td>\n",
       "      <td>0</td>\n",
       "      <td>1616660040010</td>\n",
       "      <td>1616660040</td>\n",
       "      <td>...</td>\n",
       "      <td>1460</td>\n",
       "      <td>0</td>\n",
       "      <td>0</td>\n",
       "      <td>0</td>\n",
       "      <td>0</td>\n",
       "      <td>0</td>\n",
       "      <td>Unknown</td>\n",
       "      <td>1</td>\n",
       "      <td>2293398</td>\n",
       "      <td>Normal flow</td>\n",
       "    </tr>\n",
       "    <tr>\n",
       "      <th>1</th>\n",
       "      <td>1</td>\n",
       "      <td>0</td>\n",
       "      <td>,</td>\n",
       "      <td>0</td>\n",
       "      <td>1616660040</td>\n",
       "      <td>120</td>\n",
       "      <td>0</td>\n",
       "      <td>0</td>\n",
       "      <td>1616660040068</td>\n",
       "      <td>1616660040</td>\n",
       "      <td>...</td>\n",
       "      <td>0</td>\n",
       "      <td>0</td>\n",
       "      <td>0</td>\n",
       "      <td>0</td>\n",
       "      <td>40</td>\n",
       "      <td>0</td>\n",
       "      <td>ICMP</td>\n",
       "      <td>1</td>\n",
       "      <td>2293400</td>\n",
       "      <td>Normal flow</td>\n",
       "    </tr>\n",
       "    <tr>\n",
       "      <th>2</th>\n",
       "      <td>1</td>\n",
       "      <td>0</td>\n",
       "      <td>104</td>\n",
       "      <td>0</td>\n",
       "      <td>1616660040</td>\n",
       "      <td>120</td>\n",
       "      <td>44725</td>\n",
       "      <td>44</td>\n",
       "      <td>1616660040114</td>\n",
       "      <td>1616660040</td>\n",
       "      <td>...</td>\n",
       "      <td>0</td>\n",
       "      <td>0</td>\n",
       "      <td>0</td>\n",
       "      <td>0</td>\n",
       "      <td>0</td>\n",
       "      <td>0</td>\n",
       "      <td>TLS</td>\n",
       "      <td>1</td>\n",
       "      <td>2293404</td>\n",
       "      <td>Normal flow</td>\n",
       "    </tr>\n",
       "    <tr>\n",
       "      <th>3</th>\n",
       "      <td>1</td>\n",
       "      <td>0</td>\n",
       "      <td>,</td>\n",
       "      <td>0</td>\n",
       "      <td>1616660040</td>\n",
       "      <td>120</td>\n",
       "      <td>0</td>\n",
       "      <td>0</td>\n",
       "      <td>1616660040122</td>\n",
       "      <td>1616660040</td>\n",
       "      <td>...</td>\n",
       "      <td>1440</td>\n",
       "      <td>0</td>\n",
       "      <td>8</td>\n",
       "      <td>0</td>\n",
       "      <td>40</td>\n",
       "      <td>0</td>\n",
       "      <td>Unknown</td>\n",
       "      <td>1</td>\n",
       "      <td>2293407</td>\n",
       "      <td>Normal flow</td>\n",
       "    </tr>\n",
       "    <tr>\n",
       "      <th>4</th>\n",
       "      <td>1</td>\n",
       "      <td>0</td>\n",
       "      <td>40</td>\n",
       "      <td>0</td>\n",
       "      <td>1616660040</td>\n",
       "      <td>120</td>\n",
       "      <td>1114</td>\n",
       "      <td>1</td>\n",
       "      <td>1616660040184</td>\n",
       "      <td>1616660040</td>\n",
       "      <td>...</td>\n",
       "      <td>0</td>\n",
       "      <td>0</td>\n",
       "      <td>0</td>\n",
       "      <td>0</td>\n",
       "      <td>0</td>\n",
       "      <td>0</td>\n",
       "      <td>TLS</td>\n",
       "      <td>1</td>\n",
       "      <td>2293409</td>\n",
       "      <td>Normal flow</td>\n",
       "    </tr>\n",
       "    <tr>\n",
       "      <th>...</th>\n",
       "      <td>...</td>\n",
       "      <td>...</td>\n",
       "      <td>...</td>\n",
       "      <td>...</td>\n",
       "      <td>...</td>\n",
       "      <td>...</td>\n",
       "      <td>...</td>\n",
       "      <td>...</td>\n",
       "      <td>...</td>\n",
       "      <td>...</td>\n",
       "      <td>...</td>\n",
       "      <td>...</td>\n",
       "      <td>...</td>\n",
       "      <td>...</td>\n",
       "      <td>...</td>\n",
       "      <td>...</td>\n",
       "      <td>...</td>\n",
       "      <td>...</td>\n",
       "      <td>...</td>\n",
       "      <td>...</td>\n",
       "      <td>...</td>\n",
       "    </tr>\n",
       "    <tr>\n",
       "      <th>26725241</th>\n",
       "      <td>1</td>\n",
       "      <td>0</td>\n",
       "      <td>,,,,,,,709,,,,,,,,,,,,,,,,,,56,,,,,,,,,,,,,99,...</td>\n",
       "      <td>0</td>\n",
       "      <td>1622458797</td>\n",
       "      <td>120</td>\n",
       "      <td>114419865</td>\n",
       "      <td>114419</td>\n",
       "      <td>1622458912162</td>\n",
       "      <td>1622458912</td>\n",
       "      <td>...</td>\n",
       "      <td>0</td>\n",
       "      <td>0</td>\n",
       "      <td>0</td>\n",
       "      <td>0</td>\n",
       "      <td>0</td>\n",
       "      <td>0</td>\n",
       "      <td>Unknown</td>\n",
       "      <td>1</td>\n",
       "      <td>33792157</td>\n",
       "      <td>Normal flow</td>\n",
       "    </tr>\n",
       "    <tr>\n",
       "      <th>26725242</th>\n",
       "      <td>1</td>\n",
       "      <td>0</td>\n",
       "      <td>52,,,,,,,1635,,,,,,,,,,52,,,,,,,,,,52,,,,,,,11...</td>\n",
       "      <td>0</td>\n",
       "      <td>1622458798</td>\n",
       "      <td>120</td>\n",
       "      <td>104262046</td>\n",
       "      <td>104262</td>\n",
       "      <td>1622458902352</td>\n",
       "      <td>1622458902</td>\n",
       "      <td>...</td>\n",
       "      <td>0</td>\n",
       "      <td>0</td>\n",
       "      <td>0</td>\n",
       "      <td>0</td>\n",
       "      <td>0</td>\n",
       "      <td>0</td>\n",
       "      <td>TLS</td>\n",
       "      <td>1</td>\n",
       "      <td>33792158</td>\n",
       "      <td>Normal flow</td>\n",
       "    </tr>\n",
       "    <tr>\n",
       "      <th>26725243</th>\n",
       "      <td>1</td>\n",
       "      <td>0</td>\n",
       "      <td>612,,,,,,,,,,,,,,,,,,,,,,,,,,,,,,1236,,,,,,,,,...</td>\n",
       "      <td>0</td>\n",
       "      <td>1622458799</td>\n",
       "      <td>120</td>\n",
       "      <td>90045366</td>\n",
       "      <td>90045</td>\n",
       "      <td>1622458889634</td>\n",
       "      <td>1622458889</td>\n",
       "      <td>...</td>\n",
       "      <td>0</td>\n",
       "      <td>0</td>\n",
       "      <td>0</td>\n",
       "      <td>0</td>\n",
       "      <td>0</td>\n",
       "      <td>0</td>\n",
       "      <td>TLS.Microsoft365</td>\n",
       "      <td>1</td>\n",
       "      <td>33792243</td>\n",
       "      <td>Normal flow</td>\n",
       "    </tr>\n",
       "    <tr>\n",
       "      <th>26725244</th>\n",
       "      <td>1</td>\n",
       "      <td>0</td>\n",
       "      <td>2822,64995,5036,6186,116250,7597,8299,62399,27...</td>\n",
       "      <td>0</td>\n",
       "      <td>1622458800</td>\n",
       "      <td>120</td>\n",
       "      <td>119940503</td>\n",
       "      <td>119940</td>\n",
       "      <td>1622458919942</td>\n",
       "      <td>1622458919</td>\n",
       "      <td>...</td>\n",
       "      <td>0</td>\n",
       "      <td>0</td>\n",
       "      <td>0</td>\n",
       "      <td>0</td>\n",
       "      <td>0</td>\n",
       "      <td>0</td>\n",
       "      <td>STUN.SkypeCall</td>\n",
       "      <td>1</td>\n",
       "      <td>33792285</td>\n",
       "      <td>Normal flow</td>\n",
       "    </tr>\n",
       "    <tr>\n",
       "      <th>26725245</th>\n",
       "      <td>1</td>\n",
       "      <td>0</td>\n",
       "      <td>6464,2600,,,,,5576,,,,,132,8224,,196,,,8344,,,...</td>\n",
       "      <td>0</td>\n",
       "      <td>1622458800</td>\n",
       "      <td>120</td>\n",
       "      <td>116594487</td>\n",
       "      <td>116594</td>\n",
       "      <td>1622458917065</td>\n",
       "      <td>1622458917</td>\n",
       "      <td>...</td>\n",
       "      <td>0</td>\n",
       "      <td>0</td>\n",
       "      <td>0</td>\n",
       "      <td>0</td>\n",
       "      <td>40</td>\n",
       "      <td>0</td>\n",
       "      <td>Unknown</td>\n",
       "      <td>1</td>\n",
       "      <td>33792286</td>\n",
       "      <td>Normal flow</td>\n",
       "    </tr>\n",
       "  </tbody>\n",
       "</table>\n",
       "<p>40263811 rows × 50 columns</p>\n",
       "</div>"
      ],
      "text/plain": [
       "          BIFLOW_DIRECTION  DIRECTION  \\\n",
       "0                        1          0   \n",
       "1                        1          0   \n",
       "2                        1          0   \n",
       "3                        1          0   \n",
       "4                        1          0   \n",
       "...                    ...        ...   \n",
       "26725241                 1          0   \n",
       "26725242                 1          0   \n",
       "26725243                 1          0   \n",
       "26725244                 1          0   \n",
       "26725245                 1          0   \n",
       "\n",
       "                                    DST_TO_SRC_SECOND_BYTES  FIREWALL_EVENT  \\\n",
       "0                                                        40               0   \n",
       "1                                                         ,               0   \n",
       "2                                                       104               0   \n",
       "3                                                         ,               0   \n",
       "4                                                        40               0   \n",
       "...                                                     ...             ...   \n",
       "26725241  ,,,,,,,709,,,,,,,,,,,,,,,,,,56,,,,,,,,,,,,,99,...               0   \n",
       "26725242  52,,,,,,,1635,,,,,,,,,,52,,,,,,,,,,52,,,,,,,11...               0   \n",
       "26725243  612,,,,,,,,,,,,,,,,,,,,,,,,,,,,,,1236,,,,,,,,,...               0   \n",
       "26725244  2822,64995,5036,6186,116250,7597,8299,62399,27...               0   \n",
       "26725245  6464,2600,,,,,5576,,,,,132,8224,,196,,,8344,,,...               0   \n",
       "\n",
       "          FIRST_SWITCHED  FLOW_ACTIVE_TIMEOUT  FLOW_DURATION_MICROSECONDS  \\\n",
       "0             1616660040                  120                         339   \n",
       "1             1616660040                  120                           0   \n",
       "2             1616660040                  120                       44725   \n",
       "3             1616660040                  120                           0   \n",
       "4             1616660040                  120                        1114   \n",
       "...                  ...                  ...                         ...   \n",
       "26725241      1622458797                  120                   114419865   \n",
       "26725242      1622458798                  120                   104262046   \n",
       "26725243      1622458799                  120                    90045366   \n",
       "26725244      1622458800                  120                   119940503   \n",
       "26725245      1622458800                  120                   116594487   \n",
       "\n",
       "          FLOW_DURATION_MILLISECONDS  FLOW_END_MILLISECONDS  FLOW_END_SEC  \\\n",
       "0                                  0          1616660040010    1616660040   \n",
       "1                                  0          1616660040068    1616660040   \n",
       "2                                 44          1616660040114    1616660040   \n",
       "3                                  0          1616660040122    1616660040   \n",
       "4                                  1          1616660040184    1616660040   \n",
       "...                              ...                    ...           ...   \n",
       "26725241                      114419          1622458912162    1622458912   \n",
       "26725242                      104262          1622458902352    1622458902   \n",
       "26725243                       90045          1622458889634    1622458889   \n",
       "26725244                      119940          1622458919942    1622458919   \n",
       "26725245                      116594          1622458917065    1622458917   \n",
       "\n",
       "          ...  TCP_WIN_MSS_IN  TCP_WIN_MSS_OUT  TCP_WIN_SCALE_IN  \\\n",
       "0         ...            1460                0                 0   \n",
       "1         ...               0                0                 0   \n",
       "2         ...               0                0                 0   \n",
       "3         ...            1440                0                 8   \n",
       "4         ...               0                0                 0   \n",
       "...       ...             ...              ...               ...   \n",
       "26725241  ...               0                0                 0   \n",
       "26725242  ...               0                0                 0   \n",
       "26725243  ...               0                0                 0   \n",
       "26725244  ...               0                0                 0   \n",
       "26725245  ...               0                0                 0   \n",
       "\n",
       "          TCP_WIN_SCALE_OUT  SRC_TOS  DST_TOS     L7_PROTO_NAME  \\\n",
       "0                         0        0        0           Unknown   \n",
       "1                         0       40        0              ICMP   \n",
       "2                         0        0        0               TLS   \n",
       "3                         0       40        0           Unknown   \n",
       "4                         0        0        0               TLS   \n",
       "...                     ...      ...      ...               ...   \n",
       "26725241                  0        0        0           Unknown   \n",
       "26725242                  0        0        0               TLS   \n",
       "26725243                  0        0        0  TLS.Microsoft365   \n",
       "26725244                  0        0        0    STUN.SkypeCall   \n",
       "26725245                  0       40        0           Unknown   \n",
       "\n",
       "         SAMPLING_INTERVAL TOTAL_FLOWS_EXP        LABEL  \n",
       "0                        1         2293398  Normal flow  \n",
       "1                        1         2293400  Normal flow  \n",
       "2                        1         2293404  Normal flow  \n",
       "3                        1         2293407  Normal flow  \n",
       "4                        1         2293409  Normal flow  \n",
       "...                    ...             ...          ...  \n",
       "26725241                 1        33792157  Normal flow  \n",
       "26725242                 1        33792158  Normal flow  \n",
       "26725243                 1        33792243  Normal flow  \n",
       "26725244                 1        33792285  Normal flow  \n",
       "26725245                 1        33792286  Normal flow  \n",
       "\n",
       "[40263811 rows x 50 columns]"
      ]
     },
     "execution_count": 22,
     "metadata": {},
     "output_type": "execute_result"
    }
   ],
   "source": [
    "df_final"
   ]
  },
  {
   "cell_type": "code",
   "execution_count": 23,
   "id": "a4ef53ea",
   "metadata": {},
   "outputs": [
    {
     "name": "stdout",
     "output_type": "stream",
     "text": [
      "<class 'pandas.core.frame.DataFrame'>\n",
      "Int64Index: 40263811 entries, 0 to 26725245\n",
      "Data columns (total 50 columns):\n",
      " #   Column                      Dtype \n",
      "---  ------                      ----- \n",
      " 0   BIFLOW_DIRECTION            int64 \n",
      " 1   DIRECTION                   int64 \n",
      " 2   DST_TO_SRC_SECOND_BYTES     object\n",
      " 3   FIREWALL_EVENT              int64 \n",
      " 4   FIRST_SWITCHED              int64 \n",
      " 5   FLOW_ACTIVE_TIMEOUT         int64 \n",
      " 6   FLOW_DURATION_MICROSECONDS  int64 \n",
      " 7   FLOW_DURATION_MILLISECONDS  int64 \n",
      " 8   FLOW_END_MILLISECONDS       int64 \n",
      " 9   FLOW_END_SEC                int64 \n",
      " 10  FLOW_ID                     int64 \n",
      " 11  FLOW_INACTIVE_TIMEOUT       int64 \n",
      " 12  FLOW_START_MILLISECONDS     int64 \n",
      " 13  FLOW_START_SEC              int64 \n",
      " 14  FRAME_LENGTH                int64 \n",
      " 15  IN_BYTES                    int64 \n",
      " 16  IN_PKTS                     int64 \n",
      " 17  IPV4_DST_ADDR               object\n",
      " 18  IPV4_SRC_ADDR               object\n",
      " 19  L4_DST_PORT                 int64 \n",
      " 20  L4_SRC_PORT                 int64 \n",
      " 21  LAST_SWITCHED               int64 \n",
      " 22  MAX_IP_PKT_LEN              int64 \n",
      " 23  MIN_IP_PKT_LEN              int64 \n",
      " 24  OOORDER_IN_PKTS             int64 \n",
      " 25  OOORDER_OUT_PKTS            int64 \n",
      " 26  OUT_BYTES                   int64 \n",
      " 27  OUT_PKTS                    int64 \n",
      " 28  PROTOCOL                    int64 \n",
      " 29  PROTOCOL_MAP                object\n",
      " 30  RETRANSMITTED_IN_BYTES      int64 \n",
      " 31  RETRANSMITTED_IN_PKTS       int64 \n",
      " 32  RETRANSMITTED_OUT_BYTES     int64 \n",
      " 33  RETRANSMITTED_OUT_PKTS      int64 \n",
      " 34  SRC_TO_DST_SECOND_BYTES     object\n",
      " 35  TCP_FLAGS                   int64 \n",
      " 36  TCP_WIN_MAX_IN              int64 \n",
      " 37  TCP_WIN_MAX_OUT             int64 \n",
      " 38  TCP_WIN_MIN_IN              int64 \n",
      " 39  TCP_WIN_MIN_OUT             int64 \n",
      " 40  TCP_WIN_MSS_IN              int64 \n",
      " 41  TCP_WIN_MSS_OUT             int64 \n",
      " 42  TCP_WIN_SCALE_IN            int64 \n",
      " 43  TCP_WIN_SCALE_OUT           int64 \n",
      " 44  SRC_TOS                     int64 \n",
      " 45  DST_TOS                     int64 \n",
      " 46  L7_PROTO_NAME               object\n",
      " 47  SAMPLING_INTERVAL           int64 \n",
      " 48  TOTAL_FLOWS_EXP             int64 \n",
      " 49  LABEL                       object\n",
      "dtypes: int64(43), object(7)\n",
      "memory usage: 15.3+ GB\n"
     ]
    }
   ],
   "source": [
    "df_final.info()"
   ]
  },
  {
   "cell_type": "code",
   "execution_count": 24,
   "id": "1db91ab6",
   "metadata": {},
   "outputs": [
    {
     "data": {
      "text/plain": [
       "2"
      ]
     },
     "execution_count": 24,
     "metadata": {},
     "output_type": "execute_result"
    }
   ],
   "source": [
    "df_final.DIRECTION.nunique()"
   ]
  },
  {
   "cell_type": "code",
   "execution_count": 25,
   "id": "2486a519",
   "metadata": {},
   "outputs": [
    {
     "data": {
      "text/plain": [
       "array([0, 1])"
      ]
     },
     "execution_count": 25,
     "metadata": {},
     "output_type": "execute_result"
    }
   ],
   "source": [
    "np.unique(df_final[['DIRECTION']])"
   ]
  },
  {
   "cell_type": "code",
   "execution_count": 26,
   "id": "6b8e728f",
   "metadata": {},
   "outputs": [
    {
     "data": {
      "text/plain": [
       "1"
      ]
     },
     "execution_count": 26,
     "metadata": {},
     "output_type": "execute_result"
    }
   ],
   "source": [
    "df_final.FIREWALL_EVENT.nunique()"
   ]
  },
  {
   "cell_type": "code",
   "execution_count": 27,
   "id": "e6d84a32",
   "metadata": {},
   "outputs": [
    {
     "data": {
      "text/plain": [
       "1"
      ]
     },
     "execution_count": 27,
     "metadata": {},
     "output_type": "execute_result"
    }
   ],
   "source": [
    "df_final.FLOW_ACTIVE_TIMEOUT.nunique()"
   ]
  },
  {
   "cell_type": "code",
   "execution_count": 30,
   "id": "e055fe43",
   "metadata": {},
   "outputs": [
    {
     "data": {
      "text/plain": [
       "1"
      ]
     },
     "execution_count": 30,
     "metadata": {},
     "output_type": "execute_result"
    }
   ],
   "source": [
    "df_final.FRAME_LENGTH.nunique()"
   ]
  },
  {
   "cell_type": "code",
   "execution_count": 33,
   "id": "19691189",
   "metadata": {},
   "outputs": [
    {
     "data": {
      "text/plain": [
       "1"
      ]
     },
     "execution_count": 33,
     "metadata": {},
     "output_type": "execute_result"
    }
   ],
   "source": [
    "df_final.MAX_IP_PKT_LEN.nunique()"
   ]
  },
  {
   "cell_type": "code",
   "execution_count": 34,
   "id": "892b9aef",
   "metadata": {},
   "outputs": [
    {
     "data": {
      "text/plain": [
       "1"
      ]
     },
     "execution_count": 34,
     "metadata": {},
     "output_type": "execute_result"
    }
   ],
   "source": [
    "df_final.MIN_IP_PKT_LEN.nunique()"
   ]
  },
  {
   "cell_type": "code",
   "execution_count": 40,
   "id": "7f1d8e7b",
   "metadata": {},
   "outputs": [
    {
     "name": "stderr",
     "output_type": "stream",
     "text": [
      "/var/folders/yq/_yyb871j2dz332yb_m0tl7gr0000gn/T/ipykernel_5361/551870683.py:1: FutureWarning: In a future version of pandas all arguments of DataFrame.drop except for the argument 'labels' will be keyword-only\n",
      "  df_final = df_final.drop(['FIREWALL_EVENT', 'FLOW_ACTIVE_TIMEOUT', 'FLOW_DURATION_MICROSECONDS', 'FLOW_END_SEC',\n"
     ]
    }
   ],
   "source": [
    "df_final = df_final.drop(['FIREWALL_EVENT', 'FLOW_ACTIVE_TIMEOUT', 'FLOW_DURATION_MICROSECONDS', 'FLOW_END_SEC', \n",
    "                          'FLOW_INACTIVE_TIMEOUT', 'FLOW_START_SEC', 'FRAME_LENGTH', 'IPV4_DST_ADDR', \n",
    "                          'IPV4_SRC_ADDR', 'MAX_IP_PKT_LEN', 'MAX_IP_PKT_LEN', 'MIN_IP_PKT_LEN', 'PROTOCOL_MAP', \n",
    "                          'RETRANSMITTED_IN_BYTES', 'RETRANSMITTED_IN_PKTS', 'RETRANSMITTED_OUT_BYTES', \n",
    "                          'RETRANSMITTED_OUT_PKTS'], 1)"
   ]
  },
  {
   "cell_type": "code",
   "execution_count": 42,
   "id": "b68e9f2e",
   "metadata": {},
   "outputs": [
    {
     "name": "stdout",
     "output_type": "stream",
     "text": [
      "<class 'pandas.core.frame.DataFrame'>\n",
      "Int64Index: 40263811 entries, 0 to 26725245\n",
      "Data columns (total 34 columns):\n",
      " #   Column                      Dtype \n",
      "---  ------                      ----- \n",
      " 0   BIFLOW_DIRECTION            int64 \n",
      " 1   DIRECTION                   int64 \n",
      " 2   DST_TO_SRC_SECOND_BYTES     object\n",
      " 3   FIRST_SWITCHED              int64 \n",
      " 4   FLOW_DURATION_MILLISECONDS  int64 \n",
      " 5   FLOW_END_MILLISECONDS       int64 \n",
      " 6   FLOW_ID                     int64 \n",
      " 7   FLOW_START_MILLISECONDS     int64 \n",
      " 8   IN_BYTES                    int64 \n",
      " 9   IN_PKTS                     int64 \n",
      " 10  L4_DST_PORT                 int64 \n",
      " 11  L4_SRC_PORT                 int64 \n",
      " 12  LAST_SWITCHED               int64 \n",
      " 13  OOORDER_IN_PKTS             int64 \n",
      " 14  OOORDER_OUT_PKTS            int64 \n",
      " 15  OUT_BYTES                   int64 \n",
      " 16  OUT_PKTS                    int64 \n",
      " 17  PROTOCOL                    int64 \n",
      " 18  SRC_TO_DST_SECOND_BYTES     object\n",
      " 19  TCP_FLAGS                   int64 \n",
      " 20  TCP_WIN_MAX_IN              int64 \n",
      " 21  TCP_WIN_MAX_OUT             int64 \n",
      " 22  TCP_WIN_MIN_IN              int64 \n",
      " 23  TCP_WIN_MIN_OUT             int64 \n",
      " 24  TCP_WIN_MSS_IN              int64 \n",
      " 25  TCP_WIN_MSS_OUT             int64 \n",
      " 26  TCP_WIN_SCALE_IN            int64 \n",
      " 27  TCP_WIN_SCALE_OUT           int64 \n",
      " 28  SRC_TOS                     int64 \n",
      " 29  DST_TOS                     int64 \n",
      " 30  L7_PROTO_NAME               object\n",
      " 31  SAMPLING_INTERVAL           int64 \n",
      " 32  TOTAL_FLOWS_EXP             int64 \n",
      " 33  LABEL                       object\n",
      "dtypes: int64(30), object(4)\n",
      "memory usage: 10.5+ GB\n"
     ]
    }
   ],
   "source": [
    "df_final.info()"
   ]
  },
  {
   "cell_type": "code",
   "execution_count": 43,
   "id": "97737832",
   "metadata": {},
   "outputs": [
    {
     "data": {
      "text/plain": [
       "8"
      ]
     },
     "execution_count": 43,
     "metadata": {},
     "output_type": "execute_result"
    }
   ],
   "source": [
    "len(np.unique(df_final[['LABEL']]))"
   ]
  },
  {
   "cell_type": "code",
   "execution_count": 44,
   "id": "8310eedf",
   "metadata": {},
   "outputs": [
    {
     "data": {
      "text/plain": [
       "array(['Denial of Service R-U-Dead-Yet', 'Denial of Service Slowloris',\n",
       "       'FIN Scan', 'NULL Scan', 'Normal flow', 'SYN Scan - aggressive',\n",
       "       'UDP Scan', 'XMAS Scan'], dtype=object)"
      ]
     },
     "execution_count": 44,
     "metadata": {},
     "output_type": "execute_result"
    }
   ],
   "source": [
    "np.unique(df_final[['LABEL']])"
   ]
  },
  {
   "cell_type": "code",
   "execution_count": 45,
   "id": "567cc1d8",
   "metadata": {},
   "outputs": [
    {
     "data": {
      "text/plain": [
       "20593"
      ]
     },
     "execution_count": 45,
     "metadata": {},
     "output_type": "execute_result"
    }
   ],
   "source": [
    "len(np.unique(df_final[['TCP_WIN_MAX_IN']]))"
   ]
  },
  {
   "cell_type": "code",
   "execution_count": 46,
   "id": "295f55bc",
   "metadata": {},
   "outputs": [
    {
     "data": {
      "text/plain": [
       "0           1024\n",
       "1              0\n",
       "2            122\n",
       "3           8192\n",
       "4            502\n",
       "            ... \n",
       "26725241       0\n",
       "26725242    1026\n",
       "26725243     501\n",
       "26725244       0\n",
       "26725245       0\n",
       "Name: TCP_WIN_MAX_IN, Length: 40263811, dtype: int64"
      ]
     },
     "execution_count": 46,
     "metadata": {},
     "output_type": "execute_result"
    }
   ],
   "source": [
    "df_final['TCP_WIN_MAX_IN']"
   ]
  },
  {
   "cell_type": "markdown",
   "id": "64eb7bf1",
   "metadata": {},
   "source": [
    "#### Averiguar cuantas muestrar por label"
   ]
  },
  {
   "cell_type": "code",
   "execution_count": 47,
   "id": "e2da09b5",
   "metadata": {},
   "outputs": [
    {
     "data": {
      "text/plain": [
       "Normal flow                       33911170\n",
       "SYN Scan - aggressive              2496814\n",
       "Denial of Service R-U-Dead-Yet     2276947\n",
       "Denial of Service Slowloris         864054\n",
       "UDP Scan                            692195\n",
       "NULL Scan                             8497\n",
       "XMAS Scan                             7158\n",
       "FIN Scan                              6976\n",
       "Name: LABEL, dtype: int64"
      ]
     },
     "execution_count": 47,
     "metadata": {},
     "output_type": "execute_result"
    }
   ],
   "source": [
    "df_final['LABEL'].value_counts()"
   ]
  },
  {
   "cell_type": "code",
   "execution_count": 48,
   "id": "923dc2b8",
   "metadata": {},
   "outputs": [
    {
     "data": {
      "text/plain": [
       "0"
      ]
     },
     "execution_count": 48,
     "metadata": {},
     "output_type": "execute_result"
    }
   ],
   "source": [
    "df_final.duplicated().sum()"
   ]
  },
  {
   "cell_type": "code",
   "execution_count": 49,
   "id": "8b7e76d5",
   "metadata": {},
   "outputs": [],
   "source": [
    "df_final_prueba = df_final"
   ]
  },
  {
   "cell_type": "code",
   "execution_count": 50,
   "id": "79a71cda",
   "metadata": {},
   "outputs": [
    {
     "name": "stdout",
     "output_type": "stream",
     "text": [
      "<class 'pandas.core.frame.DataFrame'>\n",
      "Int64Index: 40263811 entries, 0 to 26725245\n",
      "Data columns (total 34 columns):\n",
      " #   Column                      Dtype \n",
      "---  ------                      ----- \n",
      " 0   BIFLOW_DIRECTION            int64 \n",
      " 1   DIRECTION                   int64 \n",
      " 2   DST_TO_SRC_SECOND_BYTES     object\n",
      " 3   FIRST_SWITCHED              int64 \n",
      " 4   FLOW_DURATION_MILLISECONDS  int64 \n",
      " 5   FLOW_END_MILLISECONDS       int64 \n",
      " 6   FLOW_ID                     int64 \n",
      " 7   FLOW_START_MILLISECONDS     int64 \n",
      " 8   IN_BYTES                    int64 \n",
      " 9   IN_PKTS                     int64 \n",
      " 10  L4_DST_PORT                 int64 \n",
      " 11  L4_SRC_PORT                 int64 \n",
      " 12  LAST_SWITCHED               int64 \n",
      " 13  OOORDER_IN_PKTS             int64 \n",
      " 14  OOORDER_OUT_PKTS            int64 \n",
      " 15  OUT_BYTES                   int64 \n",
      " 16  OUT_PKTS                    int64 \n",
      " 17  PROTOCOL                    int64 \n",
      " 18  SRC_TO_DST_SECOND_BYTES     object\n",
      " 19  TCP_FLAGS                   int64 \n",
      " 20  TCP_WIN_MAX_IN              int64 \n",
      " 21  TCP_WIN_MAX_OUT             int64 \n",
      " 22  TCP_WIN_MIN_IN              int64 \n",
      " 23  TCP_WIN_MIN_OUT             int64 \n",
      " 24  TCP_WIN_MSS_IN              int64 \n",
      " 25  TCP_WIN_MSS_OUT             int64 \n",
      " 26  TCP_WIN_SCALE_IN            int64 \n",
      " 27  TCP_WIN_SCALE_OUT           int64 \n",
      " 28  SRC_TOS                     int64 \n",
      " 29  DST_TOS                     int64 \n",
      " 30  L7_PROTO_NAME               object\n",
      " 31  SAMPLING_INTERVAL           int64 \n",
      " 32  TOTAL_FLOWS_EXP             int64 \n",
      " 33  LABEL                       object\n",
      "dtypes: int64(30), object(4)\n",
      "memory usage: 10.5+ GB\n"
     ]
    }
   ],
   "source": [
    "df_final_prueba.info()"
   ]
  },
  {
   "cell_type": "code",
   "execution_count": 51,
   "id": "c7b3db83",
   "metadata": {},
   "outputs": [],
   "source": [
    "valores = ['UDP Scan', 'NULL Scan', 'XMAS Scan', 'FIN Scan']"
   ]
  },
  {
   "cell_type": "code",
   "execution_count": 52,
   "id": "859af207",
   "metadata": {},
   "outputs": [],
   "source": [
    "df_final_prueba = df_final_prueba[df_final_prueba['LABEL'].isin(valores) == False]"
   ]
  },
  {
   "cell_type": "code",
   "execution_count": 53,
   "id": "f937c7ee",
   "metadata": {},
   "outputs": [
    {
     "name": "stdout",
     "output_type": "stream",
     "text": [
      "<class 'pandas.core.frame.DataFrame'>\n",
      "Int64Index: 39548985 entries, 0 to 26725245\n",
      "Data columns (total 34 columns):\n",
      " #   Column                      Dtype \n",
      "---  ------                      ----- \n",
      " 0   BIFLOW_DIRECTION            int64 \n",
      " 1   DIRECTION                   int64 \n",
      " 2   DST_TO_SRC_SECOND_BYTES     object\n",
      " 3   FIRST_SWITCHED              int64 \n",
      " 4   FLOW_DURATION_MILLISECONDS  int64 \n",
      " 5   FLOW_END_MILLISECONDS       int64 \n",
      " 6   FLOW_ID                     int64 \n",
      " 7   FLOW_START_MILLISECONDS     int64 \n",
      " 8   IN_BYTES                    int64 \n",
      " 9   IN_PKTS                     int64 \n",
      " 10  L4_DST_PORT                 int64 \n",
      " 11  L4_SRC_PORT                 int64 \n",
      " 12  LAST_SWITCHED               int64 \n",
      " 13  OOORDER_IN_PKTS             int64 \n",
      " 14  OOORDER_OUT_PKTS            int64 \n",
      " 15  OUT_BYTES                   int64 \n",
      " 16  OUT_PKTS                    int64 \n",
      " 17  PROTOCOL                    int64 \n",
      " 18  SRC_TO_DST_SECOND_BYTES     object\n",
      " 19  TCP_FLAGS                   int64 \n",
      " 20  TCP_WIN_MAX_IN              int64 \n",
      " 21  TCP_WIN_MAX_OUT             int64 \n",
      " 22  TCP_WIN_MIN_IN              int64 \n",
      " 23  TCP_WIN_MIN_OUT             int64 \n",
      " 24  TCP_WIN_MSS_IN              int64 \n",
      " 25  TCP_WIN_MSS_OUT             int64 \n",
      " 26  TCP_WIN_SCALE_IN            int64 \n",
      " 27  TCP_WIN_SCALE_OUT           int64 \n",
      " 28  SRC_TOS                     int64 \n",
      " 29  DST_TOS                     int64 \n",
      " 30  L7_PROTO_NAME               object\n",
      " 31  SAMPLING_INTERVAL           int64 \n",
      " 32  TOTAL_FLOWS_EXP             int64 \n",
      " 33  LABEL                       object\n",
      "dtypes: int64(30), object(4)\n",
      "memory usage: 10.3+ GB\n"
     ]
    }
   ],
   "source": [
    "df_final_prueba.info()"
   ]
  },
  {
   "cell_type": "code",
   "execution_count": 54,
   "id": "9df9705b",
   "metadata": {},
   "outputs": [
    {
     "data": {
      "text/plain": [
       "Normal flow                       33911170\n",
       "SYN Scan - aggressive              2496814\n",
       "Denial of Service R-U-Dead-Yet     2276947\n",
       "Denial of Service Slowloris         864054\n",
       "Name: LABEL, dtype: int64"
      ]
     },
     "execution_count": 54,
     "metadata": {},
     "output_type": "execute_result"
    }
   ],
   "source": [
    "df_final_prueba['LABEL'].value_counts()"
   ]
  },
  {
   "cell_type": "code",
   "execution_count": 55,
   "id": "879c2c14",
   "metadata": {},
   "outputs": [],
   "source": [
    "df_final = df_final[df_final['LABEL'].isin(valores) == False]"
   ]
  },
  {
   "cell_type": "code",
   "execution_count": 56,
   "id": "1741c558",
   "metadata": {},
   "outputs": [
    {
     "name": "stdout",
     "output_type": "stream",
     "text": [
      "<class 'pandas.core.frame.DataFrame'>\n",
      "Int64Index: 39548985 entries, 0 to 26725245\n",
      "Data columns (total 34 columns):\n",
      " #   Column                      Dtype \n",
      "---  ------                      ----- \n",
      " 0   BIFLOW_DIRECTION            int64 \n",
      " 1   DIRECTION                   int64 \n",
      " 2   DST_TO_SRC_SECOND_BYTES     object\n",
      " 3   FIRST_SWITCHED              int64 \n",
      " 4   FLOW_DURATION_MILLISECONDS  int64 \n",
      " 5   FLOW_END_MILLISECONDS       int64 \n",
      " 6   FLOW_ID                     int64 \n",
      " 7   FLOW_START_MILLISECONDS     int64 \n",
      " 8   IN_BYTES                    int64 \n",
      " 9   IN_PKTS                     int64 \n",
      " 10  L4_DST_PORT                 int64 \n",
      " 11  L4_SRC_PORT                 int64 \n",
      " 12  LAST_SWITCHED               int64 \n",
      " 13  OOORDER_IN_PKTS             int64 \n",
      " 14  OOORDER_OUT_PKTS            int64 \n",
      " 15  OUT_BYTES                   int64 \n",
      " 16  OUT_PKTS                    int64 \n",
      " 17  PROTOCOL                    int64 \n",
      " 18  SRC_TO_DST_SECOND_BYTES     object\n",
      " 19  TCP_FLAGS                   int64 \n",
      " 20  TCP_WIN_MAX_IN              int64 \n",
      " 21  TCP_WIN_MAX_OUT             int64 \n",
      " 22  TCP_WIN_MIN_IN              int64 \n",
      " 23  TCP_WIN_MIN_OUT             int64 \n",
      " 24  TCP_WIN_MSS_IN              int64 \n",
      " 25  TCP_WIN_MSS_OUT             int64 \n",
      " 26  TCP_WIN_SCALE_IN            int64 \n",
      " 27  TCP_WIN_SCALE_OUT           int64 \n",
      " 28  SRC_TOS                     int64 \n",
      " 29  DST_TOS                     int64 \n",
      " 30  L7_PROTO_NAME               object\n",
      " 31  SAMPLING_INTERVAL           int64 \n",
      " 32  TOTAL_FLOWS_EXP             int64 \n",
      " 33  LABEL                       object\n",
      "dtypes: int64(30), object(4)\n",
      "memory usage: 10.3+ GB\n"
     ]
    }
   ],
   "source": [
    "df_final.info()"
   ]
  },
  {
   "cell_type": "code",
   "execution_count": 57,
   "id": "aa74aa2d",
   "metadata": {},
   "outputs": [
    {
     "data": {
      "text/plain": [
       "0     tcp\n",
       "1    icmp\n",
       "2     tcp\n",
       "3     tcp\n",
       "4     tcp\n",
       "5     tcp\n",
       "6     tcp\n",
       "7     tcp\n",
       "8     tcp\n",
       "9     tcp\n",
       "Name: PROTOCOL_MAP, dtype: object"
      ]
     },
     "execution_count": 57,
     "metadata": {},
     "output_type": "execute_result"
    }
   ],
   "source": [
    "df1.PROTOCOL_MAP.head(10)"
   ]
  },
  {
   "cell_type": "code",
   "execution_count": 58,
   "id": "683260a3",
   "metadata": {},
   "outputs": [
    {
     "data": {
      "text/plain": [
       "6     34761812\n",
       "17     4108246\n",
       "1       677715\n",
       "47        1170\n",
       "58          42\n",
       "Name: PROTOCOL, dtype: int64"
      ]
     },
     "execution_count": 58,
     "metadata": {},
     "output_type": "execute_result"
    }
   ],
   "source": [
    "df_final.PROTOCOL.value_counts()"
   ]
  },
  {
   "cell_type": "code",
   "execution_count": 59,
   "id": "706b8c84",
   "metadata": {},
   "outputs": [
    {
     "data": {
      "text/plain": [
       "tcp          2999986\n",
       "udp           508254\n",
       "icmp           62421\n",
       "ipv6-icmp          4\n",
       "gre                1\n",
       "Name: PROTOCOL_MAP, dtype: int64"
      ]
     },
     "execution_count": 59,
     "metadata": {},
     "output_type": "execute_result"
    }
   ],
   "source": [
    "df1.PROTOCOL_MAP.value_counts()"
   ]
  },
  {
   "cell_type": "markdown",
   "id": "15cc5980",
   "metadata": {},
   "source": [
    "### Tabla de protocol \n",
    "\n",
    "1  ->  icmp\n",
    "\n",
    "6  ->  tcp\n",
    "\n",
    "17 ->  udp\n",
    "\n",
    "47 ->  gre\n",
    "\n",
    "58 ->  ipv6-icmp\n",
    "\n",
    "Como solo hay 4 iteraciones de ipv6-icmp y 1 de gre se droppearan las filas"
   ]
  },
  {
   "cell_type": "code",
   "execution_count": 60,
   "id": "ecb60120",
   "metadata": {},
   "outputs": [],
   "source": [
    "valores2 = [47, 58]"
   ]
  },
  {
   "cell_type": "code",
   "execution_count": 61,
   "id": "80d99509",
   "metadata": {},
   "outputs": [],
   "source": [
    "df_final = df_final[df_final['PROTOCOL'].isin(valores2) == False]"
   ]
  },
  {
   "cell_type": "code",
   "execution_count": 62,
   "id": "fd988945",
   "metadata": {
    "scrolled": true
   },
   "outputs": [
    {
     "name": "stdout",
     "output_type": "stream",
     "text": [
      "<class 'pandas.core.frame.DataFrame'>\n",
      "Int64Index: 39547773 entries, 0 to 26725245\n",
      "Data columns (total 34 columns):\n",
      " #   Column                      Dtype \n",
      "---  ------                      ----- \n",
      " 0   BIFLOW_DIRECTION            int64 \n",
      " 1   DIRECTION                   int64 \n",
      " 2   DST_TO_SRC_SECOND_BYTES     object\n",
      " 3   FIRST_SWITCHED              int64 \n",
      " 4   FLOW_DURATION_MILLISECONDS  int64 \n",
      " 5   FLOW_END_MILLISECONDS       int64 \n",
      " 6   FLOW_ID                     int64 \n",
      " 7   FLOW_START_MILLISECONDS     int64 \n",
      " 8   IN_BYTES                    int64 \n",
      " 9   IN_PKTS                     int64 \n",
      " 10  L4_DST_PORT                 int64 \n",
      " 11  L4_SRC_PORT                 int64 \n",
      " 12  LAST_SWITCHED               int64 \n",
      " 13  OOORDER_IN_PKTS             int64 \n",
      " 14  OOORDER_OUT_PKTS            int64 \n",
      " 15  OUT_BYTES                   int64 \n",
      " 16  OUT_PKTS                    int64 \n",
      " 17  PROTOCOL                    int64 \n",
      " 18  SRC_TO_DST_SECOND_BYTES     object\n",
      " 19  TCP_FLAGS                   int64 \n",
      " 20  TCP_WIN_MAX_IN              int64 \n",
      " 21  TCP_WIN_MAX_OUT             int64 \n",
      " 22  TCP_WIN_MIN_IN              int64 \n",
      " 23  TCP_WIN_MIN_OUT             int64 \n",
      " 24  TCP_WIN_MSS_IN              int64 \n",
      " 25  TCP_WIN_MSS_OUT             int64 \n",
      " 26  TCP_WIN_SCALE_IN            int64 \n",
      " 27  TCP_WIN_SCALE_OUT           int64 \n",
      " 28  SRC_TOS                     int64 \n",
      " 29  DST_TOS                     int64 \n",
      " 30  L7_PROTO_NAME               object\n",
      " 31  SAMPLING_INTERVAL           int64 \n",
      " 32  TOTAL_FLOWS_EXP             int64 \n",
      " 33  LABEL                       object\n",
      "dtypes: int64(30), object(4)\n",
      "memory usage: 10.3+ GB\n"
     ]
    }
   ],
   "source": [
    "df_final.info()"
   ]
  },
  {
   "cell_type": "code",
   "execution_count": 64,
   "id": "c4968518",
   "metadata": {},
   "outputs": [
    {
     "data": {
      "text/plain": [
       "Normal flow                       33909958\n",
       "SYN Scan - aggressive              2496814\n",
       "Denial of Service R-U-Dead-Yet     2276947\n",
       "Denial of Service Slowloris         864054\n",
       "Name: LABEL, dtype: int64"
      ]
     },
     "execution_count": 64,
     "metadata": {},
     "output_type": "execute_result"
    }
   ],
   "source": [
    "df_final['LABEL'].value_counts()"
   ]
  },
  {
   "cell_type": "code",
   "execution_count": null,
   "id": "24009279",
   "metadata": {},
   "outputs": [],
   "source": []
  }
 ],
 "metadata": {
  "kernelspec": {
   "display_name": "Python 3 (ipykernel)",
   "language": "python",
   "name": "python3"
  },
  "language_info": {
   "codemirror_mode": {
    "name": "ipython",
    "version": 3
   },
   "file_extension": ".py",
   "mimetype": "text/x-python",
   "name": "python",
   "nbconvert_exporter": "python",
   "pygments_lexer": "ipython3",
   "version": "3.9.7"
  }
 },
 "nbformat": 4,
 "nbformat_minor": 5
}
