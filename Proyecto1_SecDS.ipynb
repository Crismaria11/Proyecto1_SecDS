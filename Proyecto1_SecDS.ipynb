{
 "cells": [
  {
   "cell_type": "markdown",
   "id": "e381cecf",
   "metadata": {},
   "source": [
    "# Proyecto 1\n",
    "#### Cristina Bautista - 161260\n",
    "#### Abril Palencia - 18198 "
   ]
  },
  {
   "cell_type": "code",
   "execution_count": null,
   "id": "7ae829a9",
   "metadata": {},
   "outputs": [],
   "source": [
    "import pandas as pd\n",
    "import numpy as np\n",
    "import matplotlib.pyplot as plt\n",
    "import seaborn as sns\n",
    "from urllib.parse import urlparse\n",
    "# from pandas_profiling import ProfileReport\n",
    "import re\n",
    "\n",
    "\n",
    "%matplotlib inline"
   ]
  },
  {
   "cell_type": "code",
   "execution_count": null,
   "id": "98215d31",
   "metadata": {},
   "outputs": [],
   "source": [
    "df1 = pd.read_csv('dataset/dataset-part1.csv')\n",
    "df2 = pd.read_csv('dataset/dataset-part2.csv')\n",
    "df3 = pd.read_csv('dataset/dataset-part3.csv')\n",
    "df4 = pd.read_csv('dataset/dataset-part4.csv')"
   ]
  },
  {
   "cell_type": "code",
   "execution_count": null,
   "id": "0ea1adec",
   "metadata": {},
   "outputs": [],
   "source": [
    "df1"
   ]
  },
  {
   "cell_type": "code",
   "execution_count": null,
   "id": "389c9184",
   "metadata": {},
   "outputs": [],
   "source": [
    "df1.info()"
   ]
  },
  {
   "cell_type": "code",
   "execution_count": null,
   "id": "fc4a9bd8",
   "metadata": {},
   "outputs": [],
   "source": [
    "len(df1)"
   ]
  },
  {
   "cell_type": "code",
   "execution_count": null,
   "id": "e75d02c5",
   "metadata": {},
   "outputs": [],
   "source": [
    "df2.info()"
   ]
  },
  {
   "cell_type": "code",
   "execution_count": null,
   "id": "bca4b5ad",
   "metadata": {},
   "outputs": [],
   "source": [
    "df3.info()"
   ]
  },
  {
   "cell_type": "code",
   "execution_count": null,
   "id": "e296b6fb",
   "metadata": {},
   "outputs": [],
   "source": [
    "df4.info()"
   ]
  },
  {
   "cell_type": "markdown",
   "id": "f8abc881",
   "metadata": {},
   "source": [
    "### Muestras de los datas sets \n",
    "\n",
    "Debido a que los datasets son pesados, y los recursos de las máquinas más limitados se hará un muestreo de una quinta parte de cada dataset"
   ]
  },
  {
   "cell_type": "code",
   "execution_count": null,
   "id": "82a392bf",
   "metadata": {},
   "outputs": [],
   "source": [
    "# len(df1)/5"
   ]
  },
  {
   "cell_type": "code",
   "execution_count": null,
   "id": "816c1292",
   "metadata": {},
   "outputs": [],
   "source": [
    "# df1M = df1.sample(n = 142826)"
   ]
  },
  {
   "cell_type": "code",
   "execution_count": null,
   "id": "af553660",
   "metadata": {},
   "outputs": [],
   "source": [
    "#df1 = pd.DataFrame(df1M)"
   ]
  },
  {
   "cell_type": "code",
   "execution_count": null,
   "id": "3c3b1bab",
   "metadata": {},
   "outputs": [],
   "source": [
    "# len(df2)/10"
   ]
  },
  {
   "cell_type": "code",
   "execution_count": null,
   "id": "4d3ba1db",
   "metadata": {},
   "outputs": [],
   "source": [
    "# df2M = df2.sample(n = 172744)"
   ]
  },
  {
   "cell_type": "code",
   "execution_count": null,
   "id": "7b823b89",
   "metadata": {},
   "outputs": [],
   "source": [
    "#df2 = pd.DataFrame(df2M)"
   ]
  },
  {
   "cell_type": "code",
   "execution_count": null,
   "id": "0516bc1c",
   "metadata": {},
   "outputs": [],
   "source": [
    "# len(df3)/10"
   ]
  },
  {
   "cell_type": "code",
   "execution_count": null,
   "id": "7bada240",
   "metadata": {},
   "outputs": [],
   "source": [
    "# df3M = df3.sample(n = 133069)"
   ]
  },
  {
   "cell_type": "code",
   "execution_count": null,
   "id": "04b8a7d1",
   "metadata": {},
   "outputs": [],
   "source": [
    "#df3 = pd.DataFrame(df3M)"
   ]
  },
  {
   "cell_type": "code",
   "execution_count": null,
   "id": "d3375ea2",
   "metadata": {},
   "outputs": [],
   "source": [
    "# len(df4)/15"
   ]
  },
  {
   "cell_type": "code",
   "execution_count": null,
   "id": "4b20f043",
   "metadata": {},
   "outputs": [],
   "source": [
    "# df4M = df4.sample(n = 178168)"
   ]
  },
  {
   "cell_type": "code",
   "execution_count": null,
   "id": "0fc1de16",
   "metadata": {},
   "outputs": [],
   "source": [
    "#df4 = pd.DataFrame(df4M)"
   ]
  },
  {
   "cell_type": "code",
   "execution_count": null,
   "id": "0d116f47",
   "metadata": {},
   "outputs": [],
   "source": [
    "df_final = pd.concat([df1, df2, df3, df4])"
   ]
  },
  {
   "cell_type": "code",
   "execution_count": null,
   "id": "2309beb6",
   "metadata": {},
   "outputs": [],
   "source": [
    "df_final"
   ]
  },
  {
   "cell_type": "code",
   "execution_count": null,
   "id": "a4ef53ea",
   "metadata": {},
   "outputs": [],
   "source": [
    "df_final.info()"
   ]
  },
  {
   "cell_type": "code",
   "execution_count": null,
   "id": "b791b8a6",
   "metadata": {},
   "outputs": [],
   "source": [
    "df_final.DIRECTION.nunique()"
   ]
  },
  {
   "cell_type": "code",
   "execution_count": null,
   "id": "b4aa61b5",
   "metadata": {},
   "outputs": [],
   "source": [
    "np.unique(df_final[['DIRECTION']])"
   ]
  },
  {
   "cell_type": "code",
   "execution_count": null,
   "id": "ae8adf14",
   "metadata": {},
   "outputs": [],
   "source": [
    "df_final.FIREWALL_EVENT.nunique()"
   ]
  },
  {
   "cell_type": "code",
   "execution_count": null,
   "id": "d2da1501",
   "metadata": {},
   "outputs": [],
   "source": [
    "df_final.FLOW_ACTIVE_TIMEOUT.nunique()"
   ]
  },
  {
   "cell_type": "code",
   "execution_count": null,
   "id": "e3c83f04",
   "metadata": {},
   "outputs": [],
   "source": [
    "df_final.FRAME_LENGTH.nunique()"
   ]
  },
  {
   "cell_type": "code",
   "execution_count": null,
   "id": "2500b245",
   "metadata": {},
   "outputs": [],
   "source": [
    "df_final.MAX_IP_PKT_LEN.nunique()"
   ]
  },
  {
   "cell_type": "code",
   "execution_count": null,
   "id": "054c8be0",
   "metadata": {},
   "outputs": [],
   "source": [
    "df_final.MIN_IP_PKT_LEN.nunique()"
   ]
  },
  {
   "cell_type": "code",
   "execution_count": null,
   "id": "344d1068",
   "metadata": {},
   "outputs": [],
   "source": [
    "len(np.unique(df_final[['L7_PROTO_NAME']]))"
   ]
  },
  {
   "cell_type": "code",
   "execution_count": null,
   "id": "7f1d8e7b",
   "metadata": {},
   "outputs": [],
   "source": [
    "df_final = df_final.drop(['FIREWALL_EVENT', 'FLOW_ACTIVE_TIMEOUT', 'FLOW_DURATION_MICROSECONDS', 'FLOW_END_SEC', \n",
    "                          'FLOW_INACTIVE_TIMEOUT', 'FLOW_START_SEC', 'FRAME_LENGTH', 'IPV4_DST_ADDR', \n",
    "                          'IPV4_SRC_ADDR', 'MAX_IP_PKT_LEN', 'MAX_IP_PKT_LEN', 'MIN_IP_PKT_LEN', 'PROTOCOL_MAP', \n",
    "                          'RETRANSMITTED_IN_BYTES', 'RETRANSMITTED_IN_PKTS', 'RETRANSMITTED_OUT_BYTES', \n",
    "                          'RETRANSMITTED_OUT_PKTS', 'DST_TO_SRC_SECOND_BYTES', 'SRC_TO_DST_SECOND_BYTES', \n",
    "                          'L7_PROTO_NAME'], 1)"
   ]
  },
  {
   "cell_type": "code",
   "execution_count": null,
   "id": "5249ba6a",
   "metadata": {},
   "outputs": [],
   "source": [
    "# df_final = df_final.drop([''], 1)"
   ]
  },
  {
   "cell_type": "code",
   "execution_count": null,
   "id": "b68e9f2e",
   "metadata": {},
   "outputs": [],
   "source": [
    "df_final.info()"
   ]
  },
  {
   "cell_type": "code",
   "execution_count": null,
   "id": "97737832",
   "metadata": {},
   "outputs": [],
   "source": [
    "len(np.unique(df_final[['LABEL']]))"
   ]
  },
  {
   "cell_type": "code",
   "execution_count": null,
   "id": "8310eedf",
   "metadata": {},
   "outputs": [],
   "source": [
    "np.unique(df_final[['LABEL']])"
   ]
  },
  {
   "cell_type": "code",
   "execution_count": null,
   "id": "567cc1d8",
   "metadata": {},
   "outputs": [],
   "source": [
    "len(np.unique(df_final[['TCP_WIN_MAX_IN']]))"
   ]
  },
  {
   "cell_type": "code",
   "execution_count": null,
   "id": "295f55bc",
   "metadata": {},
   "outputs": [],
   "source": [
    "df_final['TCP_WIN_MAX_IN']"
   ]
  },
  {
   "cell_type": "markdown",
   "id": "fffacffc",
   "metadata": {},
   "source": [
    "#### Averiguar cuantas muestrar por label"
   ]
  },
  {
   "cell_type": "code",
   "execution_count": null,
   "id": "e2da09b5",
   "metadata": {},
   "outputs": [],
   "source": [
    "df_final['LABEL'].value_counts()"
   ]
  },
  {
   "cell_type": "code",
   "execution_count": null,
   "id": "72f2a2b4",
   "metadata": {},
   "outputs": [],
   "source": [
    "df_final.duplicated().sum()"
   ]
  },
  {
   "cell_type": "code",
   "execution_count": null,
   "id": "deee4511",
   "metadata": {},
   "outputs": [],
   "source": [
    "# df_final_prueba = df_final"
   ]
  },
  {
   "cell_type": "code",
   "execution_count": null,
   "id": "7960eb1f",
   "metadata": {},
   "outputs": [],
   "source": [
    "# df_final_prueba.info()"
   ]
  },
  {
   "cell_type": "code",
   "execution_count": null,
   "id": "f6d7b292",
   "metadata": {},
   "outputs": [],
   "source": [
    "valores = ['UDP Scan', 'NULL Scan', 'XMAS Scan', 'FIN Scan']"
   ]
  },
  {
   "cell_type": "code",
   "execution_count": null,
   "id": "32b321ce",
   "metadata": {},
   "outputs": [],
   "source": [
    "# df_final_prueba = df_final_prueba[df_final_prueba['LABEL'].isin(valores) == False]"
   ]
  },
  {
   "cell_type": "code",
   "execution_count": null,
   "id": "2eab27b2",
   "metadata": {},
   "outputs": [],
   "source": [
    "# df_final_prueba.info()"
   ]
  },
  {
   "cell_type": "code",
   "execution_count": null,
   "id": "02f7d048",
   "metadata": {},
   "outputs": [],
   "source": [
    "# df_final_prueba['LABEL'].value_counts()"
   ]
  },
  {
   "cell_type": "code",
   "execution_count": null,
   "id": "18d345b8",
   "metadata": {},
   "outputs": [],
   "source": [
    "df_final = df_final[df_final['LABEL'].isin(valores) == False]"
   ]
  },
  {
   "cell_type": "code",
   "execution_count": null,
   "id": "cc36c5ff",
   "metadata": {},
   "outputs": [],
   "source": [
    "df_final.info()"
   ]
  },
  {
   "cell_type": "code",
   "execution_count": null,
   "id": "4214923c",
   "metadata": {},
   "outputs": [],
   "source": [
    "df1.PROTOCOL_MAP.head(10)"
   ]
  },
  {
   "cell_type": "code",
   "execution_count": null,
   "id": "d91b2ea2",
   "metadata": {},
   "outputs": [],
   "source": [
    "df_final.PROTOCOL.value_counts()"
   ]
  },
  {
   "cell_type": "code",
   "execution_count": null,
   "id": "f3410025",
   "metadata": {},
   "outputs": [],
   "source": [
    "df1.PROTOCOL_MAP.value_counts()"
   ]
  },
  {
   "cell_type": "markdown",
   "id": "2e50b4f1",
   "metadata": {},
   "source": [
    "### Tabla de protocol \n",
    "\n",
    "1  ->  icmp\n",
    "\n",
    "6  ->  tcp\n",
    "\n",
    "17 ->  udp\n",
    "\n",
    "47 ->  gre\n",
    "\n",
    "58 ->  ipv6-icmp\n",
    "\n",
    "Como solo hay 4 iteraciones de ipv6-icmp y 1 de gre se droppearan las filas"
   ]
  },
  {
   "cell_type": "code",
   "execution_count": null,
   "id": "27ea4426",
   "metadata": {},
   "outputs": [],
   "source": [
    "valores2 = [47, 58]"
   ]
  },
  {
   "cell_type": "code",
   "execution_count": null,
   "id": "57ece84d",
   "metadata": {},
   "outputs": [],
   "source": [
    "df_final = df_final[df_final['PROTOCOL'].isin(valores2) == False]"
   ]
  },
  {
   "cell_type": "code",
   "execution_count": null,
   "id": "e94b879e",
   "metadata": {
    "scrolled": true
   },
   "outputs": [],
   "source": [
    "df_final.info()"
   ]
  },
  {
   "cell_type": "code",
   "execution_count": null,
   "id": "3cec9a9f",
   "metadata": {},
   "outputs": [],
   "source": [
    "df_final['LABEL'].value_counts()"
   ]
  },
  {
   "cell_type": "code",
   "execution_count": null,
   "id": "82b6bb7e",
   "metadata": {},
   "outputs": [],
   "source": [
    "df_final.shape"
   ]
  },
  {
   "cell_type": "code",
   "execution_count": null,
   "id": "63059c73",
   "metadata": {},
   "outputs": [],
   "source": [
    "from collections import Counter"
   ]
  },
  {
   "cell_type": "code",
   "execution_count": null,
   "id": "ed0e2365",
   "metadata": {},
   "outputs": [],
   "source": [
    "sorted(Counter(df_final['LABEL']).items())"
   ]
  },
  {
   "cell_type": "code",
   "execution_count": null,
   "id": "7a0f33b9",
   "metadata": {},
   "outputs": [],
   "source": [
    "df_final['LABEL'].replace({\"Normal flow\": 0, \"Denial of Service R-U-Dead-Yet\": 1,\n",
    "                          \"Denial of Service Slowloris\": 2, \"SYN Scan - aggressive\": 3}, inplace=True)"
   ]
  },
  {
   "cell_type": "code",
   "execution_count": null,
   "id": "532df041",
   "metadata": {},
   "outputs": [],
   "source": [
    "df_final['LABEL']"
   ]
  },
  {
   "cell_type": "code",
   "execution_count": null,
   "id": "ccf68732",
   "metadata": {},
   "outputs": [],
   "source": [
    "# df_final['DST_TO_SRC_SECOND_BYTES']"
   ]
  },
  {
   "cell_type": "code",
   "execution_count": null,
   "id": "0ea94fe1",
   "metadata": {},
   "outputs": [],
   "source": [
    "# df_final['SRC_TO_DST_SECOND_BYTES']"
   ]
  },
  {
   "cell_type": "code",
   "execution_count": null,
   "id": "b680c29e",
   "metadata": {},
   "outputs": [],
   "source": [
    "# df_final = df_final.drop(['DST_TO_SRC_SECOND_BYTES', 'SRC_TO_DST_SECOND_BYTES'], 1)"
   ]
  },
  {
   "cell_type": "code",
   "execution_count": null,
   "id": "33afaf22",
   "metadata": {},
   "outputs": [],
   "source": [
    "df_final.info()"
   ]
  },
  {
   "cell_type": "code",
   "execution_count": null,
   "id": "b91fb578",
   "metadata": {},
   "outputs": [],
   "source": [
    "# df_final_prueba = df_final.sample(n = 1000000)"
   ]
  },
  {
   "cell_type": "code",
   "execution_count": null,
   "id": "a3ef7f4f",
   "metadata": {},
   "outputs": [],
   "source": [
    "# df_final['L7_PROTO_NAME']"
   ]
  },
  {
   "cell_type": "code",
   "execution_count": null,
   "id": "114cc2a2",
   "metadata": {},
   "outputs": [],
   "source": [
    "# slowloris = df_final[df_final['LABEL'] == 2]\n",
    "# denial_dead = df_final[df_final['LABEL'] == 1]"
   ]
  },
  {
   "cell_type": "code",
   "execution_count": null,
   "id": "95b38b28",
   "metadata": {},
   "outputs": [],
   "source": [
    "# slowloris1 = slowloris['LABEL']\n",
    "# slowloris2 = slowloris['PROTOCOL']\n",
    "# denial_dead1 = denial_dead['LABEL']\n",
    "# denial_dead2 = denial_dead['PROTOCOL']"
   ]
  },
  {
   "cell_type": "code",
   "execution_count": null,
   "id": "0c6e16bc",
   "metadata": {},
   "outputs": [],
   "source": [
    "# slowloris = slowloris1 + slowloris2\n",
    "# denial_dead = denial_dead1 + denial_dead2 #denial_dead['LABEL']"
   ]
  },
  {
   "cell_type": "code",
   "execution_count": null,
   "id": "0f9689f1",
   "metadata": {},
   "outputs": [],
   "source": [
    "# slowloris = pd.DataFrame(slowloris)\n",
    "# denial_dead = pd.DataFrame(denial_dead)"
   ]
  },
  {
   "cell_type": "code",
   "execution_count": null,
   "id": "a3e76986",
   "metadata": {},
   "outputs": [],
   "source": [
    "# type(slowloris) #= [slowloris]\n",
    "# type(denial_dead) # denial_dead = [denial_dead]"
   ]
  },
  {
   "cell_type": "code",
   "execution_count": null,
   "id": "536e617e",
   "metadata": {},
   "outputs": [],
   "source": [
    "# slowloris.shape, denial_dead.shape # denial_dead = np.reshape(1, 2)"
   ]
  },
  {
   "cell_type": "code",
   "execution_count": null,
   "id": "b69aeaa6",
   "metadata": {},
   "outputs": [],
   "source": [
    "# slowloris.shape"
   ]
  },
  {
   "cell_type": "markdown",
   "id": "778862a0",
   "metadata": {},
   "source": [
    "## Desde aqui probar si funciona "
   ]
  },
  {
   "cell_type": "code",
   "execution_count": 2,
   "id": "ad878619",
   "metadata": {},
   "outputs": [],
   "source": [
    "sorted(Counter(df_final['LABEL']).items())"
   ]
  },
  {
   "cell_type": "code",
   "execution_count": null,
   "id": "ad40352c",
   "metadata": {},
   "outputs": [],
   "source": [
    "pd.value_counts(df_final_prueba['LABEL']).plot.bar()\n",
    "plt.title('Label s histogram')\n",
    "plt.xlabel('Labels')\n",
    "plt.ylabel('Frequency')\n",
    "df_final_prueba['LABEL'].value_counts()"
   ]
  },
  {
   "cell_type": "code",
   "execution_count": null,
   "id": "9b69a20c",
   "metadata": {},
   "outputs": [],
   "source": [
    "X = df_final_prueba\n",
    "y = df_final_prueba[['LABEL']]\n",
    "X.drop(['LABEL'], axis=1)"
   ]
  },
  {
   "cell_type": "code",
   "execution_count": null,
   "id": "7086d6fc",
   "metadata": {},
   "outputs": [],
   "source": [
    "X.shape, y.shape"
   ]
  },
  {
   "cell_type": "markdown",
   "id": "ea4a331c",
   "metadata": {},
   "source": [
    "### Esta balanceado? "
   ]
  },
  {
   "cell_type": "code",
   "execution_count": null,
   "id": "42e0bb49",
   "metadata": {},
   "outputs": [],
   "source": [
    "y.value_counts()"
   ]
  },
  {
   "cell_type": "code",
   "execution_count": null,
   "id": "e361371e",
   "metadata": {},
   "outputs": [],
   "source": [
    "from imblearn import over_sampling\n",
    "from imblearn.over_sampling import RandomOverSampler "
   ]
  },
  {
   "cell_type": "code",
   "execution_count": null,
   "id": "7cbea8b1",
   "metadata": {},
   "outputs": [],
   "source": [
    "ros = RandomOverSampler(random_state=5)\n",
    "X_resample, y_resample = ros.fit_resample(X, y)"
   ]
  },
  {
   "cell_type": "code",
   "execution_count": null,
   "id": "ef6fa6c2",
   "metadata": {},
   "outputs": [],
   "source": [
    "y_resample.value_counts()"
   ]
  },
  {
   "cell_type": "code",
   "execution_count": null,
   "id": "c92c559e",
   "metadata": {},
   "outputs": [],
   "source": []
  },
  {
   "cell_type": "code",
   "execution_count": null,
   "id": "b0972f6d",
   "metadata": {},
   "outputs": [],
   "source": []
  }
 ],
 "metadata": {
  "kernelspec": {
   "display_name": "Python 3 (ipykernel)",
   "language": "python",
   "name": "python3"
  },
  "language_info": {
   "codemirror_mode": {
    "name": "ipython",
    "version": 3
   },
   "file_extension": ".py",
   "mimetype": "text/x-python",
   "name": "python",
   "nbconvert_exporter": "python",
   "pygments_lexer": "ipython3",
   "version": "3.9.6"
  }
 },
 "nbformat": 4,
 "nbformat_minor": 5
}
